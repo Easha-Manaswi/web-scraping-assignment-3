{
 "cells": [
  {
   "cell_type": "code",
   "execution_count": 1,
   "metadata": {},
   "outputs": [],
   "source": [
    "#question 1 and 2\n"
   ]
  },
  {
   "cell_type": "code",
   "execution_count": 75,
   "metadata": {},
   "outputs": [],
   "source": [
    "import pandas as pd\n",
    "from bs4 import BeautifulSoup\n",
    "import requests\n",
    "import selenium\n",
    "from selenium import webdriver\n",
    "import time"
   ]
  },
  {
   "cell_type": "code",
   "execution_count": 94,
   "metadata": {},
   "outputs": [],
   "source": [
    "driver=webdriver.Chrome(\"Desktop/chromedriver.exe\")"
   ]
  },
  {
   "cell_type": "code",
   "execution_count": 95,
   "metadata": {},
   "outputs": [],
   "source": [
    "driver.get(\"https://www.amazon.co.in/\")"
   ]
  },
  {
   "cell_type": "code",
   "execution_count": 96,
   "metadata": {},
   "outputs": [],
   "source": [
    "search_mobiles=driver.find_element_by_xpath(\"//*[@id='twotabsearchtextbox']\")\n",
    "search_mobiles.send_keys(\"mobiles\")"
   ]
  },
  {
   "cell_type": "code",
   "execution_count": 97,
   "metadata": {},
   "outputs": [],
   "source": [
    "search_btn=driver.find_element_by_xpath(\"//*[@id='nav-search-submit-button']\")\n",
    "search_btn.click()"
   ]
  },
  {
   "cell_type": "code",
   "execution_count": 98,
   "metadata": {},
   "outputs": [],
   "source": [
    "Brand_name=[]\n",
    "Name_of_the_product=[]\n",
    "Price=[]\n",
    "Expected_Delivery=[]\n",
    "Availability=[]"
   ]
  },
  {
   "cell_type": "code",
   "execution_count": 99,
   "metadata": {},
   "outputs": [],
   "source": [
    "def amazon_mob(url):\n",
    "    start_page=0\n",
    "    end_page=3"
   ]
  },
  {
   "cell_type": "code",
   "execution_count": 100,
   "metadata": {},
   "outputs": [
    {
     "data": {
      "text/plain": [
       "['Samsung']"
      ]
     },
     "execution_count": 100,
     "metadata": {},
     "output_type": "execute_result"
    }
   ],
   "source": [
    "Title_tag=driver.find_elements_by_xpath(\"//*[@id='p_89/Samsung']/span/a/span\")\n",
    "for i in Title_tag:\n",
    "    Brand_name.append(i.text[0:10])\n",
    "Brand_name[0:9]"
   ]
  },
  {
   "cell_type": "code",
   "execution_count": 101,
   "metadata": {},
   "outputs": [
    {
     "data": {
      "text/plain": [
       "['Samsung Galaxy M02 (Red,3GB RAM, 32GB St']"
      ]
     },
     "execution_count": 101,
     "metadata": {},
     "output_type": "execute_result"
    }
   ],
   "source": [
    "Title_tag=driver.find_elements_by_xpath(\"//*[@id='productTitle']\")\n",
    "for i in Title_tag:\n",
    "    Name_of_the_product.append(i.text[0:40])\n",
    "Name_of_the_product[0:9]"
   ]
  },
  {
   "cell_type": "code",
   "execution_count": 104,
   "metadata": {},
   "outputs": [
    {
     "data": {
      "text/plain": [
       "['₹ 7,499.0']"
      ]
     },
     "execution_count": 104,
     "metadata": {},
     "output_type": "execute_result"
    }
   ],
   "source": [
    "Title_tag=driver.find_elements_by_xpath(\"//*[@id='priceblock_ourprice']\")\n",
    "for i in Title_tag:\n",
    "    Price.append(i.text[0:9])\n",
    "Price[0:9]"
   ]
  },
  {
   "cell_type": "code",
   "execution_count": 105,
   "metadata": {},
   "outputs": [
    {
     "data": {
      "text/plain": [
       "['Tuesday, March 2']"
      ]
     },
     "execution_count": 105,
     "metadata": {},
     "output_type": "execute_result"
    }
   ],
   "source": [
    "Title_tag=driver.find_elements_by_xpath(\"//*[@id='ddmDeliveryMessage']/b\")\n",
    "for i in Title_tag:\n",
    "     Expected_Delivery.append(i.text[0:20])\n",
    "Expected_Delivery[0:9]"
   ]
  },
  {
   "cell_type": "code",
   "execution_count": 106,
   "metadata": {},
   "outputs": [
    {
     "data": {
      "text/plain": [
       "['In stock.']"
      ]
     },
     "execution_count": 106,
     "metadata": {},
     "output_type": "execute_result"
    }
   ],
   "source": [
    "Title_tag=driver.find_elements_by_xpath(\"//*[@id='availability']/span\")\n",
    "for i in Title_tag:\n",
    "     Availability.append(i.text[0:10])\n",
    "Availability[0:9]"
   ]
  },
  {
   "cell_type": "code",
   "execution_count": 114,
   "metadata": {},
   "outputs": [],
   "source": [
    "import pandas as pd\n",
    "amazon_mobiles=pd.DataFrame()\n",
    "amazon_mobiles['Brand_name']=Brand_name[0:9]\n",
    "amazon_mobiles['Name_of_the_product']=Name_of_the_product[0:9]\n",
    "amazon_mobiles['Price']=Price[0:9]\n",
    "amazon_mobiles['Availability']=Availability[0:9]\n",
    "amazon_mobiles['Expected_Delivery']=Expected_Delivery[0:9]\n",
    "\n"
   ]
  },
  {
   "cell_type": "code",
   "execution_count": 115,
   "metadata": {},
   "outputs": [
    {
     "data": {
      "text/html": [
       "<div>\n",
       "<style scoped>\n",
       "    .dataframe tbody tr th:only-of-type {\n",
       "        vertical-align: middle;\n",
       "    }\n",
       "\n",
       "    .dataframe tbody tr th {\n",
       "        vertical-align: top;\n",
       "    }\n",
       "\n",
       "    .dataframe thead th {\n",
       "        text-align: right;\n",
       "    }\n",
       "</style>\n",
       "<table border=\"1\" class=\"dataframe\">\n",
       "  <thead>\n",
       "    <tr style=\"text-align: right;\">\n",
       "      <th></th>\n",
       "      <th>Brand_name</th>\n",
       "      <th>Name_of_the_product</th>\n",
       "      <th>Price</th>\n",
       "      <th>Availability</th>\n",
       "      <th>Expected_Delivery</th>\n",
       "    </tr>\n",
       "  </thead>\n",
       "  <tbody>\n",
       "    <tr>\n",
       "      <th>0</th>\n",
       "      <td>Samsung</td>\n",
       "      <td>Samsung Galaxy M02 (Red,3GB RAM, 32GB St</td>\n",
       "      <td>₹ 7,499.0</td>\n",
       "      <td>In stock.</td>\n",
       "      <td>Tuesday, March 2</td>\n",
       "    </tr>\n",
       "  </tbody>\n",
       "</table>\n",
       "</div>"
      ],
      "text/plain": [
       "  Brand_name                       Name_of_the_product      Price  \\\n",
       "0    Samsung  Samsung Galaxy M02 (Red,3GB RAM, 32GB St  ₹ 7,499.0   \n",
       "\n",
       "  Availability Expected_Delivery  \n",
       "0    In stock.  Tuesday, March 2  "
      ]
     },
     "execution_count": 115,
     "metadata": {},
     "output_type": "execute_result"
    }
   ],
   "source": [
    "amazon_mobiles"
   ]
  },
  {
   "cell_type": "code",
   "execution_count": 8,
   "metadata": {},
   "outputs": [],
   "source": [
    "#question 3"
   ]
  },
  {
   "cell_type": "code",
   "execution_count": 9,
   "metadata": {},
   "outputs": [],
   "source": [
    "import pandas as pd\n",
    "from bs4 import BeautifulSoup\n",
    "import requests\n",
    "import selenium\n",
    "from selenium import webdriver\n",
    "import time"
   ]
  },
  {
   "cell_type": "code",
   "execution_count": 10,
   "metadata": {},
   "outputs": [],
   "source": [
    "driver=webdriver.Chrome(\"Desktop/chromedriver.exe\")"
   ]
  },
  {
   "cell_type": "code",
   "execution_count": 11,
   "metadata": {},
   "outputs": [],
   "source": [
    "driver.get(\"https://images.google.com/\")"
   ]
  },
  {
   "cell_type": "code",
   "execution_count": 12,
   "metadata": {},
   "outputs": [],
   "source": [
    "url=\"https://images.google.com/\""
   ]
  },
  {
   "cell_type": "code",
   "execution_count": 13,
   "metadata": {},
   "outputs": [],
   "source": [
    "driver.get(url)"
   ]
  },
  {
   "cell_type": "code",
   "execution_count": 14,
   "metadata": {},
   "outputs": [],
   "source": [
    "search_fruits=driver.find_element_by_xpath(\"//*[@id='sbtc']/div/div[2]/input\")\n",
    "search_fruits.send_keys(\"fruits\")\n"
   ]
  },
  {
   "cell_type": "code",
   "execution_count": 15,
   "metadata": {},
   "outputs": [],
   "source": [
    "search_btn=driver.find_element_by_xpath(\"//span[@class='z1asCe MZy1Rb']\")\n",
    "search_btn.click()"
   ]
  },
  {
   "cell_type": "code",
   "execution_count": 16,
   "metadata": {},
   "outputs": [],
   "source": [
    "page=requests.get(\"https://www.google.com/search?tbm=isch&source=hp&biw=1036&bih=674&ei=NX06YJLBNtKe4-EPh4eSsAo&q=fruits&oq=fruits&gs_lcp=CgNpbWcQDDIICAAQsQMQgwEyBQgAELEDMggIABCxAxCDATIICAAQsQMQgwEyBQgAELEDMgUIABCxAzIFCAAQsQMyBQgAELEDMgUIABCxAzIFCAAQsQNQkRhYvhhg9CRoAHAAeAGAAcsDiAGvDJIBBTMtMy4xmAEAoAEBqgELZ3dzLXdpei1pbWc&sclient=img&ved=0ahUKEwjSr77Ix4rvAhVSzzgGHYeDBKYQ4dUDCAc\")"
   ]
  },
  {
   "cell_type": "code",
   "execution_count": 17,
   "metadata": {},
   "outputs": [],
   "source": [
    "soup=BeautifulSoup(page.content,'html.parser')"
   ]
  },
  {
   "cell_type": "code",
   "execution_count": 19,
   "metadata": {},
   "outputs": [
    {
     "name": "stdout",
     "output_type": "stream",
     "text": [
      "https://www.google.com/imgres?imgurl=https%3A%2F%2Fwww.healthyeating.org%2Fimages%2Fdefault-source%2Fhome-0.0%2Fnutrition-topics-2.0%2Fgeneral-nutrition-wellness%2F2-2-2-3foodgroups_fruits_detailfeature_thumb.jpg%3Fsfvrsn%3D7abe71fe_4&imgrefurl=https%3A%2F%2Fwww.healthyeating.org%2FHealthy-Eating%2FAll-Star-Foods%2FFruits&tbnid=12LB6t-_YQapMM&vet=12ahUKEwj89P_r-IzvAhWnx3MBHRxpB6UQMygAegUIARDPAQ..i&docid=_XVIsgIH8atHaM&w=700&h=426&q=fruits&ved=2ahUKEwj89P_r-IzvAhWnx3MBHRxpB6UQMygAegUIARDPAQ\n",
      "https://www.google.com/imgres?imgurl=https%3A%2F%2Fwww.healthyeating.org%2Fimages%2Fdefault-source%2Fhome-0.0%2Fnutrition-topics-2.0%2Fgeneral-nutrition-wellness%2F2-2-2-3foodgroups_fruits_detailfeature_thumb.jpg%3Fsfvrsn%3D7abe71fe_4&imgrefurl=https%3A%2F%2Fwww.healthyeating.org%2FHealthy-Eating%2FAll-Star-Foods%2FFruits&tbnid=12LB6t-_YQapMM&vet=12ahUKEwj89P_r-IzvAhWnx3MBHRxpB6UQMygAegUIARDPAQ..i&docid=_XVIsgIH8atHaM&w=700&h=426&q=fruits&ved=2ahUKEwj89P_r-IzvAhWnx3MBHRxpB6UQMygAegUIARDPAQ\n",
      "https://www.google.com/imgres?imgurl=https%3A%2F%2Fwww.healthyeating.org%2Fimages%2Fdefault-source%2Fhome-0.0%2Fnutrition-topics-2.0%2Fgeneral-nutrition-wellness%2F2-2-2-3foodgroups_fruits_detailfeature_thumb.jpg%3Fsfvrsn%3D7abe71fe_4&imgrefurl=https%3A%2F%2Fwww.healthyeating.org%2FHealthy-Eating%2FAll-Star-Foods%2FFruits&tbnid=12LB6t-_YQapMM&vet=12ahUKEwj89P_r-IzvAhWnx3MBHRxpB6UQMygAegUIARDPAQ..i&docid=_XVIsgIH8atHaM&w=700&h=426&q=fruits&ved=2ahUKEwj89P_r-IzvAhWnx3MBHRxpB6UQMygAegUIARDPAQ\n",
      "https://www.google.com/imgres?imgurl=https%3A%2F%2Fwww.healthyeating.org%2Fimages%2Fdefault-source%2Fhome-0.0%2Fnutrition-topics-2.0%2Fgeneral-nutrition-wellness%2F2-2-2-3foodgroups_fruits_detailfeature_thumb.jpg%3Fsfvrsn%3D7abe71fe_4&imgrefurl=https%3A%2F%2Fwww.healthyeating.org%2FHealthy-Eating%2FAll-Star-Foods%2FFruits&tbnid=12LB6t-_YQapMM&vet=12ahUKEwj89P_r-IzvAhWnx3MBHRxpB6UQMygAegUIARDPAQ..i&docid=_XVIsgIH8atHaM&w=700&h=426&q=fruits&ved=2ahUKEwj89P_r-IzvAhWnx3MBHRxpB6UQMygAegUIARDPAQ\n",
      "https://www.google.com/imgres?imgurl=https%3A%2F%2Fwww.healthyeating.org%2Fimages%2Fdefault-source%2Fhome-0.0%2Fnutrition-topics-2.0%2Fgeneral-nutrition-wellness%2F2-2-2-3foodgroups_fruits_detailfeature_thumb.jpg%3Fsfvrsn%3D7abe71fe_4&imgrefurl=https%3A%2F%2Fwww.healthyeating.org%2FHealthy-Eating%2FAll-Star-Foods%2FFruits&tbnid=12LB6t-_YQapMM&vet=12ahUKEwj89P_r-IzvAhWnx3MBHRxpB6UQMygAegUIARDPAQ..i&docid=_XVIsgIH8atHaM&w=700&h=426&q=fruits&ved=2ahUKEwj89P_r-IzvAhWnx3MBHRxpB6UQMygAegUIARDPAQ\n",
      "https://www.google.com/imgres?imgurl=https%3A%2F%2Fwww.healthyeating.org%2Fimages%2Fdefault-source%2Fhome-0.0%2Fnutrition-topics-2.0%2Fgeneral-nutrition-wellness%2F2-2-2-3foodgroups_fruits_detailfeature_thumb.jpg%3Fsfvrsn%3D7abe71fe_4&imgrefurl=https%3A%2F%2Fwww.healthyeating.org%2FHealthy-Eating%2FAll-Star-Foods%2FFruits&tbnid=12LB6t-_YQapMM&vet=12ahUKEwj89P_r-IzvAhWnx3MBHRxpB6UQMygAegUIARDPAQ..i&docid=_XVIsgIH8atHaM&w=700&h=426&q=fruits&ved=2ahUKEwj89P_r-IzvAhWnx3MBHRxpB6UQMygAegUIARDPAQ\n",
      "https://www.google.com/imgres?imgurl=https%3A%2F%2Fwww.healthyeating.org%2Fimages%2Fdefault-source%2Fhome-0.0%2Fnutrition-topics-2.0%2Fgeneral-nutrition-wellness%2F2-2-2-3foodgroups_fruits_detailfeature_thumb.jpg%3Fsfvrsn%3D7abe71fe_4&imgrefurl=https%3A%2F%2Fwww.healthyeating.org%2FHealthy-Eating%2FAll-Star-Foods%2FFruits&tbnid=12LB6t-_YQapMM&vet=12ahUKEwj89P_r-IzvAhWnx3MBHRxpB6UQMygAegUIARDPAQ..i&docid=_XVIsgIH8atHaM&w=700&h=426&q=fruits&ved=2ahUKEwj89P_r-IzvAhWnx3MBHRxpB6UQMygAegUIARDPAQ\n",
      "https://www.google.com/imgres?imgurl=https%3A%2F%2Fwww.healthyeating.org%2Fimages%2Fdefault-source%2Fhome-0.0%2Fnutrition-topics-2.0%2Fgeneral-nutrition-wellness%2F2-2-2-3foodgroups_fruits_detailfeature_thumb.jpg%3Fsfvrsn%3D7abe71fe_4&imgrefurl=https%3A%2F%2Fwww.healthyeating.org%2FHealthy-Eating%2FAll-Star-Foods%2FFruits&tbnid=12LB6t-_YQapMM&vet=12ahUKEwj89P_r-IzvAhWnx3MBHRxpB6UQMygAegUIARDPAQ..i&docid=_XVIsgIH8atHaM&w=700&h=426&q=fruits&ved=2ahUKEwj89P_r-IzvAhWnx3MBHRxpB6UQMygAegUIARDPAQ\n",
      "https://www.google.com/imgres?imgurl=https%3A%2F%2Fwww.healthyeating.org%2Fimages%2Fdefault-source%2Fhome-0.0%2Fnutrition-topics-2.0%2Fgeneral-nutrition-wellness%2F2-2-2-3foodgroups_fruits_detailfeature_thumb.jpg%3Fsfvrsn%3D7abe71fe_4&imgrefurl=https%3A%2F%2Fwww.healthyeating.org%2FHealthy-Eating%2FAll-Star-Foods%2FFruits&tbnid=12LB6t-_YQapMM&vet=12ahUKEwj89P_r-IzvAhWnx3MBHRxpB6UQMygAegUIARDPAQ..i&docid=_XVIsgIH8atHaM&w=700&h=426&q=fruits&ved=2ahUKEwj89P_r-IzvAhWnx3MBHRxpB6UQMygAegUIARDPAQ\n",
      "https://www.google.com/imgres?imgurl=https%3A%2F%2Fwww.healthyeating.org%2Fimages%2Fdefault-source%2Fhome-0.0%2Fnutrition-topics-2.0%2Fgeneral-nutrition-wellness%2F2-2-2-3foodgroups_fruits_detailfeature_thumb.jpg%3Fsfvrsn%3D7abe71fe_4&imgrefurl=https%3A%2F%2Fwww.healthyeating.org%2FHealthy-Eating%2FAll-Star-Foods%2FFruits&tbnid=12LB6t-_YQapMM&vet=12ahUKEwj89P_r-IzvAhWnx3MBHRxpB6UQMygAegUIARDPAQ..i&docid=_XVIsgIH8atHaM&w=700&h=426&q=fruits&ved=2ahUKEwj89P_r-IzvAhWnx3MBHRxpB6UQMygAegUIARDPAQ\n",
      "https://www.google.com/imgres?imgurl=https%3A%2F%2Fwww.healthyeating.org%2Fimages%2Fdefault-source%2Fhome-0.0%2Fnutrition-topics-2.0%2Fgeneral-nutrition-wellness%2F2-2-2-3foodgroups_fruits_detailfeature_thumb.jpg%3Fsfvrsn%3D7abe71fe_4&imgrefurl=https%3A%2F%2Fwww.healthyeating.org%2FHealthy-Eating%2FAll-Star-Foods%2FFruits&tbnid=12LB6t-_YQapMM&vet=12ahUKEwj89P_r-IzvAhWnx3MBHRxpB6UQMygAegUIARDPAQ..i&docid=_XVIsgIH8atHaM&w=700&h=426&q=fruits&ved=2ahUKEwj89P_r-IzvAhWnx3MBHRxpB6UQMygAegUIARDPAQ\n",
      "https://www.google.com/imgres?imgurl=https%3A%2F%2Fwww.healthyeating.org%2Fimages%2Fdefault-source%2Fhome-0.0%2Fnutrition-topics-2.0%2Fgeneral-nutrition-wellness%2F2-2-2-3foodgroups_fruits_detailfeature_thumb.jpg%3Fsfvrsn%3D7abe71fe_4&imgrefurl=https%3A%2F%2Fwww.healthyeating.org%2FHealthy-Eating%2FAll-Star-Foods%2FFruits&tbnid=12LB6t-_YQapMM&vet=12ahUKEwj89P_r-IzvAhWnx3MBHRxpB6UQMygAegUIARDPAQ..i&docid=_XVIsgIH8atHaM&w=700&h=426&q=fruits&ved=2ahUKEwj89P_r-IzvAhWnx3MBHRxpB6UQMygAegUIARDPAQ\n",
      "https://www.google.com/imgres?imgurl=https%3A%2F%2Fwww.healthyeating.org%2Fimages%2Fdefault-source%2Fhome-0.0%2Fnutrition-topics-2.0%2Fgeneral-nutrition-wellness%2F2-2-2-3foodgroups_fruits_detailfeature_thumb.jpg%3Fsfvrsn%3D7abe71fe_4&imgrefurl=https%3A%2F%2Fwww.healthyeating.org%2FHealthy-Eating%2FAll-Star-Foods%2FFruits&tbnid=12LB6t-_YQapMM&vet=12ahUKEwj89P_r-IzvAhWnx3MBHRxpB6UQMygAegUIARDPAQ..i&docid=_XVIsgIH8atHaM&w=700&h=426&q=fruits&ved=2ahUKEwj89P_r-IzvAhWnx3MBHRxpB6UQMygAegUIARDPAQ\n",
      "https://www.google.com/imgres?imgurl=https%3A%2F%2Fwww.healthyeating.org%2Fimages%2Fdefault-source%2Fhome-0.0%2Fnutrition-topics-2.0%2Fgeneral-nutrition-wellness%2F2-2-2-3foodgroups_fruits_detailfeature_thumb.jpg%3Fsfvrsn%3D7abe71fe_4&imgrefurl=https%3A%2F%2Fwww.healthyeating.org%2FHealthy-Eating%2FAll-Star-Foods%2FFruits&tbnid=12LB6t-_YQapMM&vet=12ahUKEwj89P_r-IzvAhWnx3MBHRxpB6UQMygAegUIARDPAQ..i&docid=_XVIsgIH8atHaM&w=700&h=426&q=fruits&ved=2ahUKEwj89P_r-IzvAhWnx3MBHRxpB6UQMygAegUIARDPAQ\n",
      "https://www.google.com/imgres?imgurl=https%3A%2F%2Fwww.healthyeating.org%2Fimages%2Fdefault-source%2Fhome-0.0%2Fnutrition-topics-2.0%2Fgeneral-nutrition-wellness%2F2-2-2-3foodgroups_fruits_detailfeature_thumb.jpg%3Fsfvrsn%3D7abe71fe_4&imgrefurl=https%3A%2F%2Fwww.healthyeating.org%2FHealthy-Eating%2FAll-Star-Foods%2FFruits&tbnid=12LB6t-_YQapMM&vet=12ahUKEwj89P_r-IzvAhWnx3MBHRxpB6UQMygAegUIARDPAQ..i&docid=_XVIsgIH8atHaM&w=700&h=426&q=fruits&ved=2ahUKEwj89P_r-IzvAhWnx3MBHRxpB6UQMygAegUIARDPAQ\n",
      "https://www.google.com/imgres?imgurl=https%3A%2F%2Fwww.healthyeating.org%2Fimages%2Fdefault-source%2Fhome-0.0%2Fnutrition-topics-2.0%2Fgeneral-nutrition-wellness%2F2-2-2-3foodgroups_fruits_detailfeature_thumb.jpg%3Fsfvrsn%3D7abe71fe_4&imgrefurl=https%3A%2F%2Fwww.healthyeating.org%2FHealthy-Eating%2FAll-Star-Foods%2FFruits&tbnid=12LB6t-_YQapMM&vet=12ahUKEwj89P_r-IzvAhWnx3MBHRxpB6UQMygAegUIARDPAQ..i&docid=_XVIsgIH8atHaM&w=700&h=426&q=fruits&ved=2ahUKEwj89P_r-IzvAhWnx3MBHRxpB6UQMygAegUIARDPAQ\n",
      "https://www.google.com/imgres?imgurl=https%3A%2F%2Fwww.healthyeating.org%2Fimages%2Fdefault-source%2Fhome-0.0%2Fnutrition-topics-2.0%2Fgeneral-nutrition-wellness%2F2-2-2-3foodgroups_fruits_detailfeature_thumb.jpg%3Fsfvrsn%3D7abe71fe_4&imgrefurl=https%3A%2F%2Fwww.healthyeating.org%2FHealthy-Eating%2FAll-Star-Foods%2FFruits&tbnid=12LB6t-_YQapMM&vet=12ahUKEwj89P_r-IzvAhWnx3MBHRxpB6UQMygAegUIARDPAQ..i&docid=_XVIsgIH8atHaM&w=700&h=426&q=fruits&ved=2ahUKEwj89P_r-IzvAhWnx3MBHRxpB6UQMygAegUIARDPAQ\n",
      "https://www.google.com/imgres?imgurl=https%3A%2F%2Fwww.healthyeating.org%2Fimages%2Fdefault-source%2Fhome-0.0%2Fnutrition-topics-2.0%2Fgeneral-nutrition-wellness%2F2-2-2-3foodgroups_fruits_detailfeature_thumb.jpg%3Fsfvrsn%3D7abe71fe_4&imgrefurl=https%3A%2F%2Fwww.healthyeating.org%2FHealthy-Eating%2FAll-Star-Foods%2FFruits&tbnid=12LB6t-_YQapMM&vet=12ahUKEwj89P_r-IzvAhWnx3MBHRxpB6UQMygAegUIARDPAQ..i&docid=_XVIsgIH8atHaM&w=700&h=426&q=fruits&ved=2ahUKEwj89P_r-IzvAhWnx3MBHRxpB6UQMygAegUIARDPAQ\n",
      "https://www.google.com/imgres?imgurl=https%3A%2F%2Fwww.healthyeating.org%2Fimages%2Fdefault-source%2Fhome-0.0%2Fnutrition-topics-2.0%2Fgeneral-nutrition-wellness%2F2-2-2-3foodgroups_fruits_detailfeature_thumb.jpg%3Fsfvrsn%3D7abe71fe_4&imgrefurl=https%3A%2F%2Fwww.healthyeating.org%2FHealthy-Eating%2FAll-Star-Foods%2FFruits&tbnid=12LB6t-_YQapMM&vet=12ahUKEwj89P_r-IzvAhWnx3MBHRxpB6UQMygAegUIARDPAQ..i&docid=_XVIsgIH8atHaM&w=700&h=426&q=fruits&ved=2ahUKEwj89P_r-IzvAhWnx3MBHRxpB6UQMygAegUIARDPAQ\n",
      "https://www.google.com/imgres?imgurl=https%3A%2F%2Fwww.healthyeating.org%2Fimages%2Fdefault-source%2Fhome-0.0%2Fnutrition-topics-2.0%2Fgeneral-nutrition-wellness%2F2-2-2-3foodgroups_fruits_detailfeature_thumb.jpg%3Fsfvrsn%3D7abe71fe_4&imgrefurl=https%3A%2F%2Fwww.healthyeating.org%2FHealthy-Eating%2FAll-Star-Foods%2FFruits&tbnid=12LB6t-_YQapMM&vet=12ahUKEwj89P_r-IzvAhWnx3MBHRxpB6UQMygAegUIARDPAQ..i&docid=_XVIsgIH8atHaM&w=700&h=426&q=fruits&ved=2ahUKEwj89P_r-IzvAhWnx3MBHRxpB6UQMygAegUIARDPAQ\n",
      "https://www.google.com/imgres?imgurl=https%3A%2F%2Fwww.healthyeating.org%2Fimages%2Fdefault-source%2Fhome-0.0%2Fnutrition-topics-2.0%2Fgeneral-nutrition-wellness%2F2-2-2-3foodgroups_fruits_detailfeature_thumb.jpg%3Fsfvrsn%3D7abe71fe_4&imgrefurl=https%3A%2F%2Fwww.healthyeating.org%2FHealthy-Eating%2FAll-Star-Foods%2FFruits&tbnid=12LB6t-_YQapMM&vet=12ahUKEwj89P_r-IzvAhWnx3MBHRxpB6UQMygAegUIARDPAQ..i&docid=_XVIsgIH8atHaM&w=700&h=426&q=fruits&ved=2ahUKEwj89P_r-IzvAhWnx3MBHRxpB6UQMygAegUIARDPAQ\n",
      "https://www.google.com/imgres?imgurl=https%3A%2F%2Fwww.healthyeating.org%2Fimages%2Fdefault-source%2Fhome-0.0%2Fnutrition-topics-2.0%2Fgeneral-nutrition-wellness%2F2-2-2-3foodgroups_fruits_detailfeature_thumb.jpg%3Fsfvrsn%3D7abe71fe_4&imgrefurl=https%3A%2F%2Fwww.healthyeating.org%2FHealthy-Eating%2FAll-Star-Foods%2FFruits&tbnid=12LB6t-_YQapMM&vet=12ahUKEwj89P_r-IzvAhWnx3MBHRxpB6UQMygAegUIARDPAQ..i&docid=_XVIsgIH8atHaM&w=700&h=426&q=fruits&ved=2ahUKEwj89P_r-IzvAhWnx3MBHRxpB6UQMygAegUIARDPAQ\n",
      "https://www.google.com/imgres?imgurl=https%3A%2F%2Fwww.healthyeating.org%2Fimages%2Fdefault-source%2Fhome-0.0%2Fnutrition-topics-2.0%2Fgeneral-nutrition-wellness%2F2-2-2-3foodgroups_fruits_detailfeature_thumb.jpg%3Fsfvrsn%3D7abe71fe_4&imgrefurl=https%3A%2F%2Fwww.healthyeating.org%2FHealthy-Eating%2FAll-Star-Foods%2FFruits&tbnid=12LB6t-_YQapMM&vet=12ahUKEwj89P_r-IzvAhWnx3MBHRxpB6UQMygAegUIARDPAQ..i&docid=_XVIsgIH8atHaM&w=700&h=426&q=fruits&ved=2ahUKEwj89P_r-IzvAhWnx3MBHRxpB6UQMygAegUIARDPAQ\n",
      "https://www.google.com/imgres?imgurl=https%3A%2F%2Fwww.healthyeating.org%2Fimages%2Fdefault-source%2Fhome-0.0%2Fnutrition-topics-2.0%2Fgeneral-nutrition-wellness%2F2-2-2-3foodgroups_fruits_detailfeature_thumb.jpg%3Fsfvrsn%3D7abe71fe_4&imgrefurl=https%3A%2F%2Fwww.healthyeating.org%2FHealthy-Eating%2FAll-Star-Foods%2FFruits&tbnid=12LB6t-_YQapMM&vet=12ahUKEwj89P_r-IzvAhWnx3MBHRxpB6UQMygAegUIARDPAQ..i&docid=_XVIsgIH8atHaM&w=700&h=426&q=fruits&ved=2ahUKEwj89P_r-IzvAhWnx3MBHRxpB6UQMygAegUIARDPAQ\n",
      "https://www.google.com/imgres?imgurl=https%3A%2F%2Fwww.healthyeating.org%2Fimages%2Fdefault-source%2Fhome-0.0%2Fnutrition-topics-2.0%2Fgeneral-nutrition-wellness%2F2-2-2-3foodgroups_fruits_detailfeature_thumb.jpg%3Fsfvrsn%3D7abe71fe_4&imgrefurl=https%3A%2F%2Fwww.healthyeating.org%2FHealthy-Eating%2FAll-Star-Foods%2FFruits&tbnid=12LB6t-_YQapMM&vet=12ahUKEwj89P_r-IzvAhWnx3MBHRxpB6UQMygAegUIARDPAQ..i&docid=_XVIsgIH8atHaM&w=700&h=426&q=fruits&ved=2ahUKEwj89P_r-IzvAhWnx3MBHRxpB6UQMygAegUIARDPAQ\n",
      "https://www.google.com/imgres?imgurl=https%3A%2F%2Fwww.healthyeating.org%2Fimages%2Fdefault-source%2Fhome-0.0%2Fnutrition-topics-2.0%2Fgeneral-nutrition-wellness%2F2-2-2-3foodgroups_fruits_detailfeature_thumb.jpg%3Fsfvrsn%3D7abe71fe_4&imgrefurl=https%3A%2F%2Fwww.healthyeating.org%2FHealthy-Eating%2FAll-Star-Foods%2FFruits&tbnid=12LB6t-_YQapMM&vet=12ahUKEwj89P_r-IzvAhWnx3MBHRxpB6UQMygAegUIARDPAQ..i&docid=_XVIsgIH8atHaM&w=700&h=426&q=fruits&ved=2ahUKEwj89P_r-IzvAhWnx3MBHRxpB6UQMygAegUIARDPAQ\n",
      "https://www.google.com/imgres?imgurl=https%3A%2F%2Fwww.healthyeating.org%2Fimages%2Fdefault-source%2Fhome-0.0%2Fnutrition-topics-2.0%2Fgeneral-nutrition-wellness%2F2-2-2-3foodgroups_fruits_detailfeature_thumb.jpg%3Fsfvrsn%3D7abe71fe_4&imgrefurl=https%3A%2F%2Fwww.healthyeating.org%2FHealthy-Eating%2FAll-Star-Foods%2FFruits&tbnid=12LB6t-_YQapMM&vet=12ahUKEwj89P_r-IzvAhWnx3MBHRxpB6UQMygAegUIARDPAQ..i&docid=_XVIsgIH8atHaM&w=700&h=426&q=fruits&ved=2ahUKEwj89P_r-IzvAhWnx3MBHRxpB6UQMygAegUIARDPAQ\n",
      "https://www.google.com/imgres?imgurl=https%3A%2F%2Fwww.healthyeating.org%2Fimages%2Fdefault-source%2Fhome-0.0%2Fnutrition-topics-2.0%2Fgeneral-nutrition-wellness%2F2-2-2-3foodgroups_fruits_detailfeature_thumb.jpg%3Fsfvrsn%3D7abe71fe_4&imgrefurl=https%3A%2F%2Fwww.healthyeating.org%2FHealthy-Eating%2FAll-Star-Foods%2FFruits&tbnid=12LB6t-_YQapMM&vet=12ahUKEwj89P_r-IzvAhWnx3MBHRxpB6UQMygAegUIARDPAQ..i&docid=_XVIsgIH8atHaM&w=700&h=426&q=fruits&ved=2ahUKEwj89P_r-IzvAhWnx3MBHRxpB6UQMygAegUIARDPAQ\n",
      "https://www.google.com/imgres?imgurl=https%3A%2F%2Fwww.healthyeating.org%2Fimages%2Fdefault-source%2Fhome-0.0%2Fnutrition-topics-2.0%2Fgeneral-nutrition-wellness%2F2-2-2-3foodgroups_fruits_detailfeature_thumb.jpg%3Fsfvrsn%3D7abe71fe_4&imgrefurl=https%3A%2F%2Fwww.healthyeating.org%2FHealthy-Eating%2FAll-Star-Foods%2FFruits&tbnid=12LB6t-_YQapMM&vet=12ahUKEwj89P_r-IzvAhWnx3MBHRxpB6UQMygAegUIARDPAQ..i&docid=_XVIsgIH8atHaM&w=700&h=426&q=fruits&ved=2ahUKEwj89P_r-IzvAhWnx3MBHRxpB6UQMygAegUIARDPAQ\n",
      "https://www.google.com/imgres?imgurl=https%3A%2F%2Fwww.healthyeating.org%2Fimages%2Fdefault-source%2Fhome-0.0%2Fnutrition-topics-2.0%2Fgeneral-nutrition-wellness%2F2-2-2-3foodgroups_fruits_detailfeature_thumb.jpg%3Fsfvrsn%3D7abe71fe_4&imgrefurl=https%3A%2F%2Fwww.healthyeating.org%2FHealthy-Eating%2FAll-Star-Foods%2FFruits&tbnid=12LB6t-_YQapMM&vet=12ahUKEwj89P_r-IzvAhWnx3MBHRxpB6UQMygAegUIARDPAQ..i&docid=_XVIsgIH8atHaM&w=700&h=426&q=fruits&ved=2ahUKEwj89P_r-IzvAhWnx3MBHRxpB6UQMygAegUIARDPAQ\n",
      "https://www.google.com/imgres?imgurl=https%3A%2F%2Fwww.healthyeating.org%2Fimages%2Fdefault-source%2Fhome-0.0%2Fnutrition-topics-2.0%2Fgeneral-nutrition-wellness%2F2-2-2-3foodgroups_fruits_detailfeature_thumb.jpg%3Fsfvrsn%3D7abe71fe_4&imgrefurl=https%3A%2F%2Fwww.healthyeating.org%2FHealthy-Eating%2FAll-Star-Foods%2FFruits&tbnid=12LB6t-_YQapMM&vet=12ahUKEwj89P_r-IzvAhWnx3MBHRxpB6UQMygAegUIARDPAQ..i&docid=_XVIsgIH8atHaM&w=700&h=426&q=fruits&ved=2ahUKEwj89P_r-IzvAhWnx3MBHRxpB6UQMygAegUIARDPAQ\n",
      "https://www.google.com/imgres?imgurl=https%3A%2F%2Fwww.healthyeating.org%2Fimages%2Fdefault-source%2Fhome-0.0%2Fnutrition-topics-2.0%2Fgeneral-nutrition-wellness%2F2-2-2-3foodgroups_fruits_detailfeature_thumb.jpg%3Fsfvrsn%3D7abe71fe_4&imgrefurl=https%3A%2F%2Fwww.healthyeating.org%2FHealthy-Eating%2FAll-Star-Foods%2FFruits&tbnid=12LB6t-_YQapMM&vet=12ahUKEwj89P_r-IzvAhWnx3MBHRxpB6UQMygAegUIARDPAQ..i&docid=_XVIsgIH8atHaM&w=700&h=426&q=fruits&ved=2ahUKEwj89P_r-IzvAhWnx3MBHRxpB6UQMygAegUIARDPAQ\n",
      "https://www.google.com/imgres?imgurl=https%3A%2F%2Fwww.healthyeating.org%2Fimages%2Fdefault-source%2Fhome-0.0%2Fnutrition-topics-2.0%2Fgeneral-nutrition-wellness%2F2-2-2-3foodgroups_fruits_detailfeature_thumb.jpg%3Fsfvrsn%3D7abe71fe_4&imgrefurl=https%3A%2F%2Fwww.healthyeating.org%2FHealthy-Eating%2FAll-Star-Foods%2FFruits&tbnid=12LB6t-_YQapMM&vet=12ahUKEwj89P_r-IzvAhWnx3MBHRxpB6UQMygAegUIARDPAQ..i&docid=_XVIsgIH8atHaM&w=700&h=426&q=fruits&ved=2ahUKEwj89P_r-IzvAhWnx3MBHRxpB6UQMygAegUIARDPAQ\n",
      "https://www.google.com/imgres?imgurl=https%3A%2F%2Fwww.healthyeating.org%2Fimages%2Fdefault-source%2Fhome-0.0%2Fnutrition-topics-2.0%2Fgeneral-nutrition-wellness%2F2-2-2-3foodgroups_fruits_detailfeature_thumb.jpg%3Fsfvrsn%3D7abe71fe_4&imgrefurl=https%3A%2F%2Fwww.healthyeating.org%2FHealthy-Eating%2FAll-Star-Foods%2FFruits&tbnid=12LB6t-_YQapMM&vet=12ahUKEwj89P_r-IzvAhWnx3MBHRxpB6UQMygAegUIARDPAQ..i&docid=_XVIsgIH8atHaM&w=700&h=426&q=fruits&ved=2ahUKEwj89P_r-IzvAhWnx3MBHRxpB6UQMygAegUIARDPAQ\n",
      "https://www.google.com/imgres?imgurl=https%3A%2F%2Fwww.healthyeating.org%2Fimages%2Fdefault-source%2Fhome-0.0%2Fnutrition-topics-2.0%2Fgeneral-nutrition-wellness%2F2-2-2-3foodgroups_fruits_detailfeature_thumb.jpg%3Fsfvrsn%3D7abe71fe_4&imgrefurl=https%3A%2F%2Fwww.healthyeating.org%2FHealthy-Eating%2FAll-Star-Foods%2FFruits&tbnid=12LB6t-_YQapMM&vet=12ahUKEwj89P_r-IzvAhWnx3MBHRxpB6UQMygAegUIARDPAQ..i&docid=_XVIsgIH8atHaM&w=700&h=426&q=fruits&ved=2ahUKEwj89P_r-IzvAhWnx3MBHRxpB6UQMygAegUIARDPAQ\n",
      "https://www.google.com/imgres?imgurl=https%3A%2F%2Fwww.healthyeating.org%2Fimages%2Fdefault-source%2Fhome-0.0%2Fnutrition-topics-2.0%2Fgeneral-nutrition-wellness%2F2-2-2-3foodgroups_fruits_detailfeature_thumb.jpg%3Fsfvrsn%3D7abe71fe_4&imgrefurl=https%3A%2F%2Fwww.healthyeating.org%2FHealthy-Eating%2FAll-Star-Foods%2FFruits&tbnid=12LB6t-_YQapMM&vet=12ahUKEwj89P_r-IzvAhWnx3MBHRxpB6UQMygAegUIARDPAQ..i&docid=_XVIsgIH8atHaM&w=700&h=426&q=fruits&ved=2ahUKEwj89P_r-IzvAhWnx3MBHRxpB6UQMygAegUIARDPAQ\n",
      "https://www.google.com/imgres?imgurl=https%3A%2F%2Fwww.healthyeating.org%2Fimages%2Fdefault-source%2Fhome-0.0%2Fnutrition-topics-2.0%2Fgeneral-nutrition-wellness%2F2-2-2-3foodgroups_fruits_detailfeature_thumb.jpg%3Fsfvrsn%3D7abe71fe_4&imgrefurl=https%3A%2F%2Fwww.healthyeating.org%2FHealthy-Eating%2FAll-Star-Foods%2FFruits&tbnid=12LB6t-_YQapMM&vet=12ahUKEwj89P_r-IzvAhWnx3MBHRxpB6UQMygAegUIARDPAQ..i&docid=_XVIsgIH8atHaM&w=700&h=426&q=fruits&ved=2ahUKEwj89P_r-IzvAhWnx3MBHRxpB6UQMygAegUIARDPAQ\n",
      "https://www.google.com/imgres?imgurl=https%3A%2F%2Fwww.healthyeating.org%2Fimages%2Fdefault-source%2Fhome-0.0%2Fnutrition-topics-2.0%2Fgeneral-nutrition-wellness%2F2-2-2-3foodgroups_fruits_detailfeature_thumb.jpg%3Fsfvrsn%3D7abe71fe_4&imgrefurl=https%3A%2F%2Fwww.healthyeating.org%2FHealthy-Eating%2FAll-Star-Foods%2FFruits&tbnid=12LB6t-_YQapMM&vet=12ahUKEwj89P_r-IzvAhWnx3MBHRxpB6UQMygAegUIARDPAQ..i&docid=_XVIsgIH8atHaM&w=700&h=426&q=fruits&ved=2ahUKEwj89P_r-IzvAhWnx3MBHRxpB6UQMygAegUIARDPAQ\n",
      "https://www.google.com/imgres?imgurl=https%3A%2F%2Fwww.healthyeating.org%2Fimages%2Fdefault-source%2Fhome-0.0%2Fnutrition-topics-2.0%2Fgeneral-nutrition-wellness%2F2-2-2-3foodgroups_fruits_detailfeature_thumb.jpg%3Fsfvrsn%3D7abe71fe_4&imgrefurl=https%3A%2F%2Fwww.healthyeating.org%2FHealthy-Eating%2FAll-Star-Foods%2FFruits&tbnid=12LB6t-_YQapMM&vet=12ahUKEwj89P_r-IzvAhWnx3MBHRxpB6UQMygAegUIARDPAQ..i&docid=_XVIsgIH8atHaM&w=700&h=426&q=fruits&ved=2ahUKEwj89P_r-IzvAhWnx3MBHRxpB6UQMygAegUIARDPAQ\n",
      "https://www.google.com/imgres?imgurl=https%3A%2F%2Fwww.healthyeating.org%2Fimages%2Fdefault-source%2Fhome-0.0%2Fnutrition-topics-2.0%2Fgeneral-nutrition-wellness%2F2-2-2-3foodgroups_fruits_detailfeature_thumb.jpg%3Fsfvrsn%3D7abe71fe_4&imgrefurl=https%3A%2F%2Fwww.healthyeating.org%2FHealthy-Eating%2FAll-Star-Foods%2FFruits&tbnid=12LB6t-_YQapMM&vet=12ahUKEwj89P_r-IzvAhWnx3MBHRxpB6UQMygAegUIARDPAQ..i&docid=_XVIsgIH8atHaM&w=700&h=426&q=fruits&ved=2ahUKEwj89P_r-IzvAhWnx3MBHRxpB6UQMygAegUIARDPAQ\n",
      "https://www.google.com/imgres?imgurl=https%3A%2F%2Fwww.healthyeating.org%2Fimages%2Fdefault-source%2Fhome-0.0%2Fnutrition-topics-2.0%2Fgeneral-nutrition-wellness%2F2-2-2-3foodgroups_fruits_detailfeature_thumb.jpg%3Fsfvrsn%3D7abe71fe_4&imgrefurl=https%3A%2F%2Fwww.healthyeating.org%2FHealthy-Eating%2FAll-Star-Foods%2FFruits&tbnid=12LB6t-_YQapMM&vet=12ahUKEwj89P_r-IzvAhWnx3MBHRxpB6UQMygAegUIARDPAQ..i&docid=_XVIsgIH8atHaM&w=700&h=426&q=fruits&ved=2ahUKEwj89P_r-IzvAhWnx3MBHRxpB6UQMygAegUIARDPAQ\n",
      "https://www.google.com/imgres?imgurl=https%3A%2F%2Fwww.healthyeating.org%2Fimages%2Fdefault-source%2Fhome-0.0%2Fnutrition-topics-2.0%2Fgeneral-nutrition-wellness%2F2-2-2-3foodgroups_fruits_detailfeature_thumb.jpg%3Fsfvrsn%3D7abe71fe_4&imgrefurl=https%3A%2F%2Fwww.healthyeating.org%2FHealthy-Eating%2FAll-Star-Foods%2FFruits&tbnid=12LB6t-_YQapMM&vet=12ahUKEwj89P_r-IzvAhWnx3MBHRxpB6UQMygAegUIARDPAQ..i&docid=_XVIsgIH8atHaM&w=700&h=426&q=fruits&ved=2ahUKEwj89P_r-IzvAhWnx3MBHRxpB6UQMygAegUIARDPAQ\n",
      "https://www.google.com/imgres?imgurl=https%3A%2F%2Fwww.healthyeating.org%2Fimages%2Fdefault-source%2Fhome-0.0%2Fnutrition-topics-2.0%2Fgeneral-nutrition-wellness%2F2-2-2-3foodgroups_fruits_detailfeature_thumb.jpg%3Fsfvrsn%3D7abe71fe_4&imgrefurl=https%3A%2F%2Fwww.healthyeating.org%2FHealthy-Eating%2FAll-Star-Foods%2FFruits&tbnid=12LB6t-_YQapMM&vet=12ahUKEwj89P_r-IzvAhWnx3MBHRxpB6UQMygAegUIARDPAQ..i&docid=_XVIsgIH8atHaM&w=700&h=426&q=fruits&ved=2ahUKEwj89P_r-IzvAhWnx3MBHRxpB6UQMygAegUIARDPAQ\n",
      "https://www.google.com/imgres?imgurl=https%3A%2F%2Fwww.healthyeating.org%2Fimages%2Fdefault-source%2Fhome-0.0%2Fnutrition-topics-2.0%2Fgeneral-nutrition-wellness%2F2-2-2-3foodgroups_fruits_detailfeature_thumb.jpg%3Fsfvrsn%3D7abe71fe_4&imgrefurl=https%3A%2F%2Fwww.healthyeating.org%2FHealthy-Eating%2FAll-Star-Foods%2FFruits&tbnid=12LB6t-_YQapMM&vet=12ahUKEwj89P_r-IzvAhWnx3MBHRxpB6UQMygAegUIARDPAQ..i&docid=_XVIsgIH8atHaM&w=700&h=426&q=fruits&ved=2ahUKEwj89P_r-IzvAhWnx3MBHRxpB6UQMygAegUIARDPAQ\n",
      "https://www.google.com/imgres?imgurl=https%3A%2F%2Fwww.healthyeating.org%2Fimages%2Fdefault-source%2Fhome-0.0%2Fnutrition-topics-2.0%2Fgeneral-nutrition-wellness%2F2-2-2-3foodgroups_fruits_detailfeature_thumb.jpg%3Fsfvrsn%3D7abe71fe_4&imgrefurl=https%3A%2F%2Fwww.healthyeating.org%2FHealthy-Eating%2FAll-Star-Foods%2FFruits&tbnid=12LB6t-_YQapMM&vet=12ahUKEwj89P_r-IzvAhWnx3MBHRxpB6UQMygAegUIARDPAQ..i&docid=_XVIsgIH8atHaM&w=700&h=426&q=fruits&ved=2ahUKEwj89P_r-IzvAhWnx3MBHRxpB6UQMygAegUIARDPAQ\n",
      "https://www.google.com/imgres?imgurl=https%3A%2F%2Fwww.healthyeating.org%2Fimages%2Fdefault-source%2Fhome-0.0%2Fnutrition-topics-2.0%2Fgeneral-nutrition-wellness%2F2-2-2-3foodgroups_fruits_detailfeature_thumb.jpg%3Fsfvrsn%3D7abe71fe_4&imgrefurl=https%3A%2F%2Fwww.healthyeating.org%2FHealthy-Eating%2FAll-Star-Foods%2FFruits&tbnid=12LB6t-_YQapMM&vet=12ahUKEwj89P_r-IzvAhWnx3MBHRxpB6UQMygAegUIARDPAQ..i&docid=_XVIsgIH8atHaM&w=700&h=426&q=fruits&ved=2ahUKEwj89P_r-IzvAhWnx3MBHRxpB6UQMygAegUIARDPAQ\n",
      "https://www.google.com/imgres?imgurl=https%3A%2F%2Fwww.healthyeating.org%2Fimages%2Fdefault-source%2Fhome-0.0%2Fnutrition-topics-2.0%2Fgeneral-nutrition-wellness%2F2-2-2-3foodgroups_fruits_detailfeature_thumb.jpg%3Fsfvrsn%3D7abe71fe_4&imgrefurl=https%3A%2F%2Fwww.healthyeating.org%2FHealthy-Eating%2FAll-Star-Foods%2FFruits&tbnid=12LB6t-_YQapMM&vet=12ahUKEwj89P_r-IzvAhWnx3MBHRxpB6UQMygAegUIARDPAQ..i&docid=_XVIsgIH8atHaM&w=700&h=426&q=fruits&ved=2ahUKEwj89P_r-IzvAhWnx3MBHRxpB6UQMygAegUIARDPAQ\n",
      "https://www.google.com/imgres?imgurl=https%3A%2F%2Fwww.healthyeating.org%2Fimages%2Fdefault-source%2Fhome-0.0%2Fnutrition-topics-2.0%2Fgeneral-nutrition-wellness%2F2-2-2-3foodgroups_fruits_detailfeature_thumb.jpg%3Fsfvrsn%3D7abe71fe_4&imgrefurl=https%3A%2F%2Fwww.healthyeating.org%2FHealthy-Eating%2FAll-Star-Foods%2FFruits&tbnid=12LB6t-_YQapMM&vet=12ahUKEwj89P_r-IzvAhWnx3MBHRxpB6UQMygAegUIARDPAQ..i&docid=_XVIsgIH8atHaM&w=700&h=426&q=fruits&ved=2ahUKEwj89P_r-IzvAhWnx3MBHRxpB6UQMygAegUIARDPAQ\n",
      "https://www.google.com/imgres?imgurl=https%3A%2F%2Fwww.healthyeating.org%2Fimages%2Fdefault-source%2Fhome-0.0%2Fnutrition-topics-2.0%2Fgeneral-nutrition-wellness%2F2-2-2-3foodgroups_fruits_detailfeature_thumb.jpg%3Fsfvrsn%3D7abe71fe_4&imgrefurl=https%3A%2F%2Fwww.healthyeating.org%2FHealthy-Eating%2FAll-Star-Foods%2FFruits&tbnid=12LB6t-_YQapMM&vet=12ahUKEwj89P_r-IzvAhWnx3MBHRxpB6UQMygAegUIARDPAQ..i&docid=_XVIsgIH8atHaM&w=700&h=426&q=fruits&ved=2ahUKEwj89P_r-IzvAhWnx3MBHRxpB6UQMygAegUIARDPAQ\n",
      "https://www.google.com/imgres?imgurl=https%3A%2F%2Fwww.healthyeating.org%2Fimages%2Fdefault-source%2Fhome-0.0%2Fnutrition-topics-2.0%2Fgeneral-nutrition-wellness%2F2-2-2-3foodgroups_fruits_detailfeature_thumb.jpg%3Fsfvrsn%3D7abe71fe_4&imgrefurl=https%3A%2F%2Fwww.healthyeating.org%2FHealthy-Eating%2FAll-Star-Foods%2FFruits&tbnid=12LB6t-_YQapMM&vet=12ahUKEwj89P_r-IzvAhWnx3MBHRxpB6UQMygAegUIARDPAQ..i&docid=_XVIsgIH8atHaM&w=700&h=426&q=fruits&ved=2ahUKEwj89P_r-IzvAhWnx3MBHRxpB6UQMygAegUIARDPAQ\n",
      "https://www.google.com/imgres?imgurl=https%3A%2F%2Fwww.healthyeating.org%2Fimages%2Fdefault-source%2Fhome-0.0%2Fnutrition-topics-2.0%2Fgeneral-nutrition-wellness%2F2-2-2-3foodgroups_fruits_detailfeature_thumb.jpg%3Fsfvrsn%3D7abe71fe_4&imgrefurl=https%3A%2F%2Fwww.healthyeating.org%2FHealthy-Eating%2FAll-Star-Foods%2FFruits&tbnid=12LB6t-_YQapMM&vet=12ahUKEwj89P_r-IzvAhWnx3MBHRxpB6UQMygAegUIARDPAQ..i&docid=_XVIsgIH8atHaM&w=700&h=426&q=fruits&ved=2ahUKEwj89P_r-IzvAhWnx3MBHRxpB6UQMygAegUIARDPAQ\n",
      "https://www.google.com/imgres?imgurl=https%3A%2F%2Fwww.healthyeating.org%2Fimages%2Fdefault-source%2Fhome-0.0%2Fnutrition-topics-2.0%2Fgeneral-nutrition-wellness%2F2-2-2-3foodgroups_fruits_detailfeature_thumb.jpg%3Fsfvrsn%3D7abe71fe_4&imgrefurl=https%3A%2F%2Fwww.healthyeating.org%2FHealthy-Eating%2FAll-Star-Foods%2FFruits&tbnid=12LB6t-_YQapMM&vet=12ahUKEwj89P_r-IzvAhWnx3MBHRxpB6UQMygAegUIARDPAQ..i&docid=_XVIsgIH8atHaM&w=700&h=426&q=fruits&ved=2ahUKEwj89P_r-IzvAhWnx3MBHRxpB6UQMygAegUIARDPAQ\n",
      "https://www.google.com/imgres?imgurl=https%3A%2F%2Fwww.healthyeating.org%2Fimages%2Fdefault-source%2Fhome-0.0%2Fnutrition-topics-2.0%2Fgeneral-nutrition-wellness%2F2-2-2-3foodgroups_fruits_detailfeature_thumb.jpg%3Fsfvrsn%3D7abe71fe_4&imgrefurl=https%3A%2F%2Fwww.healthyeating.org%2FHealthy-Eating%2FAll-Star-Foods%2FFruits&tbnid=12LB6t-_YQapMM&vet=12ahUKEwj89P_r-IzvAhWnx3MBHRxpB6UQMygAegUIARDPAQ..i&docid=_XVIsgIH8atHaM&w=700&h=426&q=fruits&ved=2ahUKEwj89P_r-IzvAhWnx3MBHRxpB6UQMygAegUIARDPAQ\n",
      "https://www.google.com/imgres?imgurl=https%3A%2F%2Fwww.healthyeating.org%2Fimages%2Fdefault-source%2Fhome-0.0%2Fnutrition-topics-2.0%2Fgeneral-nutrition-wellness%2F2-2-2-3foodgroups_fruits_detailfeature_thumb.jpg%3Fsfvrsn%3D7abe71fe_4&imgrefurl=https%3A%2F%2Fwww.healthyeating.org%2FHealthy-Eating%2FAll-Star-Foods%2FFruits&tbnid=12LB6t-_YQapMM&vet=12ahUKEwj89P_r-IzvAhWnx3MBHRxpB6UQMygAegUIARDPAQ..i&docid=_XVIsgIH8atHaM&w=700&h=426&q=fruits&ved=2ahUKEwj89P_r-IzvAhWnx3MBHRxpB6UQMygAegUIARDPAQ\n",
      "https://www.google.com/imgres?imgurl=https%3A%2F%2Fwww.healthyeating.org%2Fimages%2Fdefault-source%2Fhome-0.0%2Fnutrition-topics-2.0%2Fgeneral-nutrition-wellness%2F2-2-2-3foodgroups_fruits_detailfeature_thumb.jpg%3Fsfvrsn%3D7abe71fe_4&imgrefurl=https%3A%2F%2Fwww.healthyeating.org%2FHealthy-Eating%2FAll-Star-Foods%2FFruits&tbnid=12LB6t-_YQapMM&vet=12ahUKEwj89P_r-IzvAhWnx3MBHRxpB6UQMygAegUIARDPAQ..i&docid=_XVIsgIH8atHaM&w=700&h=426&q=fruits&ved=2ahUKEwj89P_r-IzvAhWnx3MBHRxpB6UQMygAegUIARDPAQ\n",
      "https://www.google.com/imgres?imgurl=https%3A%2F%2Fwww.healthyeating.org%2Fimages%2Fdefault-source%2Fhome-0.0%2Fnutrition-topics-2.0%2Fgeneral-nutrition-wellness%2F2-2-2-3foodgroups_fruits_detailfeature_thumb.jpg%3Fsfvrsn%3D7abe71fe_4&imgrefurl=https%3A%2F%2Fwww.healthyeating.org%2FHealthy-Eating%2FAll-Star-Foods%2FFruits&tbnid=12LB6t-_YQapMM&vet=12ahUKEwj89P_r-IzvAhWnx3MBHRxpB6UQMygAegUIARDPAQ..i&docid=_XVIsgIH8atHaM&w=700&h=426&q=fruits&ved=2ahUKEwj89P_r-IzvAhWnx3MBHRxpB6UQMygAegUIARDPAQ\n",
      "https://www.google.com/imgres?imgurl=https%3A%2F%2Fwww.healthyeating.org%2Fimages%2Fdefault-source%2Fhome-0.0%2Fnutrition-topics-2.0%2Fgeneral-nutrition-wellness%2F2-2-2-3foodgroups_fruits_detailfeature_thumb.jpg%3Fsfvrsn%3D7abe71fe_4&imgrefurl=https%3A%2F%2Fwww.healthyeating.org%2FHealthy-Eating%2FAll-Star-Foods%2FFruits&tbnid=12LB6t-_YQapMM&vet=12ahUKEwj89P_r-IzvAhWnx3MBHRxpB6UQMygAegUIARDPAQ..i&docid=_XVIsgIH8atHaM&w=700&h=426&q=fruits&ved=2ahUKEwj89P_r-IzvAhWnx3MBHRxpB6UQMygAegUIARDPAQ\n",
      "https://www.google.com/imgres?imgurl=https%3A%2F%2Fwww.healthyeating.org%2Fimages%2Fdefault-source%2Fhome-0.0%2Fnutrition-topics-2.0%2Fgeneral-nutrition-wellness%2F2-2-2-3foodgroups_fruits_detailfeature_thumb.jpg%3Fsfvrsn%3D7abe71fe_4&imgrefurl=https%3A%2F%2Fwww.healthyeating.org%2FHealthy-Eating%2FAll-Star-Foods%2FFruits&tbnid=12LB6t-_YQapMM&vet=12ahUKEwj89P_r-IzvAhWnx3MBHRxpB6UQMygAegUIARDPAQ..i&docid=_XVIsgIH8atHaM&w=700&h=426&q=fruits&ved=2ahUKEwj89P_r-IzvAhWnx3MBHRxpB6UQMygAegUIARDPAQ\n",
      "https://www.google.com/imgres?imgurl=https%3A%2F%2Fwww.healthyeating.org%2Fimages%2Fdefault-source%2Fhome-0.0%2Fnutrition-topics-2.0%2Fgeneral-nutrition-wellness%2F2-2-2-3foodgroups_fruits_detailfeature_thumb.jpg%3Fsfvrsn%3D7abe71fe_4&imgrefurl=https%3A%2F%2Fwww.healthyeating.org%2FHealthy-Eating%2FAll-Star-Foods%2FFruits&tbnid=12LB6t-_YQapMM&vet=12ahUKEwj89P_r-IzvAhWnx3MBHRxpB6UQMygAegUIARDPAQ..i&docid=_XVIsgIH8atHaM&w=700&h=426&q=fruits&ved=2ahUKEwj89P_r-IzvAhWnx3MBHRxpB6UQMygAegUIARDPAQ\n",
      "https://www.google.com/imgres?imgurl=https%3A%2F%2Fwww.healthyeating.org%2Fimages%2Fdefault-source%2Fhome-0.0%2Fnutrition-topics-2.0%2Fgeneral-nutrition-wellness%2F2-2-2-3foodgroups_fruits_detailfeature_thumb.jpg%3Fsfvrsn%3D7abe71fe_4&imgrefurl=https%3A%2F%2Fwww.healthyeating.org%2FHealthy-Eating%2FAll-Star-Foods%2FFruits&tbnid=12LB6t-_YQapMM&vet=12ahUKEwj89P_r-IzvAhWnx3MBHRxpB6UQMygAegUIARDPAQ..i&docid=_XVIsgIH8atHaM&w=700&h=426&q=fruits&ved=2ahUKEwj89P_r-IzvAhWnx3MBHRxpB6UQMygAegUIARDPAQ\n",
      "https://www.google.com/imgres?imgurl=https%3A%2F%2Fwww.healthyeating.org%2Fimages%2Fdefault-source%2Fhome-0.0%2Fnutrition-topics-2.0%2Fgeneral-nutrition-wellness%2F2-2-2-3foodgroups_fruits_detailfeature_thumb.jpg%3Fsfvrsn%3D7abe71fe_4&imgrefurl=https%3A%2F%2Fwww.healthyeating.org%2FHealthy-Eating%2FAll-Star-Foods%2FFruits&tbnid=12LB6t-_YQapMM&vet=12ahUKEwj89P_r-IzvAhWnx3MBHRxpB6UQMygAegUIARDPAQ..i&docid=_XVIsgIH8atHaM&w=700&h=426&q=fruits&ved=2ahUKEwj89P_r-IzvAhWnx3MBHRxpB6UQMygAegUIARDPAQ\n",
      "https://www.google.com/imgres?imgurl=https%3A%2F%2Fwww.healthyeating.org%2Fimages%2Fdefault-source%2Fhome-0.0%2Fnutrition-topics-2.0%2Fgeneral-nutrition-wellness%2F2-2-2-3foodgroups_fruits_detailfeature_thumb.jpg%3Fsfvrsn%3D7abe71fe_4&imgrefurl=https%3A%2F%2Fwww.healthyeating.org%2FHealthy-Eating%2FAll-Star-Foods%2FFruits&tbnid=12LB6t-_YQapMM&vet=12ahUKEwj89P_r-IzvAhWnx3MBHRxpB6UQMygAegUIARDPAQ..i&docid=_XVIsgIH8atHaM&w=700&h=426&q=fruits&ved=2ahUKEwj89P_r-IzvAhWnx3MBHRxpB6UQMygAegUIARDPAQ\n",
      "https://www.google.com/imgres?imgurl=https%3A%2F%2Fwww.healthyeating.org%2Fimages%2Fdefault-source%2Fhome-0.0%2Fnutrition-topics-2.0%2Fgeneral-nutrition-wellness%2F2-2-2-3foodgroups_fruits_detailfeature_thumb.jpg%3Fsfvrsn%3D7abe71fe_4&imgrefurl=https%3A%2F%2Fwww.healthyeating.org%2FHealthy-Eating%2FAll-Star-Foods%2FFruits&tbnid=12LB6t-_YQapMM&vet=12ahUKEwj89P_r-IzvAhWnx3MBHRxpB6UQMygAegUIARDPAQ..i&docid=_XVIsgIH8atHaM&w=700&h=426&q=fruits&ved=2ahUKEwj89P_r-IzvAhWnx3MBHRxpB6UQMygAegUIARDPAQ\n",
      "https://www.google.com/imgres?imgurl=https%3A%2F%2Fwww.healthyeating.org%2Fimages%2Fdefault-source%2Fhome-0.0%2Fnutrition-topics-2.0%2Fgeneral-nutrition-wellness%2F2-2-2-3foodgroups_fruits_detailfeature_thumb.jpg%3Fsfvrsn%3D7abe71fe_4&imgrefurl=https%3A%2F%2Fwww.healthyeating.org%2FHealthy-Eating%2FAll-Star-Foods%2FFruits&tbnid=12LB6t-_YQapMM&vet=12ahUKEwj89P_r-IzvAhWnx3MBHRxpB6UQMygAegUIARDPAQ..i&docid=_XVIsgIH8atHaM&w=700&h=426&q=fruits&ved=2ahUKEwj89P_r-IzvAhWnx3MBHRxpB6UQMygAegUIARDPAQ\n",
      "https://www.google.com/imgres?imgurl=https%3A%2F%2Fwww.healthyeating.org%2Fimages%2Fdefault-source%2Fhome-0.0%2Fnutrition-topics-2.0%2Fgeneral-nutrition-wellness%2F2-2-2-3foodgroups_fruits_detailfeature_thumb.jpg%3Fsfvrsn%3D7abe71fe_4&imgrefurl=https%3A%2F%2Fwww.healthyeating.org%2FHealthy-Eating%2FAll-Star-Foods%2FFruits&tbnid=12LB6t-_YQapMM&vet=12ahUKEwj89P_r-IzvAhWnx3MBHRxpB6UQMygAegUIARDPAQ..i&docid=_XVIsgIH8atHaM&w=700&h=426&q=fruits&ved=2ahUKEwj89P_r-IzvAhWnx3MBHRxpB6UQMygAegUIARDPAQ\n",
      "https://www.google.com/imgres?imgurl=https%3A%2F%2Fwww.healthyeating.org%2Fimages%2Fdefault-source%2Fhome-0.0%2Fnutrition-topics-2.0%2Fgeneral-nutrition-wellness%2F2-2-2-3foodgroups_fruits_detailfeature_thumb.jpg%3Fsfvrsn%3D7abe71fe_4&imgrefurl=https%3A%2F%2Fwww.healthyeating.org%2FHealthy-Eating%2FAll-Star-Foods%2FFruits&tbnid=12LB6t-_YQapMM&vet=12ahUKEwj89P_r-IzvAhWnx3MBHRxpB6UQMygAegUIARDPAQ..i&docid=_XVIsgIH8atHaM&w=700&h=426&q=fruits&ved=2ahUKEwj89P_r-IzvAhWnx3MBHRxpB6UQMygAegUIARDPAQ\n",
      "https://www.google.com/imgres?imgurl=https%3A%2F%2Fwww.healthyeating.org%2Fimages%2Fdefault-source%2Fhome-0.0%2Fnutrition-topics-2.0%2Fgeneral-nutrition-wellness%2F2-2-2-3foodgroups_fruits_detailfeature_thumb.jpg%3Fsfvrsn%3D7abe71fe_4&imgrefurl=https%3A%2F%2Fwww.healthyeating.org%2FHealthy-Eating%2FAll-Star-Foods%2FFruits&tbnid=12LB6t-_YQapMM&vet=12ahUKEwj89P_r-IzvAhWnx3MBHRxpB6UQMygAegUIARDPAQ..i&docid=_XVIsgIH8atHaM&w=700&h=426&q=fruits&ved=2ahUKEwj89P_r-IzvAhWnx3MBHRxpB6UQMygAegUIARDPAQ\n",
      "https://www.google.com/imgres?imgurl=https%3A%2F%2Fwww.healthyeating.org%2Fimages%2Fdefault-source%2Fhome-0.0%2Fnutrition-topics-2.0%2Fgeneral-nutrition-wellness%2F2-2-2-3foodgroups_fruits_detailfeature_thumb.jpg%3Fsfvrsn%3D7abe71fe_4&imgrefurl=https%3A%2F%2Fwww.healthyeating.org%2FHealthy-Eating%2FAll-Star-Foods%2FFruits&tbnid=12LB6t-_YQapMM&vet=12ahUKEwj89P_r-IzvAhWnx3MBHRxpB6UQMygAegUIARDPAQ..i&docid=_XVIsgIH8atHaM&w=700&h=426&q=fruits&ved=2ahUKEwj89P_r-IzvAhWnx3MBHRxpB6UQMygAegUIARDPAQ\n",
      "https://www.google.com/imgres?imgurl=https%3A%2F%2Fwww.healthyeating.org%2Fimages%2Fdefault-source%2Fhome-0.0%2Fnutrition-topics-2.0%2Fgeneral-nutrition-wellness%2F2-2-2-3foodgroups_fruits_detailfeature_thumb.jpg%3Fsfvrsn%3D7abe71fe_4&imgrefurl=https%3A%2F%2Fwww.healthyeating.org%2FHealthy-Eating%2FAll-Star-Foods%2FFruits&tbnid=12LB6t-_YQapMM&vet=12ahUKEwj89P_r-IzvAhWnx3MBHRxpB6UQMygAegUIARDPAQ..i&docid=_XVIsgIH8atHaM&w=700&h=426&q=fruits&ved=2ahUKEwj89P_r-IzvAhWnx3MBHRxpB6UQMygAegUIARDPAQ\n",
      "https://www.google.com/imgres?imgurl=https%3A%2F%2Fwww.healthyeating.org%2Fimages%2Fdefault-source%2Fhome-0.0%2Fnutrition-topics-2.0%2Fgeneral-nutrition-wellness%2F2-2-2-3foodgroups_fruits_detailfeature_thumb.jpg%3Fsfvrsn%3D7abe71fe_4&imgrefurl=https%3A%2F%2Fwww.healthyeating.org%2FHealthy-Eating%2FAll-Star-Foods%2FFruits&tbnid=12LB6t-_YQapMM&vet=12ahUKEwj89P_r-IzvAhWnx3MBHRxpB6UQMygAegUIARDPAQ..i&docid=_XVIsgIH8atHaM&w=700&h=426&q=fruits&ved=2ahUKEwj89P_r-IzvAhWnx3MBHRxpB6UQMygAegUIARDPAQ\n",
      "https://www.google.com/imgres?imgurl=https%3A%2F%2Fwww.healthyeating.org%2Fimages%2Fdefault-source%2Fhome-0.0%2Fnutrition-topics-2.0%2Fgeneral-nutrition-wellness%2F2-2-2-3foodgroups_fruits_detailfeature_thumb.jpg%3Fsfvrsn%3D7abe71fe_4&imgrefurl=https%3A%2F%2Fwww.healthyeating.org%2FHealthy-Eating%2FAll-Star-Foods%2FFruits&tbnid=12LB6t-_YQapMM&vet=12ahUKEwj89P_r-IzvAhWnx3MBHRxpB6UQMygAegUIARDPAQ..i&docid=_XVIsgIH8atHaM&w=700&h=426&q=fruits&ved=2ahUKEwj89P_r-IzvAhWnx3MBHRxpB6UQMygAegUIARDPAQ\n",
      "https://www.google.com/imgres?imgurl=https%3A%2F%2Fwww.healthyeating.org%2Fimages%2Fdefault-source%2Fhome-0.0%2Fnutrition-topics-2.0%2Fgeneral-nutrition-wellness%2F2-2-2-3foodgroups_fruits_detailfeature_thumb.jpg%3Fsfvrsn%3D7abe71fe_4&imgrefurl=https%3A%2F%2Fwww.healthyeating.org%2FHealthy-Eating%2FAll-Star-Foods%2FFruits&tbnid=12LB6t-_YQapMM&vet=12ahUKEwj89P_r-IzvAhWnx3MBHRxpB6UQMygAegUIARDPAQ..i&docid=_XVIsgIH8atHaM&w=700&h=426&q=fruits&ved=2ahUKEwj89P_r-IzvAhWnx3MBHRxpB6UQMygAegUIARDPAQ\n",
      "https://www.google.com/imgres?imgurl=https%3A%2F%2Fwww.healthyeating.org%2Fimages%2Fdefault-source%2Fhome-0.0%2Fnutrition-topics-2.0%2Fgeneral-nutrition-wellness%2F2-2-2-3foodgroups_fruits_detailfeature_thumb.jpg%3Fsfvrsn%3D7abe71fe_4&imgrefurl=https%3A%2F%2Fwww.healthyeating.org%2FHealthy-Eating%2FAll-Star-Foods%2FFruits&tbnid=12LB6t-_YQapMM&vet=12ahUKEwj89P_r-IzvAhWnx3MBHRxpB6UQMygAegUIARDPAQ..i&docid=_XVIsgIH8atHaM&w=700&h=426&q=fruits&ved=2ahUKEwj89P_r-IzvAhWnx3MBHRxpB6UQMygAegUIARDPAQ\n",
      "https://www.google.com/imgres?imgurl=https%3A%2F%2Fwww.healthyeating.org%2Fimages%2Fdefault-source%2Fhome-0.0%2Fnutrition-topics-2.0%2Fgeneral-nutrition-wellness%2F2-2-2-3foodgroups_fruits_detailfeature_thumb.jpg%3Fsfvrsn%3D7abe71fe_4&imgrefurl=https%3A%2F%2Fwww.healthyeating.org%2FHealthy-Eating%2FAll-Star-Foods%2FFruits&tbnid=12LB6t-_YQapMM&vet=12ahUKEwj89P_r-IzvAhWnx3MBHRxpB6UQMygAegUIARDPAQ..i&docid=_XVIsgIH8atHaM&w=700&h=426&q=fruits&ved=2ahUKEwj89P_r-IzvAhWnx3MBHRxpB6UQMygAegUIARDPAQ\n",
      "https://www.google.com/imgres?imgurl=https%3A%2F%2Fwww.healthyeating.org%2Fimages%2Fdefault-source%2Fhome-0.0%2Fnutrition-topics-2.0%2Fgeneral-nutrition-wellness%2F2-2-2-3foodgroups_fruits_detailfeature_thumb.jpg%3Fsfvrsn%3D7abe71fe_4&imgrefurl=https%3A%2F%2Fwww.healthyeating.org%2FHealthy-Eating%2FAll-Star-Foods%2FFruits&tbnid=12LB6t-_YQapMM&vet=12ahUKEwj89P_r-IzvAhWnx3MBHRxpB6UQMygAegUIARDPAQ..i&docid=_XVIsgIH8atHaM&w=700&h=426&q=fruits&ved=2ahUKEwj89P_r-IzvAhWnx3MBHRxpB6UQMygAegUIARDPAQ\n",
      "https://www.google.com/imgres?imgurl=https%3A%2F%2Fwww.healthyeating.org%2Fimages%2Fdefault-source%2Fhome-0.0%2Fnutrition-topics-2.0%2Fgeneral-nutrition-wellness%2F2-2-2-3foodgroups_fruits_detailfeature_thumb.jpg%3Fsfvrsn%3D7abe71fe_4&imgrefurl=https%3A%2F%2Fwww.healthyeating.org%2FHealthy-Eating%2FAll-Star-Foods%2FFruits&tbnid=12LB6t-_YQapMM&vet=12ahUKEwj89P_r-IzvAhWnx3MBHRxpB6UQMygAegUIARDPAQ..i&docid=_XVIsgIH8atHaM&w=700&h=426&q=fruits&ved=2ahUKEwj89P_r-IzvAhWnx3MBHRxpB6UQMygAegUIARDPAQ\n",
      "https://www.google.com/imgres?imgurl=https%3A%2F%2Fwww.healthyeating.org%2Fimages%2Fdefault-source%2Fhome-0.0%2Fnutrition-topics-2.0%2Fgeneral-nutrition-wellness%2F2-2-2-3foodgroups_fruits_detailfeature_thumb.jpg%3Fsfvrsn%3D7abe71fe_4&imgrefurl=https%3A%2F%2Fwww.healthyeating.org%2FHealthy-Eating%2FAll-Star-Foods%2FFruits&tbnid=12LB6t-_YQapMM&vet=12ahUKEwj89P_r-IzvAhWnx3MBHRxpB6UQMygAegUIARDPAQ..i&docid=_XVIsgIH8atHaM&w=700&h=426&q=fruits&ved=2ahUKEwj89P_r-IzvAhWnx3MBHRxpB6UQMygAegUIARDPAQ\n",
      "https://www.google.com/imgres?imgurl=https%3A%2F%2Fwww.healthyeating.org%2Fimages%2Fdefault-source%2Fhome-0.0%2Fnutrition-topics-2.0%2Fgeneral-nutrition-wellness%2F2-2-2-3foodgroups_fruits_detailfeature_thumb.jpg%3Fsfvrsn%3D7abe71fe_4&imgrefurl=https%3A%2F%2Fwww.healthyeating.org%2FHealthy-Eating%2FAll-Star-Foods%2FFruits&tbnid=12LB6t-_YQapMM&vet=12ahUKEwj89P_r-IzvAhWnx3MBHRxpB6UQMygAegUIARDPAQ..i&docid=_XVIsgIH8atHaM&w=700&h=426&q=fruits&ved=2ahUKEwj89P_r-IzvAhWnx3MBHRxpB6UQMygAegUIARDPAQ\n",
      "https://www.google.com/imgres?imgurl=https%3A%2F%2Fwww.healthyeating.org%2Fimages%2Fdefault-source%2Fhome-0.0%2Fnutrition-topics-2.0%2Fgeneral-nutrition-wellness%2F2-2-2-3foodgroups_fruits_detailfeature_thumb.jpg%3Fsfvrsn%3D7abe71fe_4&imgrefurl=https%3A%2F%2Fwww.healthyeating.org%2FHealthy-Eating%2FAll-Star-Foods%2FFruits&tbnid=12LB6t-_YQapMM&vet=12ahUKEwj89P_r-IzvAhWnx3MBHRxpB6UQMygAegUIARDPAQ..i&docid=_XVIsgIH8atHaM&w=700&h=426&q=fruits&ved=2ahUKEwj89P_r-IzvAhWnx3MBHRxpB6UQMygAegUIARDPAQ\n",
      "https://www.google.com/imgres?imgurl=https%3A%2F%2Fwww.healthyeating.org%2Fimages%2Fdefault-source%2Fhome-0.0%2Fnutrition-topics-2.0%2Fgeneral-nutrition-wellness%2F2-2-2-3foodgroups_fruits_detailfeature_thumb.jpg%3Fsfvrsn%3D7abe71fe_4&imgrefurl=https%3A%2F%2Fwww.healthyeating.org%2FHealthy-Eating%2FAll-Star-Foods%2FFruits&tbnid=12LB6t-_YQapMM&vet=12ahUKEwj89P_r-IzvAhWnx3MBHRxpB6UQMygAegUIARDPAQ..i&docid=_XVIsgIH8atHaM&w=700&h=426&q=fruits&ved=2ahUKEwj89P_r-IzvAhWnx3MBHRxpB6UQMygAegUIARDPAQ\n",
      "https://www.google.com/imgres?imgurl=https%3A%2F%2Fwww.healthyeating.org%2Fimages%2Fdefault-source%2Fhome-0.0%2Fnutrition-topics-2.0%2Fgeneral-nutrition-wellness%2F2-2-2-3foodgroups_fruits_detailfeature_thumb.jpg%3Fsfvrsn%3D7abe71fe_4&imgrefurl=https%3A%2F%2Fwww.healthyeating.org%2FHealthy-Eating%2FAll-Star-Foods%2FFruits&tbnid=12LB6t-_YQapMM&vet=12ahUKEwj89P_r-IzvAhWnx3MBHRxpB6UQMygAegUIARDPAQ..i&docid=_XVIsgIH8atHaM&w=700&h=426&q=fruits&ved=2ahUKEwj89P_r-IzvAhWnx3MBHRxpB6UQMygAegUIARDPAQ\n",
      "https://www.google.com/imgres?imgurl=https%3A%2F%2Fwww.healthyeating.org%2Fimages%2Fdefault-source%2Fhome-0.0%2Fnutrition-topics-2.0%2Fgeneral-nutrition-wellness%2F2-2-2-3foodgroups_fruits_detailfeature_thumb.jpg%3Fsfvrsn%3D7abe71fe_4&imgrefurl=https%3A%2F%2Fwww.healthyeating.org%2FHealthy-Eating%2FAll-Star-Foods%2FFruits&tbnid=12LB6t-_YQapMM&vet=12ahUKEwj89P_r-IzvAhWnx3MBHRxpB6UQMygAegUIARDPAQ..i&docid=_XVIsgIH8atHaM&w=700&h=426&q=fruits&ved=2ahUKEwj89P_r-IzvAhWnx3MBHRxpB6UQMygAegUIARDPAQ\n",
      "https://www.google.com/imgres?imgurl=https%3A%2F%2Fwww.healthyeating.org%2Fimages%2Fdefault-source%2Fhome-0.0%2Fnutrition-topics-2.0%2Fgeneral-nutrition-wellness%2F2-2-2-3foodgroups_fruits_detailfeature_thumb.jpg%3Fsfvrsn%3D7abe71fe_4&imgrefurl=https%3A%2F%2Fwww.healthyeating.org%2FHealthy-Eating%2FAll-Star-Foods%2FFruits&tbnid=12LB6t-_YQapMM&vet=12ahUKEwj89P_r-IzvAhWnx3MBHRxpB6UQMygAegUIARDPAQ..i&docid=_XVIsgIH8atHaM&w=700&h=426&q=fruits&ved=2ahUKEwj89P_r-IzvAhWnx3MBHRxpB6UQMygAegUIARDPAQ\n",
      "https://www.google.com/imgres?imgurl=https%3A%2F%2Fwww.healthyeating.org%2Fimages%2Fdefault-source%2Fhome-0.0%2Fnutrition-topics-2.0%2Fgeneral-nutrition-wellness%2F2-2-2-3foodgroups_fruits_detailfeature_thumb.jpg%3Fsfvrsn%3D7abe71fe_4&imgrefurl=https%3A%2F%2Fwww.healthyeating.org%2FHealthy-Eating%2FAll-Star-Foods%2FFruits&tbnid=12LB6t-_YQapMM&vet=12ahUKEwj89P_r-IzvAhWnx3MBHRxpB6UQMygAegUIARDPAQ..i&docid=_XVIsgIH8atHaM&w=700&h=426&q=fruits&ved=2ahUKEwj89P_r-IzvAhWnx3MBHRxpB6UQMygAegUIARDPAQ\n",
      "https://www.google.com/imgres?imgurl=https%3A%2F%2Fwww.healthyeating.org%2Fimages%2Fdefault-source%2Fhome-0.0%2Fnutrition-topics-2.0%2Fgeneral-nutrition-wellness%2F2-2-2-3foodgroups_fruits_detailfeature_thumb.jpg%3Fsfvrsn%3D7abe71fe_4&imgrefurl=https%3A%2F%2Fwww.healthyeating.org%2FHealthy-Eating%2FAll-Star-Foods%2FFruits&tbnid=12LB6t-_YQapMM&vet=12ahUKEwj89P_r-IzvAhWnx3MBHRxpB6UQMygAegUIARDPAQ..i&docid=_XVIsgIH8atHaM&w=700&h=426&q=fruits&ved=2ahUKEwj89P_r-IzvAhWnx3MBHRxpB6UQMygAegUIARDPAQ\n",
      "https://www.google.com/imgres?imgurl=https%3A%2F%2Fwww.healthyeating.org%2Fimages%2Fdefault-source%2Fhome-0.0%2Fnutrition-topics-2.0%2Fgeneral-nutrition-wellness%2F2-2-2-3foodgroups_fruits_detailfeature_thumb.jpg%3Fsfvrsn%3D7abe71fe_4&imgrefurl=https%3A%2F%2Fwww.healthyeating.org%2FHealthy-Eating%2FAll-Star-Foods%2FFruits&tbnid=12LB6t-_YQapMM&vet=12ahUKEwj89P_r-IzvAhWnx3MBHRxpB6UQMygAegUIARDPAQ..i&docid=_XVIsgIH8atHaM&w=700&h=426&q=fruits&ved=2ahUKEwj89P_r-IzvAhWnx3MBHRxpB6UQMygAegUIARDPAQ\n",
      "https://www.google.com/imgres?imgurl=https%3A%2F%2Fwww.healthyeating.org%2Fimages%2Fdefault-source%2Fhome-0.0%2Fnutrition-topics-2.0%2Fgeneral-nutrition-wellness%2F2-2-2-3foodgroups_fruits_detailfeature_thumb.jpg%3Fsfvrsn%3D7abe71fe_4&imgrefurl=https%3A%2F%2Fwww.healthyeating.org%2FHealthy-Eating%2FAll-Star-Foods%2FFruits&tbnid=12LB6t-_YQapMM&vet=12ahUKEwj89P_r-IzvAhWnx3MBHRxpB6UQMygAegUIARDPAQ..i&docid=_XVIsgIH8atHaM&w=700&h=426&q=fruits&ved=2ahUKEwj89P_r-IzvAhWnx3MBHRxpB6UQMygAegUIARDPAQ\n",
      "https://www.google.com/imgres?imgurl=https%3A%2F%2Fwww.healthyeating.org%2Fimages%2Fdefault-source%2Fhome-0.0%2Fnutrition-topics-2.0%2Fgeneral-nutrition-wellness%2F2-2-2-3foodgroups_fruits_detailfeature_thumb.jpg%3Fsfvrsn%3D7abe71fe_4&imgrefurl=https%3A%2F%2Fwww.healthyeating.org%2FHealthy-Eating%2FAll-Star-Foods%2FFruits&tbnid=12LB6t-_YQapMM&vet=12ahUKEwj89P_r-IzvAhWnx3MBHRxpB6UQMygAegUIARDPAQ..i&docid=_XVIsgIH8atHaM&w=700&h=426&q=fruits&ved=2ahUKEwj89P_r-IzvAhWnx3MBHRxpB6UQMygAegUIARDPAQ\n",
      "https://www.google.com/imgres?imgurl=https%3A%2F%2Fwww.healthyeating.org%2Fimages%2Fdefault-source%2Fhome-0.0%2Fnutrition-topics-2.0%2Fgeneral-nutrition-wellness%2F2-2-2-3foodgroups_fruits_detailfeature_thumb.jpg%3Fsfvrsn%3D7abe71fe_4&imgrefurl=https%3A%2F%2Fwww.healthyeating.org%2FHealthy-Eating%2FAll-Star-Foods%2FFruits&tbnid=12LB6t-_YQapMM&vet=12ahUKEwj89P_r-IzvAhWnx3MBHRxpB6UQMygAegUIARDPAQ..i&docid=_XVIsgIH8atHaM&w=700&h=426&q=fruits&ved=2ahUKEwj89P_r-IzvAhWnx3MBHRxpB6UQMygAegUIARDPAQ\n",
      "https://www.google.com/imgres?imgurl=https%3A%2F%2Fwww.healthyeating.org%2Fimages%2Fdefault-source%2Fhome-0.0%2Fnutrition-topics-2.0%2Fgeneral-nutrition-wellness%2F2-2-2-3foodgroups_fruits_detailfeature_thumb.jpg%3Fsfvrsn%3D7abe71fe_4&imgrefurl=https%3A%2F%2Fwww.healthyeating.org%2FHealthy-Eating%2FAll-Star-Foods%2FFruits&tbnid=12LB6t-_YQapMM&vet=12ahUKEwj89P_r-IzvAhWnx3MBHRxpB6UQMygAegUIARDPAQ..i&docid=_XVIsgIH8atHaM&w=700&h=426&q=fruits&ved=2ahUKEwj89P_r-IzvAhWnx3MBHRxpB6UQMygAegUIARDPAQ\n",
      "https://www.google.com/imgres?imgurl=https%3A%2F%2Fwww.healthyeating.org%2Fimages%2Fdefault-source%2Fhome-0.0%2Fnutrition-topics-2.0%2Fgeneral-nutrition-wellness%2F2-2-2-3foodgroups_fruits_detailfeature_thumb.jpg%3Fsfvrsn%3D7abe71fe_4&imgrefurl=https%3A%2F%2Fwww.healthyeating.org%2FHealthy-Eating%2FAll-Star-Foods%2FFruits&tbnid=12LB6t-_YQapMM&vet=12ahUKEwj89P_r-IzvAhWnx3MBHRxpB6UQMygAegUIARDPAQ..i&docid=_XVIsgIH8atHaM&w=700&h=426&q=fruits&ved=2ahUKEwj89P_r-IzvAhWnx3MBHRxpB6UQMygAegUIARDPAQ\n",
      "https://www.google.com/imgres?imgurl=https%3A%2F%2Fwww.healthyeating.org%2Fimages%2Fdefault-source%2Fhome-0.0%2Fnutrition-topics-2.0%2Fgeneral-nutrition-wellness%2F2-2-2-3foodgroups_fruits_detailfeature_thumb.jpg%3Fsfvrsn%3D7abe71fe_4&imgrefurl=https%3A%2F%2Fwww.healthyeating.org%2FHealthy-Eating%2FAll-Star-Foods%2FFruits&tbnid=12LB6t-_YQapMM&vet=12ahUKEwj89P_r-IzvAhWnx3MBHRxpB6UQMygAegUIARDPAQ..i&docid=_XVIsgIH8atHaM&w=700&h=426&q=fruits&ved=2ahUKEwj89P_r-IzvAhWnx3MBHRxpB6UQMygAegUIARDPAQ\n",
      "https://www.google.com/imgres?imgurl=https%3A%2F%2Fwww.healthyeating.org%2Fimages%2Fdefault-source%2Fhome-0.0%2Fnutrition-topics-2.0%2Fgeneral-nutrition-wellness%2F2-2-2-3foodgroups_fruits_detailfeature_thumb.jpg%3Fsfvrsn%3D7abe71fe_4&imgrefurl=https%3A%2F%2Fwww.healthyeating.org%2FHealthy-Eating%2FAll-Star-Foods%2FFruits&tbnid=12LB6t-_YQapMM&vet=12ahUKEwj89P_r-IzvAhWnx3MBHRxpB6UQMygAegUIARDPAQ..i&docid=_XVIsgIH8atHaM&w=700&h=426&q=fruits&ved=2ahUKEwj89P_r-IzvAhWnx3MBHRxpB6UQMygAegUIARDPAQ\n",
      "https://www.google.com/imgres?imgurl=https%3A%2F%2Fwww.healthyeating.org%2Fimages%2Fdefault-source%2Fhome-0.0%2Fnutrition-topics-2.0%2Fgeneral-nutrition-wellness%2F2-2-2-3foodgroups_fruits_detailfeature_thumb.jpg%3Fsfvrsn%3D7abe71fe_4&imgrefurl=https%3A%2F%2Fwww.healthyeating.org%2FHealthy-Eating%2FAll-Star-Foods%2FFruits&tbnid=12LB6t-_YQapMM&vet=12ahUKEwj89P_r-IzvAhWnx3MBHRxpB6UQMygAegUIARDPAQ..i&docid=_XVIsgIH8atHaM&w=700&h=426&q=fruits&ved=2ahUKEwj89P_r-IzvAhWnx3MBHRxpB6UQMygAegUIARDPAQ\n",
      "https://www.google.com/imgres?imgurl=https%3A%2F%2Fwww.healthyeating.org%2Fimages%2Fdefault-source%2Fhome-0.0%2Fnutrition-topics-2.0%2Fgeneral-nutrition-wellness%2F2-2-2-3foodgroups_fruits_detailfeature_thumb.jpg%3Fsfvrsn%3D7abe71fe_4&imgrefurl=https%3A%2F%2Fwww.healthyeating.org%2FHealthy-Eating%2FAll-Star-Foods%2FFruits&tbnid=12LB6t-_YQapMM&vet=12ahUKEwj89P_r-IzvAhWnx3MBHRxpB6UQMygAegUIARDPAQ..i&docid=_XVIsgIH8atHaM&w=700&h=426&q=fruits&ved=2ahUKEwj89P_r-IzvAhWnx3MBHRxpB6UQMygAegUIARDPAQ\n",
      "https://www.google.com/imgres?imgurl=https%3A%2F%2Fwww.healthyeating.org%2Fimages%2Fdefault-source%2Fhome-0.0%2Fnutrition-topics-2.0%2Fgeneral-nutrition-wellness%2F2-2-2-3foodgroups_fruits_detailfeature_thumb.jpg%3Fsfvrsn%3D7abe71fe_4&imgrefurl=https%3A%2F%2Fwww.healthyeating.org%2FHealthy-Eating%2FAll-Star-Foods%2FFruits&tbnid=12LB6t-_YQapMM&vet=12ahUKEwj89P_r-IzvAhWnx3MBHRxpB6UQMygAegUIARDPAQ..i&docid=_XVIsgIH8atHaM&w=700&h=426&q=fruits&ved=2ahUKEwj89P_r-IzvAhWnx3MBHRxpB6UQMygAegUIARDPAQ\n",
      "https://www.google.com/imgres?imgurl=https%3A%2F%2Fwww.healthyeating.org%2Fimages%2Fdefault-source%2Fhome-0.0%2Fnutrition-topics-2.0%2Fgeneral-nutrition-wellness%2F2-2-2-3foodgroups_fruits_detailfeature_thumb.jpg%3Fsfvrsn%3D7abe71fe_4&imgrefurl=https%3A%2F%2Fwww.healthyeating.org%2FHealthy-Eating%2FAll-Star-Foods%2FFruits&tbnid=12LB6t-_YQapMM&vet=12ahUKEwj89P_r-IzvAhWnx3MBHRxpB6UQMygAegUIARDPAQ..i&docid=_XVIsgIH8atHaM&w=700&h=426&q=fruits&ved=2ahUKEwj89P_r-IzvAhWnx3MBHRxpB6UQMygAegUIARDPAQ\n",
      "https://www.google.com/imgres?imgurl=https%3A%2F%2Fwww.healthyeating.org%2Fimages%2Fdefault-source%2Fhome-0.0%2Fnutrition-topics-2.0%2Fgeneral-nutrition-wellness%2F2-2-2-3foodgroups_fruits_detailfeature_thumb.jpg%3Fsfvrsn%3D7abe71fe_4&imgrefurl=https%3A%2F%2Fwww.healthyeating.org%2FHealthy-Eating%2FAll-Star-Foods%2FFruits&tbnid=12LB6t-_YQapMM&vet=12ahUKEwj89P_r-IzvAhWnx3MBHRxpB6UQMygAegUIARDPAQ..i&docid=_XVIsgIH8atHaM&w=700&h=426&q=fruits&ved=2ahUKEwj89P_r-IzvAhWnx3MBHRxpB6UQMygAegUIARDPAQ\n",
      "https://www.google.com/imgres?imgurl=https%3A%2F%2Fwww.healthyeating.org%2Fimages%2Fdefault-source%2Fhome-0.0%2Fnutrition-topics-2.0%2Fgeneral-nutrition-wellness%2F2-2-2-3foodgroups_fruits_detailfeature_thumb.jpg%3Fsfvrsn%3D7abe71fe_4&imgrefurl=https%3A%2F%2Fwww.healthyeating.org%2FHealthy-Eating%2FAll-Star-Foods%2FFruits&tbnid=12LB6t-_YQapMM&vet=12ahUKEwj89P_r-IzvAhWnx3MBHRxpB6UQMygAegUIARDPAQ..i&docid=_XVIsgIH8atHaM&w=700&h=426&q=fruits&ved=2ahUKEwj89P_r-IzvAhWnx3MBHRxpB6UQMygAegUIARDPAQ\n"
     ]
    }
   ],
   "source": [
    "for i in range(0,99):\n",
    "    print(driver.find_element_by_xpath(\"//*[@id='islrg']/div[1]/div[1]/a[1]\").get_attribute('href'))"
   ]
  },
  {
   "cell_type": "code",
   "execution_count": 20,
   "metadata": {},
   "outputs": [],
   "source": [
    "driver.close()"
   ]
  },
  {
   "cell_type": "code",
   "execution_count": 21,
   "metadata": {},
   "outputs": [],
   "source": [
    "driver=webdriver.Chrome(\"Desktop/chromedriver.exe\")"
   ]
  },
  {
   "cell_type": "code",
   "execution_count": 22,
   "metadata": {},
   "outputs": [],
   "source": [
    "driver.get(\"https://images.google.com/\")"
   ]
  },
  {
   "cell_type": "code",
   "execution_count": 23,
   "metadata": {},
   "outputs": [],
   "source": [
    "url=\"https://images.google.com/\""
   ]
  },
  {
   "cell_type": "code",
   "execution_count": 24,
   "metadata": {},
   "outputs": [],
   "source": [
    "driver.get(url)"
   ]
  },
  {
   "cell_type": "code",
   "execution_count": 25,
   "metadata": {},
   "outputs": [],
   "source": [
    "search_cars=driver.find_element_by_xpath(\"//*[@id='sbtc']/div/div[2]/input\")\n",
    "search_cars.send_keys(\"cars\")"
   ]
  },
  {
   "cell_type": "code",
   "execution_count": 26,
   "metadata": {},
   "outputs": [],
   "source": [
    "search_btn=driver.find_element_by_xpath(\"//span[@class='z1asCe MZy1Rb']\")\n",
    "search_btn.click()"
   ]
  },
  {
   "cell_type": "code",
   "execution_count": 27,
   "metadata": {},
   "outputs": [],
   "source": [
    "page=requests.get(\"https://www.google.com/search?tbm=isch&source=hp&biw=982&bih=710&ei=FoE6YKfDJo-CrtoP3eC5gAk&q=cars&oq=cars&gs_lcp=CgNpbWcQDDICCAAyBQgAELEDMgUIABCxAzICCAAyBQgAELEDMgUIABCxAzIFCAAQsQMyAggAMgUIABCxAzIFCAAQsQM6CAgAELEDEIMBUMCNBFjqjQRgo9QLaABwAHgBgAHMAogB3QmSAQUyLTEuM5gBAKABAaoBC2d3cy13aXotaW1n&sclient=img&ved=0ahUKEwinpu6hy4rvAhUPgUsFHV1wDpAQ4dUDCAc\")"
   ]
  },
  {
   "cell_type": "code",
   "execution_count": 28,
   "metadata": {},
   "outputs": [],
   "source": [
    "soup=BeautifulSoup(page.content,'html.parser')"
   ]
  },
  {
   "cell_type": "code",
   "execution_count": 29,
   "metadata": {},
   "outputs": [
    {
     "name": "stdout",
     "output_type": "stream",
     "text": [
      "https://www.google.com/imgres?imgurl=https%3A%2F%2Fspecials-images.forbesimg.com%2Fimageserve%2F5d3703e2f1176b00089761a6%2F960x0.jpg%3FcropX1%3D836%26cropX2%3D5396%26cropY1%3D799%26cropY2%3D3364&imgrefurl=https%3A%2F%2Fwww.forbes.com%2Fsites%2Fjimgorzelany%2F2019%2F07%2F23%2Fhere-are-the-coolest-new-cars-for-2020%2F&tbnid=2HR6gA81oIwMTM&vet=12ahUKEwiXyIbO-YzvAhUP4jgGHeClAuwQMygAegUIARDNAQ..i&docid=HZLLyFhoQjvNCM&w=960&h=540&q=cars&ved=2ahUKEwiXyIbO-YzvAhUP4jgGHeClAuwQMygAegUIARDNAQ\n",
      "https://www.google.com/imgres?imgurl=https%3A%2F%2Fspecials-images.forbesimg.com%2Fimageserve%2F5d3703e2f1176b00089761a6%2F960x0.jpg%3FcropX1%3D836%26cropX2%3D5396%26cropY1%3D799%26cropY2%3D3364&imgrefurl=https%3A%2F%2Fwww.forbes.com%2Fsites%2Fjimgorzelany%2F2019%2F07%2F23%2Fhere-are-the-coolest-new-cars-for-2020%2F&tbnid=2HR6gA81oIwMTM&vet=12ahUKEwiXyIbO-YzvAhUP4jgGHeClAuwQMygAegUIARDNAQ..i&docid=HZLLyFhoQjvNCM&w=960&h=540&q=cars&ved=2ahUKEwiXyIbO-YzvAhUP4jgGHeClAuwQMygAegUIARDNAQ\n",
      "https://www.google.com/imgres?imgurl=https%3A%2F%2Fspecials-images.forbesimg.com%2Fimageserve%2F5d3703e2f1176b00089761a6%2F960x0.jpg%3FcropX1%3D836%26cropX2%3D5396%26cropY1%3D799%26cropY2%3D3364&imgrefurl=https%3A%2F%2Fwww.forbes.com%2Fsites%2Fjimgorzelany%2F2019%2F07%2F23%2Fhere-are-the-coolest-new-cars-for-2020%2F&tbnid=2HR6gA81oIwMTM&vet=12ahUKEwiXyIbO-YzvAhUP4jgGHeClAuwQMygAegUIARDNAQ..i&docid=HZLLyFhoQjvNCM&w=960&h=540&q=cars&ved=2ahUKEwiXyIbO-YzvAhUP4jgGHeClAuwQMygAegUIARDNAQ\n",
      "https://www.google.com/imgres?imgurl=https%3A%2F%2Fspecials-images.forbesimg.com%2Fimageserve%2F5d3703e2f1176b00089761a6%2F960x0.jpg%3FcropX1%3D836%26cropX2%3D5396%26cropY1%3D799%26cropY2%3D3364&imgrefurl=https%3A%2F%2Fwww.forbes.com%2Fsites%2Fjimgorzelany%2F2019%2F07%2F23%2Fhere-are-the-coolest-new-cars-for-2020%2F&tbnid=2HR6gA81oIwMTM&vet=12ahUKEwiXyIbO-YzvAhUP4jgGHeClAuwQMygAegUIARDNAQ..i&docid=HZLLyFhoQjvNCM&w=960&h=540&q=cars&ved=2ahUKEwiXyIbO-YzvAhUP4jgGHeClAuwQMygAegUIARDNAQ\n",
      "https://www.google.com/imgres?imgurl=https%3A%2F%2Fspecials-images.forbesimg.com%2Fimageserve%2F5d3703e2f1176b00089761a6%2F960x0.jpg%3FcropX1%3D836%26cropX2%3D5396%26cropY1%3D799%26cropY2%3D3364&imgrefurl=https%3A%2F%2Fwww.forbes.com%2Fsites%2Fjimgorzelany%2F2019%2F07%2F23%2Fhere-are-the-coolest-new-cars-for-2020%2F&tbnid=2HR6gA81oIwMTM&vet=12ahUKEwiXyIbO-YzvAhUP4jgGHeClAuwQMygAegUIARDNAQ..i&docid=HZLLyFhoQjvNCM&w=960&h=540&q=cars&ved=2ahUKEwiXyIbO-YzvAhUP4jgGHeClAuwQMygAegUIARDNAQ\n",
      "https://www.google.com/imgres?imgurl=https%3A%2F%2Fspecials-images.forbesimg.com%2Fimageserve%2F5d3703e2f1176b00089761a6%2F960x0.jpg%3FcropX1%3D836%26cropX2%3D5396%26cropY1%3D799%26cropY2%3D3364&imgrefurl=https%3A%2F%2Fwww.forbes.com%2Fsites%2Fjimgorzelany%2F2019%2F07%2F23%2Fhere-are-the-coolest-new-cars-for-2020%2F&tbnid=2HR6gA81oIwMTM&vet=12ahUKEwiXyIbO-YzvAhUP4jgGHeClAuwQMygAegUIARDNAQ..i&docid=HZLLyFhoQjvNCM&w=960&h=540&q=cars&ved=2ahUKEwiXyIbO-YzvAhUP4jgGHeClAuwQMygAegUIARDNAQ\n",
      "https://www.google.com/imgres?imgurl=https%3A%2F%2Fspecials-images.forbesimg.com%2Fimageserve%2F5d3703e2f1176b00089761a6%2F960x0.jpg%3FcropX1%3D836%26cropX2%3D5396%26cropY1%3D799%26cropY2%3D3364&imgrefurl=https%3A%2F%2Fwww.forbes.com%2Fsites%2Fjimgorzelany%2F2019%2F07%2F23%2Fhere-are-the-coolest-new-cars-for-2020%2F&tbnid=2HR6gA81oIwMTM&vet=12ahUKEwiXyIbO-YzvAhUP4jgGHeClAuwQMygAegUIARDNAQ..i&docid=HZLLyFhoQjvNCM&w=960&h=540&q=cars&ved=2ahUKEwiXyIbO-YzvAhUP4jgGHeClAuwQMygAegUIARDNAQ\n",
      "https://www.google.com/imgres?imgurl=https%3A%2F%2Fspecials-images.forbesimg.com%2Fimageserve%2F5d3703e2f1176b00089761a6%2F960x0.jpg%3FcropX1%3D836%26cropX2%3D5396%26cropY1%3D799%26cropY2%3D3364&imgrefurl=https%3A%2F%2Fwww.forbes.com%2Fsites%2Fjimgorzelany%2F2019%2F07%2F23%2Fhere-are-the-coolest-new-cars-for-2020%2F&tbnid=2HR6gA81oIwMTM&vet=12ahUKEwiXyIbO-YzvAhUP4jgGHeClAuwQMygAegUIARDNAQ..i&docid=HZLLyFhoQjvNCM&w=960&h=540&q=cars&ved=2ahUKEwiXyIbO-YzvAhUP4jgGHeClAuwQMygAegUIARDNAQ\n",
      "https://www.google.com/imgres?imgurl=https%3A%2F%2Fspecials-images.forbesimg.com%2Fimageserve%2F5d3703e2f1176b00089761a6%2F960x0.jpg%3FcropX1%3D836%26cropX2%3D5396%26cropY1%3D799%26cropY2%3D3364&imgrefurl=https%3A%2F%2Fwww.forbes.com%2Fsites%2Fjimgorzelany%2F2019%2F07%2F23%2Fhere-are-the-coolest-new-cars-for-2020%2F&tbnid=2HR6gA81oIwMTM&vet=12ahUKEwiXyIbO-YzvAhUP4jgGHeClAuwQMygAegUIARDNAQ..i&docid=HZLLyFhoQjvNCM&w=960&h=540&q=cars&ved=2ahUKEwiXyIbO-YzvAhUP4jgGHeClAuwQMygAegUIARDNAQ\n",
      "https://www.google.com/imgres?imgurl=https%3A%2F%2Fspecials-images.forbesimg.com%2Fimageserve%2F5d3703e2f1176b00089761a6%2F960x0.jpg%3FcropX1%3D836%26cropX2%3D5396%26cropY1%3D799%26cropY2%3D3364&imgrefurl=https%3A%2F%2Fwww.forbes.com%2Fsites%2Fjimgorzelany%2F2019%2F07%2F23%2Fhere-are-the-coolest-new-cars-for-2020%2F&tbnid=2HR6gA81oIwMTM&vet=12ahUKEwiXyIbO-YzvAhUP4jgGHeClAuwQMygAegUIARDNAQ..i&docid=HZLLyFhoQjvNCM&w=960&h=540&q=cars&ved=2ahUKEwiXyIbO-YzvAhUP4jgGHeClAuwQMygAegUIARDNAQ\n",
      "https://www.google.com/imgres?imgurl=https%3A%2F%2Fspecials-images.forbesimg.com%2Fimageserve%2F5d3703e2f1176b00089761a6%2F960x0.jpg%3FcropX1%3D836%26cropX2%3D5396%26cropY1%3D799%26cropY2%3D3364&imgrefurl=https%3A%2F%2Fwww.forbes.com%2Fsites%2Fjimgorzelany%2F2019%2F07%2F23%2Fhere-are-the-coolest-new-cars-for-2020%2F&tbnid=2HR6gA81oIwMTM&vet=12ahUKEwiXyIbO-YzvAhUP4jgGHeClAuwQMygAegUIARDNAQ..i&docid=HZLLyFhoQjvNCM&w=960&h=540&q=cars&ved=2ahUKEwiXyIbO-YzvAhUP4jgGHeClAuwQMygAegUIARDNAQ\n",
      "https://www.google.com/imgres?imgurl=https%3A%2F%2Fspecials-images.forbesimg.com%2Fimageserve%2F5d3703e2f1176b00089761a6%2F960x0.jpg%3FcropX1%3D836%26cropX2%3D5396%26cropY1%3D799%26cropY2%3D3364&imgrefurl=https%3A%2F%2Fwww.forbes.com%2Fsites%2Fjimgorzelany%2F2019%2F07%2F23%2Fhere-are-the-coolest-new-cars-for-2020%2F&tbnid=2HR6gA81oIwMTM&vet=12ahUKEwiXyIbO-YzvAhUP4jgGHeClAuwQMygAegUIARDNAQ..i&docid=HZLLyFhoQjvNCM&w=960&h=540&q=cars&ved=2ahUKEwiXyIbO-YzvAhUP4jgGHeClAuwQMygAegUIARDNAQ\n",
      "https://www.google.com/imgres?imgurl=https%3A%2F%2Fspecials-images.forbesimg.com%2Fimageserve%2F5d3703e2f1176b00089761a6%2F960x0.jpg%3FcropX1%3D836%26cropX2%3D5396%26cropY1%3D799%26cropY2%3D3364&imgrefurl=https%3A%2F%2Fwww.forbes.com%2Fsites%2Fjimgorzelany%2F2019%2F07%2F23%2Fhere-are-the-coolest-new-cars-for-2020%2F&tbnid=2HR6gA81oIwMTM&vet=12ahUKEwiXyIbO-YzvAhUP4jgGHeClAuwQMygAegUIARDNAQ..i&docid=HZLLyFhoQjvNCM&w=960&h=540&q=cars&ved=2ahUKEwiXyIbO-YzvAhUP4jgGHeClAuwQMygAegUIARDNAQ\n",
      "https://www.google.com/imgres?imgurl=https%3A%2F%2Fspecials-images.forbesimg.com%2Fimageserve%2F5d3703e2f1176b00089761a6%2F960x0.jpg%3FcropX1%3D836%26cropX2%3D5396%26cropY1%3D799%26cropY2%3D3364&imgrefurl=https%3A%2F%2Fwww.forbes.com%2Fsites%2Fjimgorzelany%2F2019%2F07%2F23%2Fhere-are-the-coolest-new-cars-for-2020%2F&tbnid=2HR6gA81oIwMTM&vet=12ahUKEwiXyIbO-YzvAhUP4jgGHeClAuwQMygAegUIARDNAQ..i&docid=HZLLyFhoQjvNCM&w=960&h=540&q=cars&ved=2ahUKEwiXyIbO-YzvAhUP4jgGHeClAuwQMygAegUIARDNAQ\n",
      "https://www.google.com/imgres?imgurl=https%3A%2F%2Fspecials-images.forbesimg.com%2Fimageserve%2F5d3703e2f1176b00089761a6%2F960x0.jpg%3FcropX1%3D836%26cropX2%3D5396%26cropY1%3D799%26cropY2%3D3364&imgrefurl=https%3A%2F%2Fwww.forbes.com%2Fsites%2Fjimgorzelany%2F2019%2F07%2F23%2Fhere-are-the-coolest-new-cars-for-2020%2F&tbnid=2HR6gA81oIwMTM&vet=12ahUKEwiXyIbO-YzvAhUP4jgGHeClAuwQMygAegUIARDNAQ..i&docid=HZLLyFhoQjvNCM&w=960&h=540&q=cars&ved=2ahUKEwiXyIbO-YzvAhUP4jgGHeClAuwQMygAegUIARDNAQ\n",
      "https://www.google.com/imgres?imgurl=https%3A%2F%2Fspecials-images.forbesimg.com%2Fimageserve%2F5d3703e2f1176b00089761a6%2F960x0.jpg%3FcropX1%3D836%26cropX2%3D5396%26cropY1%3D799%26cropY2%3D3364&imgrefurl=https%3A%2F%2Fwww.forbes.com%2Fsites%2Fjimgorzelany%2F2019%2F07%2F23%2Fhere-are-the-coolest-new-cars-for-2020%2F&tbnid=2HR6gA81oIwMTM&vet=12ahUKEwiXyIbO-YzvAhUP4jgGHeClAuwQMygAegUIARDNAQ..i&docid=HZLLyFhoQjvNCM&w=960&h=540&q=cars&ved=2ahUKEwiXyIbO-YzvAhUP4jgGHeClAuwQMygAegUIARDNAQ\n",
      "https://www.google.com/imgres?imgurl=https%3A%2F%2Fspecials-images.forbesimg.com%2Fimageserve%2F5d3703e2f1176b00089761a6%2F960x0.jpg%3FcropX1%3D836%26cropX2%3D5396%26cropY1%3D799%26cropY2%3D3364&imgrefurl=https%3A%2F%2Fwww.forbes.com%2Fsites%2Fjimgorzelany%2F2019%2F07%2F23%2Fhere-are-the-coolest-new-cars-for-2020%2F&tbnid=2HR6gA81oIwMTM&vet=12ahUKEwiXyIbO-YzvAhUP4jgGHeClAuwQMygAegUIARDNAQ..i&docid=HZLLyFhoQjvNCM&w=960&h=540&q=cars&ved=2ahUKEwiXyIbO-YzvAhUP4jgGHeClAuwQMygAegUIARDNAQ\n",
      "https://www.google.com/imgres?imgurl=https%3A%2F%2Fspecials-images.forbesimg.com%2Fimageserve%2F5d3703e2f1176b00089761a6%2F960x0.jpg%3FcropX1%3D836%26cropX2%3D5396%26cropY1%3D799%26cropY2%3D3364&imgrefurl=https%3A%2F%2Fwww.forbes.com%2Fsites%2Fjimgorzelany%2F2019%2F07%2F23%2Fhere-are-the-coolest-new-cars-for-2020%2F&tbnid=2HR6gA81oIwMTM&vet=12ahUKEwiXyIbO-YzvAhUP4jgGHeClAuwQMygAegUIARDNAQ..i&docid=HZLLyFhoQjvNCM&w=960&h=540&q=cars&ved=2ahUKEwiXyIbO-YzvAhUP4jgGHeClAuwQMygAegUIARDNAQ\n",
      "https://www.google.com/imgres?imgurl=https%3A%2F%2Fspecials-images.forbesimg.com%2Fimageserve%2F5d3703e2f1176b00089761a6%2F960x0.jpg%3FcropX1%3D836%26cropX2%3D5396%26cropY1%3D799%26cropY2%3D3364&imgrefurl=https%3A%2F%2Fwww.forbes.com%2Fsites%2Fjimgorzelany%2F2019%2F07%2F23%2Fhere-are-the-coolest-new-cars-for-2020%2F&tbnid=2HR6gA81oIwMTM&vet=12ahUKEwiXyIbO-YzvAhUP4jgGHeClAuwQMygAegUIARDNAQ..i&docid=HZLLyFhoQjvNCM&w=960&h=540&q=cars&ved=2ahUKEwiXyIbO-YzvAhUP4jgGHeClAuwQMygAegUIARDNAQ\n",
      "https://www.google.com/imgres?imgurl=https%3A%2F%2Fspecials-images.forbesimg.com%2Fimageserve%2F5d3703e2f1176b00089761a6%2F960x0.jpg%3FcropX1%3D836%26cropX2%3D5396%26cropY1%3D799%26cropY2%3D3364&imgrefurl=https%3A%2F%2Fwww.forbes.com%2Fsites%2Fjimgorzelany%2F2019%2F07%2F23%2Fhere-are-the-coolest-new-cars-for-2020%2F&tbnid=2HR6gA81oIwMTM&vet=12ahUKEwiXyIbO-YzvAhUP4jgGHeClAuwQMygAegUIARDNAQ..i&docid=HZLLyFhoQjvNCM&w=960&h=540&q=cars&ved=2ahUKEwiXyIbO-YzvAhUP4jgGHeClAuwQMygAegUIARDNAQ\n",
      "https://www.google.com/imgres?imgurl=https%3A%2F%2Fspecials-images.forbesimg.com%2Fimageserve%2F5d3703e2f1176b00089761a6%2F960x0.jpg%3FcropX1%3D836%26cropX2%3D5396%26cropY1%3D799%26cropY2%3D3364&imgrefurl=https%3A%2F%2Fwww.forbes.com%2Fsites%2Fjimgorzelany%2F2019%2F07%2F23%2Fhere-are-the-coolest-new-cars-for-2020%2F&tbnid=2HR6gA81oIwMTM&vet=12ahUKEwiXyIbO-YzvAhUP4jgGHeClAuwQMygAegUIARDNAQ..i&docid=HZLLyFhoQjvNCM&w=960&h=540&q=cars&ved=2ahUKEwiXyIbO-YzvAhUP4jgGHeClAuwQMygAegUIARDNAQ\n",
      "https://www.google.com/imgres?imgurl=https%3A%2F%2Fspecials-images.forbesimg.com%2Fimageserve%2F5d3703e2f1176b00089761a6%2F960x0.jpg%3FcropX1%3D836%26cropX2%3D5396%26cropY1%3D799%26cropY2%3D3364&imgrefurl=https%3A%2F%2Fwww.forbes.com%2Fsites%2Fjimgorzelany%2F2019%2F07%2F23%2Fhere-are-the-coolest-new-cars-for-2020%2F&tbnid=2HR6gA81oIwMTM&vet=12ahUKEwiXyIbO-YzvAhUP4jgGHeClAuwQMygAegUIARDNAQ..i&docid=HZLLyFhoQjvNCM&w=960&h=540&q=cars&ved=2ahUKEwiXyIbO-YzvAhUP4jgGHeClAuwQMygAegUIARDNAQ\n",
      "https://www.google.com/imgres?imgurl=https%3A%2F%2Fspecials-images.forbesimg.com%2Fimageserve%2F5d3703e2f1176b00089761a6%2F960x0.jpg%3FcropX1%3D836%26cropX2%3D5396%26cropY1%3D799%26cropY2%3D3364&imgrefurl=https%3A%2F%2Fwww.forbes.com%2Fsites%2Fjimgorzelany%2F2019%2F07%2F23%2Fhere-are-the-coolest-new-cars-for-2020%2F&tbnid=2HR6gA81oIwMTM&vet=12ahUKEwiXyIbO-YzvAhUP4jgGHeClAuwQMygAegUIARDNAQ..i&docid=HZLLyFhoQjvNCM&w=960&h=540&q=cars&ved=2ahUKEwiXyIbO-YzvAhUP4jgGHeClAuwQMygAegUIARDNAQ\n",
      "https://www.google.com/imgres?imgurl=https%3A%2F%2Fspecials-images.forbesimg.com%2Fimageserve%2F5d3703e2f1176b00089761a6%2F960x0.jpg%3FcropX1%3D836%26cropX2%3D5396%26cropY1%3D799%26cropY2%3D3364&imgrefurl=https%3A%2F%2Fwww.forbes.com%2Fsites%2Fjimgorzelany%2F2019%2F07%2F23%2Fhere-are-the-coolest-new-cars-for-2020%2F&tbnid=2HR6gA81oIwMTM&vet=12ahUKEwiXyIbO-YzvAhUP4jgGHeClAuwQMygAegUIARDNAQ..i&docid=HZLLyFhoQjvNCM&w=960&h=540&q=cars&ved=2ahUKEwiXyIbO-YzvAhUP4jgGHeClAuwQMygAegUIARDNAQ\n",
      "https://www.google.com/imgres?imgurl=https%3A%2F%2Fspecials-images.forbesimg.com%2Fimageserve%2F5d3703e2f1176b00089761a6%2F960x0.jpg%3FcropX1%3D836%26cropX2%3D5396%26cropY1%3D799%26cropY2%3D3364&imgrefurl=https%3A%2F%2Fwww.forbes.com%2Fsites%2Fjimgorzelany%2F2019%2F07%2F23%2Fhere-are-the-coolest-new-cars-for-2020%2F&tbnid=2HR6gA81oIwMTM&vet=12ahUKEwiXyIbO-YzvAhUP4jgGHeClAuwQMygAegUIARDNAQ..i&docid=HZLLyFhoQjvNCM&w=960&h=540&q=cars&ved=2ahUKEwiXyIbO-YzvAhUP4jgGHeClAuwQMygAegUIARDNAQ\n",
      "https://www.google.com/imgres?imgurl=https%3A%2F%2Fspecials-images.forbesimg.com%2Fimageserve%2F5d3703e2f1176b00089761a6%2F960x0.jpg%3FcropX1%3D836%26cropX2%3D5396%26cropY1%3D799%26cropY2%3D3364&imgrefurl=https%3A%2F%2Fwww.forbes.com%2Fsites%2Fjimgorzelany%2F2019%2F07%2F23%2Fhere-are-the-coolest-new-cars-for-2020%2F&tbnid=2HR6gA81oIwMTM&vet=12ahUKEwiXyIbO-YzvAhUP4jgGHeClAuwQMygAegUIARDNAQ..i&docid=HZLLyFhoQjvNCM&w=960&h=540&q=cars&ved=2ahUKEwiXyIbO-YzvAhUP4jgGHeClAuwQMygAegUIARDNAQ\n",
      "https://www.google.com/imgres?imgurl=https%3A%2F%2Fspecials-images.forbesimg.com%2Fimageserve%2F5d3703e2f1176b00089761a6%2F960x0.jpg%3FcropX1%3D836%26cropX2%3D5396%26cropY1%3D799%26cropY2%3D3364&imgrefurl=https%3A%2F%2Fwww.forbes.com%2Fsites%2Fjimgorzelany%2F2019%2F07%2F23%2Fhere-are-the-coolest-new-cars-for-2020%2F&tbnid=2HR6gA81oIwMTM&vet=12ahUKEwiXyIbO-YzvAhUP4jgGHeClAuwQMygAegUIARDNAQ..i&docid=HZLLyFhoQjvNCM&w=960&h=540&q=cars&ved=2ahUKEwiXyIbO-YzvAhUP4jgGHeClAuwQMygAegUIARDNAQ\n",
      "https://www.google.com/imgres?imgurl=https%3A%2F%2Fspecials-images.forbesimg.com%2Fimageserve%2F5d3703e2f1176b00089761a6%2F960x0.jpg%3FcropX1%3D836%26cropX2%3D5396%26cropY1%3D799%26cropY2%3D3364&imgrefurl=https%3A%2F%2Fwww.forbes.com%2Fsites%2Fjimgorzelany%2F2019%2F07%2F23%2Fhere-are-the-coolest-new-cars-for-2020%2F&tbnid=2HR6gA81oIwMTM&vet=12ahUKEwiXyIbO-YzvAhUP4jgGHeClAuwQMygAegUIARDNAQ..i&docid=HZLLyFhoQjvNCM&w=960&h=540&q=cars&ved=2ahUKEwiXyIbO-YzvAhUP4jgGHeClAuwQMygAegUIARDNAQ\n",
      "https://www.google.com/imgres?imgurl=https%3A%2F%2Fspecials-images.forbesimg.com%2Fimageserve%2F5d3703e2f1176b00089761a6%2F960x0.jpg%3FcropX1%3D836%26cropX2%3D5396%26cropY1%3D799%26cropY2%3D3364&imgrefurl=https%3A%2F%2Fwww.forbes.com%2Fsites%2Fjimgorzelany%2F2019%2F07%2F23%2Fhere-are-the-coolest-new-cars-for-2020%2F&tbnid=2HR6gA81oIwMTM&vet=12ahUKEwiXyIbO-YzvAhUP4jgGHeClAuwQMygAegUIARDNAQ..i&docid=HZLLyFhoQjvNCM&w=960&h=540&q=cars&ved=2ahUKEwiXyIbO-YzvAhUP4jgGHeClAuwQMygAegUIARDNAQ\n",
      "https://www.google.com/imgres?imgurl=https%3A%2F%2Fspecials-images.forbesimg.com%2Fimageserve%2F5d3703e2f1176b00089761a6%2F960x0.jpg%3FcropX1%3D836%26cropX2%3D5396%26cropY1%3D799%26cropY2%3D3364&imgrefurl=https%3A%2F%2Fwww.forbes.com%2Fsites%2Fjimgorzelany%2F2019%2F07%2F23%2Fhere-are-the-coolest-new-cars-for-2020%2F&tbnid=2HR6gA81oIwMTM&vet=12ahUKEwiXyIbO-YzvAhUP4jgGHeClAuwQMygAegUIARDNAQ..i&docid=HZLLyFhoQjvNCM&w=960&h=540&q=cars&ved=2ahUKEwiXyIbO-YzvAhUP4jgGHeClAuwQMygAegUIARDNAQ\n",
      "https://www.google.com/imgres?imgurl=https%3A%2F%2Fspecials-images.forbesimg.com%2Fimageserve%2F5d3703e2f1176b00089761a6%2F960x0.jpg%3FcropX1%3D836%26cropX2%3D5396%26cropY1%3D799%26cropY2%3D3364&imgrefurl=https%3A%2F%2Fwww.forbes.com%2Fsites%2Fjimgorzelany%2F2019%2F07%2F23%2Fhere-are-the-coolest-new-cars-for-2020%2F&tbnid=2HR6gA81oIwMTM&vet=12ahUKEwiXyIbO-YzvAhUP4jgGHeClAuwQMygAegUIARDNAQ..i&docid=HZLLyFhoQjvNCM&w=960&h=540&q=cars&ved=2ahUKEwiXyIbO-YzvAhUP4jgGHeClAuwQMygAegUIARDNAQ\n",
      "https://www.google.com/imgres?imgurl=https%3A%2F%2Fspecials-images.forbesimg.com%2Fimageserve%2F5d3703e2f1176b00089761a6%2F960x0.jpg%3FcropX1%3D836%26cropX2%3D5396%26cropY1%3D799%26cropY2%3D3364&imgrefurl=https%3A%2F%2Fwww.forbes.com%2Fsites%2Fjimgorzelany%2F2019%2F07%2F23%2Fhere-are-the-coolest-new-cars-for-2020%2F&tbnid=2HR6gA81oIwMTM&vet=12ahUKEwiXyIbO-YzvAhUP4jgGHeClAuwQMygAegUIARDNAQ..i&docid=HZLLyFhoQjvNCM&w=960&h=540&q=cars&ved=2ahUKEwiXyIbO-YzvAhUP4jgGHeClAuwQMygAegUIARDNAQ\n",
      "https://www.google.com/imgres?imgurl=https%3A%2F%2Fspecials-images.forbesimg.com%2Fimageserve%2F5d3703e2f1176b00089761a6%2F960x0.jpg%3FcropX1%3D836%26cropX2%3D5396%26cropY1%3D799%26cropY2%3D3364&imgrefurl=https%3A%2F%2Fwww.forbes.com%2Fsites%2Fjimgorzelany%2F2019%2F07%2F23%2Fhere-are-the-coolest-new-cars-for-2020%2F&tbnid=2HR6gA81oIwMTM&vet=12ahUKEwiXyIbO-YzvAhUP4jgGHeClAuwQMygAegUIARDNAQ..i&docid=HZLLyFhoQjvNCM&w=960&h=540&q=cars&ved=2ahUKEwiXyIbO-YzvAhUP4jgGHeClAuwQMygAegUIARDNAQ\n",
      "https://www.google.com/imgres?imgurl=https%3A%2F%2Fspecials-images.forbesimg.com%2Fimageserve%2F5d3703e2f1176b00089761a6%2F960x0.jpg%3FcropX1%3D836%26cropX2%3D5396%26cropY1%3D799%26cropY2%3D3364&imgrefurl=https%3A%2F%2Fwww.forbes.com%2Fsites%2Fjimgorzelany%2F2019%2F07%2F23%2Fhere-are-the-coolest-new-cars-for-2020%2F&tbnid=2HR6gA81oIwMTM&vet=12ahUKEwiXyIbO-YzvAhUP4jgGHeClAuwQMygAegUIARDNAQ..i&docid=HZLLyFhoQjvNCM&w=960&h=540&q=cars&ved=2ahUKEwiXyIbO-YzvAhUP4jgGHeClAuwQMygAegUIARDNAQ\n",
      "https://www.google.com/imgres?imgurl=https%3A%2F%2Fspecials-images.forbesimg.com%2Fimageserve%2F5d3703e2f1176b00089761a6%2F960x0.jpg%3FcropX1%3D836%26cropX2%3D5396%26cropY1%3D799%26cropY2%3D3364&imgrefurl=https%3A%2F%2Fwww.forbes.com%2Fsites%2Fjimgorzelany%2F2019%2F07%2F23%2Fhere-are-the-coolest-new-cars-for-2020%2F&tbnid=2HR6gA81oIwMTM&vet=12ahUKEwiXyIbO-YzvAhUP4jgGHeClAuwQMygAegUIARDNAQ..i&docid=HZLLyFhoQjvNCM&w=960&h=540&q=cars&ved=2ahUKEwiXyIbO-YzvAhUP4jgGHeClAuwQMygAegUIARDNAQ\n",
      "https://www.google.com/imgres?imgurl=https%3A%2F%2Fspecials-images.forbesimg.com%2Fimageserve%2F5d3703e2f1176b00089761a6%2F960x0.jpg%3FcropX1%3D836%26cropX2%3D5396%26cropY1%3D799%26cropY2%3D3364&imgrefurl=https%3A%2F%2Fwww.forbes.com%2Fsites%2Fjimgorzelany%2F2019%2F07%2F23%2Fhere-are-the-coolest-new-cars-for-2020%2F&tbnid=2HR6gA81oIwMTM&vet=12ahUKEwiXyIbO-YzvAhUP4jgGHeClAuwQMygAegUIARDNAQ..i&docid=HZLLyFhoQjvNCM&w=960&h=540&q=cars&ved=2ahUKEwiXyIbO-YzvAhUP4jgGHeClAuwQMygAegUIARDNAQ\n",
      "https://www.google.com/imgres?imgurl=https%3A%2F%2Fspecials-images.forbesimg.com%2Fimageserve%2F5d3703e2f1176b00089761a6%2F960x0.jpg%3FcropX1%3D836%26cropX2%3D5396%26cropY1%3D799%26cropY2%3D3364&imgrefurl=https%3A%2F%2Fwww.forbes.com%2Fsites%2Fjimgorzelany%2F2019%2F07%2F23%2Fhere-are-the-coolest-new-cars-for-2020%2F&tbnid=2HR6gA81oIwMTM&vet=12ahUKEwiXyIbO-YzvAhUP4jgGHeClAuwQMygAegUIARDNAQ..i&docid=HZLLyFhoQjvNCM&w=960&h=540&q=cars&ved=2ahUKEwiXyIbO-YzvAhUP4jgGHeClAuwQMygAegUIARDNAQ\n",
      "https://www.google.com/imgres?imgurl=https%3A%2F%2Fspecials-images.forbesimg.com%2Fimageserve%2F5d3703e2f1176b00089761a6%2F960x0.jpg%3FcropX1%3D836%26cropX2%3D5396%26cropY1%3D799%26cropY2%3D3364&imgrefurl=https%3A%2F%2Fwww.forbes.com%2Fsites%2Fjimgorzelany%2F2019%2F07%2F23%2Fhere-are-the-coolest-new-cars-for-2020%2F&tbnid=2HR6gA81oIwMTM&vet=12ahUKEwiXyIbO-YzvAhUP4jgGHeClAuwQMygAegUIARDNAQ..i&docid=HZLLyFhoQjvNCM&w=960&h=540&q=cars&ved=2ahUKEwiXyIbO-YzvAhUP4jgGHeClAuwQMygAegUIARDNAQ\n",
      "https://www.google.com/imgres?imgurl=https%3A%2F%2Fspecials-images.forbesimg.com%2Fimageserve%2F5d3703e2f1176b00089761a6%2F960x0.jpg%3FcropX1%3D836%26cropX2%3D5396%26cropY1%3D799%26cropY2%3D3364&imgrefurl=https%3A%2F%2Fwww.forbes.com%2Fsites%2Fjimgorzelany%2F2019%2F07%2F23%2Fhere-are-the-coolest-new-cars-for-2020%2F&tbnid=2HR6gA81oIwMTM&vet=12ahUKEwiXyIbO-YzvAhUP4jgGHeClAuwQMygAegUIARDNAQ..i&docid=HZLLyFhoQjvNCM&w=960&h=540&q=cars&ved=2ahUKEwiXyIbO-YzvAhUP4jgGHeClAuwQMygAegUIARDNAQ\n",
      "https://www.google.com/imgres?imgurl=https%3A%2F%2Fspecials-images.forbesimg.com%2Fimageserve%2F5d3703e2f1176b00089761a6%2F960x0.jpg%3FcropX1%3D836%26cropX2%3D5396%26cropY1%3D799%26cropY2%3D3364&imgrefurl=https%3A%2F%2Fwww.forbes.com%2Fsites%2Fjimgorzelany%2F2019%2F07%2F23%2Fhere-are-the-coolest-new-cars-for-2020%2F&tbnid=2HR6gA81oIwMTM&vet=12ahUKEwiXyIbO-YzvAhUP4jgGHeClAuwQMygAegUIARDNAQ..i&docid=HZLLyFhoQjvNCM&w=960&h=540&q=cars&ved=2ahUKEwiXyIbO-YzvAhUP4jgGHeClAuwQMygAegUIARDNAQ\n",
      "https://www.google.com/imgres?imgurl=https%3A%2F%2Fspecials-images.forbesimg.com%2Fimageserve%2F5d3703e2f1176b00089761a6%2F960x0.jpg%3FcropX1%3D836%26cropX2%3D5396%26cropY1%3D799%26cropY2%3D3364&imgrefurl=https%3A%2F%2Fwww.forbes.com%2Fsites%2Fjimgorzelany%2F2019%2F07%2F23%2Fhere-are-the-coolest-new-cars-for-2020%2F&tbnid=2HR6gA81oIwMTM&vet=12ahUKEwiXyIbO-YzvAhUP4jgGHeClAuwQMygAegUIARDNAQ..i&docid=HZLLyFhoQjvNCM&w=960&h=540&q=cars&ved=2ahUKEwiXyIbO-YzvAhUP4jgGHeClAuwQMygAegUIARDNAQ\n",
      "https://www.google.com/imgres?imgurl=https%3A%2F%2Fspecials-images.forbesimg.com%2Fimageserve%2F5d3703e2f1176b00089761a6%2F960x0.jpg%3FcropX1%3D836%26cropX2%3D5396%26cropY1%3D799%26cropY2%3D3364&imgrefurl=https%3A%2F%2Fwww.forbes.com%2Fsites%2Fjimgorzelany%2F2019%2F07%2F23%2Fhere-are-the-coolest-new-cars-for-2020%2F&tbnid=2HR6gA81oIwMTM&vet=12ahUKEwiXyIbO-YzvAhUP4jgGHeClAuwQMygAegUIARDNAQ..i&docid=HZLLyFhoQjvNCM&w=960&h=540&q=cars&ved=2ahUKEwiXyIbO-YzvAhUP4jgGHeClAuwQMygAegUIARDNAQ\n",
      "https://www.google.com/imgres?imgurl=https%3A%2F%2Fspecials-images.forbesimg.com%2Fimageserve%2F5d3703e2f1176b00089761a6%2F960x0.jpg%3FcropX1%3D836%26cropX2%3D5396%26cropY1%3D799%26cropY2%3D3364&imgrefurl=https%3A%2F%2Fwww.forbes.com%2Fsites%2Fjimgorzelany%2F2019%2F07%2F23%2Fhere-are-the-coolest-new-cars-for-2020%2F&tbnid=2HR6gA81oIwMTM&vet=12ahUKEwiXyIbO-YzvAhUP4jgGHeClAuwQMygAegUIARDNAQ..i&docid=HZLLyFhoQjvNCM&w=960&h=540&q=cars&ved=2ahUKEwiXyIbO-YzvAhUP4jgGHeClAuwQMygAegUIARDNAQ\n",
      "https://www.google.com/imgres?imgurl=https%3A%2F%2Fspecials-images.forbesimg.com%2Fimageserve%2F5d3703e2f1176b00089761a6%2F960x0.jpg%3FcropX1%3D836%26cropX2%3D5396%26cropY1%3D799%26cropY2%3D3364&imgrefurl=https%3A%2F%2Fwww.forbes.com%2Fsites%2Fjimgorzelany%2F2019%2F07%2F23%2Fhere-are-the-coolest-new-cars-for-2020%2F&tbnid=2HR6gA81oIwMTM&vet=12ahUKEwiXyIbO-YzvAhUP4jgGHeClAuwQMygAegUIARDNAQ..i&docid=HZLLyFhoQjvNCM&w=960&h=540&q=cars&ved=2ahUKEwiXyIbO-YzvAhUP4jgGHeClAuwQMygAegUIARDNAQ\n",
      "https://www.google.com/imgres?imgurl=https%3A%2F%2Fspecials-images.forbesimg.com%2Fimageserve%2F5d3703e2f1176b00089761a6%2F960x0.jpg%3FcropX1%3D836%26cropX2%3D5396%26cropY1%3D799%26cropY2%3D3364&imgrefurl=https%3A%2F%2Fwww.forbes.com%2Fsites%2Fjimgorzelany%2F2019%2F07%2F23%2Fhere-are-the-coolest-new-cars-for-2020%2F&tbnid=2HR6gA81oIwMTM&vet=12ahUKEwiXyIbO-YzvAhUP4jgGHeClAuwQMygAegUIARDNAQ..i&docid=HZLLyFhoQjvNCM&w=960&h=540&q=cars&ved=2ahUKEwiXyIbO-YzvAhUP4jgGHeClAuwQMygAegUIARDNAQ\n",
      "https://www.google.com/imgres?imgurl=https%3A%2F%2Fspecials-images.forbesimg.com%2Fimageserve%2F5d3703e2f1176b00089761a6%2F960x0.jpg%3FcropX1%3D836%26cropX2%3D5396%26cropY1%3D799%26cropY2%3D3364&imgrefurl=https%3A%2F%2Fwww.forbes.com%2Fsites%2Fjimgorzelany%2F2019%2F07%2F23%2Fhere-are-the-coolest-new-cars-for-2020%2F&tbnid=2HR6gA81oIwMTM&vet=12ahUKEwiXyIbO-YzvAhUP4jgGHeClAuwQMygAegUIARDNAQ..i&docid=HZLLyFhoQjvNCM&w=960&h=540&q=cars&ved=2ahUKEwiXyIbO-YzvAhUP4jgGHeClAuwQMygAegUIARDNAQ\n",
      "https://www.google.com/imgres?imgurl=https%3A%2F%2Fspecials-images.forbesimg.com%2Fimageserve%2F5d3703e2f1176b00089761a6%2F960x0.jpg%3FcropX1%3D836%26cropX2%3D5396%26cropY1%3D799%26cropY2%3D3364&imgrefurl=https%3A%2F%2Fwww.forbes.com%2Fsites%2Fjimgorzelany%2F2019%2F07%2F23%2Fhere-are-the-coolest-new-cars-for-2020%2F&tbnid=2HR6gA81oIwMTM&vet=12ahUKEwiXyIbO-YzvAhUP4jgGHeClAuwQMygAegUIARDNAQ..i&docid=HZLLyFhoQjvNCM&w=960&h=540&q=cars&ved=2ahUKEwiXyIbO-YzvAhUP4jgGHeClAuwQMygAegUIARDNAQ\n",
      "https://www.google.com/imgres?imgurl=https%3A%2F%2Fspecials-images.forbesimg.com%2Fimageserve%2F5d3703e2f1176b00089761a6%2F960x0.jpg%3FcropX1%3D836%26cropX2%3D5396%26cropY1%3D799%26cropY2%3D3364&imgrefurl=https%3A%2F%2Fwww.forbes.com%2Fsites%2Fjimgorzelany%2F2019%2F07%2F23%2Fhere-are-the-coolest-new-cars-for-2020%2F&tbnid=2HR6gA81oIwMTM&vet=12ahUKEwiXyIbO-YzvAhUP4jgGHeClAuwQMygAegUIARDNAQ..i&docid=HZLLyFhoQjvNCM&w=960&h=540&q=cars&ved=2ahUKEwiXyIbO-YzvAhUP4jgGHeClAuwQMygAegUIARDNAQ\n",
      "https://www.google.com/imgres?imgurl=https%3A%2F%2Fspecials-images.forbesimg.com%2Fimageserve%2F5d3703e2f1176b00089761a6%2F960x0.jpg%3FcropX1%3D836%26cropX2%3D5396%26cropY1%3D799%26cropY2%3D3364&imgrefurl=https%3A%2F%2Fwww.forbes.com%2Fsites%2Fjimgorzelany%2F2019%2F07%2F23%2Fhere-are-the-coolest-new-cars-for-2020%2F&tbnid=2HR6gA81oIwMTM&vet=12ahUKEwiXyIbO-YzvAhUP4jgGHeClAuwQMygAegUIARDNAQ..i&docid=HZLLyFhoQjvNCM&w=960&h=540&q=cars&ved=2ahUKEwiXyIbO-YzvAhUP4jgGHeClAuwQMygAegUIARDNAQ\n",
      "https://www.google.com/imgres?imgurl=https%3A%2F%2Fspecials-images.forbesimg.com%2Fimageserve%2F5d3703e2f1176b00089761a6%2F960x0.jpg%3FcropX1%3D836%26cropX2%3D5396%26cropY1%3D799%26cropY2%3D3364&imgrefurl=https%3A%2F%2Fwww.forbes.com%2Fsites%2Fjimgorzelany%2F2019%2F07%2F23%2Fhere-are-the-coolest-new-cars-for-2020%2F&tbnid=2HR6gA81oIwMTM&vet=12ahUKEwiXyIbO-YzvAhUP4jgGHeClAuwQMygAegUIARDNAQ..i&docid=HZLLyFhoQjvNCM&w=960&h=540&q=cars&ved=2ahUKEwiXyIbO-YzvAhUP4jgGHeClAuwQMygAegUIARDNAQ\n",
      "https://www.google.com/imgres?imgurl=https%3A%2F%2Fspecials-images.forbesimg.com%2Fimageserve%2F5d3703e2f1176b00089761a6%2F960x0.jpg%3FcropX1%3D836%26cropX2%3D5396%26cropY1%3D799%26cropY2%3D3364&imgrefurl=https%3A%2F%2Fwww.forbes.com%2Fsites%2Fjimgorzelany%2F2019%2F07%2F23%2Fhere-are-the-coolest-new-cars-for-2020%2F&tbnid=2HR6gA81oIwMTM&vet=12ahUKEwiXyIbO-YzvAhUP4jgGHeClAuwQMygAegUIARDNAQ..i&docid=HZLLyFhoQjvNCM&w=960&h=540&q=cars&ved=2ahUKEwiXyIbO-YzvAhUP4jgGHeClAuwQMygAegUIARDNAQ\n",
      "https://www.google.com/imgres?imgurl=https%3A%2F%2Fspecials-images.forbesimg.com%2Fimageserve%2F5d3703e2f1176b00089761a6%2F960x0.jpg%3FcropX1%3D836%26cropX2%3D5396%26cropY1%3D799%26cropY2%3D3364&imgrefurl=https%3A%2F%2Fwww.forbes.com%2Fsites%2Fjimgorzelany%2F2019%2F07%2F23%2Fhere-are-the-coolest-new-cars-for-2020%2F&tbnid=2HR6gA81oIwMTM&vet=12ahUKEwiXyIbO-YzvAhUP4jgGHeClAuwQMygAegUIARDNAQ..i&docid=HZLLyFhoQjvNCM&w=960&h=540&q=cars&ved=2ahUKEwiXyIbO-YzvAhUP4jgGHeClAuwQMygAegUIARDNAQ\n",
      "https://www.google.com/imgres?imgurl=https%3A%2F%2Fspecials-images.forbesimg.com%2Fimageserve%2F5d3703e2f1176b00089761a6%2F960x0.jpg%3FcropX1%3D836%26cropX2%3D5396%26cropY1%3D799%26cropY2%3D3364&imgrefurl=https%3A%2F%2Fwww.forbes.com%2Fsites%2Fjimgorzelany%2F2019%2F07%2F23%2Fhere-are-the-coolest-new-cars-for-2020%2F&tbnid=2HR6gA81oIwMTM&vet=12ahUKEwiXyIbO-YzvAhUP4jgGHeClAuwQMygAegUIARDNAQ..i&docid=HZLLyFhoQjvNCM&w=960&h=540&q=cars&ved=2ahUKEwiXyIbO-YzvAhUP4jgGHeClAuwQMygAegUIARDNAQ\n",
      "https://www.google.com/imgres?imgurl=https%3A%2F%2Fspecials-images.forbesimg.com%2Fimageserve%2F5d3703e2f1176b00089761a6%2F960x0.jpg%3FcropX1%3D836%26cropX2%3D5396%26cropY1%3D799%26cropY2%3D3364&imgrefurl=https%3A%2F%2Fwww.forbes.com%2Fsites%2Fjimgorzelany%2F2019%2F07%2F23%2Fhere-are-the-coolest-new-cars-for-2020%2F&tbnid=2HR6gA81oIwMTM&vet=12ahUKEwiXyIbO-YzvAhUP4jgGHeClAuwQMygAegUIARDNAQ..i&docid=HZLLyFhoQjvNCM&w=960&h=540&q=cars&ved=2ahUKEwiXyIbO-YzvAhUP4jgGHeClAuwQMygAegUIARDNAQ\n",
      "https://www.google.com/imgres?imgurl=https%3A%2F%2Fspecials-images.forbesimg.com%2Fimageserve%2F5d3703e2f1176b00089761a6%2F960x0.jpg%3FcropX1%3D836%26cropX2%3D5396%26cropY1%3D799%26cropY2%3D3364&imgrefurl=https%3A%2F%2Fwww.forbes.com%2Fsites%2Fjimgorzelany%2F2019%2F07%2F23%2Fhere-are-the-coolest-new-cars-for-2020%2F&tbnid=2HR6gA81oIwMTM&vet=12ahUKEwiXyIbO-YzvAhUP4jgGHeClAuwQMygAegUIARDNAQ..i&docid=HZLLyFhoQjvNCM&w=960&h=540&q=cars&ved=2ahUKEwiXyIbO-YzvAhUP4jgGHeClAuwQMygAegUIARDNAQ\n",
      "https://www.google.com/imgres?imgurl=https%3A%2F%2Fspecials-images.forbesimg.com%2Fimageserve%2F5d3703e2f1176b00089761a6%2F960x0.jpg%3FcropX1%3D836%26cropX2%3D5396%26cropY1%3D799%26cropY2%3D3364&imgrefurl=https%3A%2F%2Fwww.forbes.com%2Fsites%2Fjimgorzelany%2F2019%2F07%2F23%2Fhere-are-the-coolest-new-cars-for-2020%2F&tbnid=2HR6gA81oIwMTM&vet=12ahUKEwiXyIbO-YzvAhUP4jgGHeClAuwQMygAegUIARDNAQ..i&docid=HZLLyFhoQjvNCM&w=960&h=540&q=cars&ved=2ahUKEwiXyIbO-YzvAhUP4jgGHeClAuwQMygAegUIARDNAQ\n",
      "https://www.google.com/imgres?imgurl=https%3A%2F%2Fspecials-images.forbesimg.com%2Fimageserve%2F5d3703e2f1176b00089761a6%2F960x0.jpg%3FcropX1%3D836%26cropX2%3D5396%26cropY1%3D799%26cropY2%3D3364&imgrefurl=https%3A%2F%2Fwww.forbes.com%2Fsites%2Fjimgorzelany%2F2019%2F07%2F23%2Fhere-are-the-coolest-new-cars-for-2020%2F&tbnid=2HR6gA81oIwMTM&vet=12ahUKEwiXyIbO-YzvAhUP4jgGHeClAuwQMygAegUIARDNAQ..i&docid=HZLLyFhoQjvNCM&w=960&h=540&q=cars&ved=2ahUKEwiXyIbO-YzvAhUP4jgGHeClAuwQMygAegUIARDNAQ\n",
      "https://www.google.com/imgres?imgurl=https%3A%2F%2Fspecials-images.forbesimg.com%2Fimageserve%2F5d3703e2f1176b00089761a6%2F960x0.jpg%3FcropX1%3D836%26cropX2%3D5396%26cropY1%3D799%26cropY2%3D3364&imgrefurl=https%3A%2F%2Fwww.forbes.com%2Fsites%2Fjimgorzelany%2F2019%2F07%2F23%2Fhere-are-the-coolest-new-cars-for-2020%2F&tbnid=2HR6gA81oIwMTM&vet=12ahUKEwiXyIbO-YzvAhUP4jgGHeClAuwQMygAegUIARDNAQ..i&docid=HZLLyFhoQjvNCM&w=960&h=540&q=cars&ved=2ahUKEwiXyIbO-YzvAhUP4jgGHeClAuwQMygAegUIARDNAQ\n",
      "https://www.google.com/imgres?imgurl=https%3A%2F%2Fspecials-images.forbesimg.com%2Fimageserve%2F5d3703e2f1176b00089761a6%2F960x0.jpg%3FcropX1%3D836%26cropX2%3D5396%26cropY1%3D799%26cropY2%3D3364&imgrefurl=https%3A%2F%2Fwww.forbes.com%2Fsites%2Fjimgorzelany%2F2019%2F07%2F23%2Fhere-are-the-coolest-new-cars-for-2020%2F&tbnid=2HR6gA81oIwMTM&vet=12ahUKEwiXyIbO-YzvAhUP4jgGHeClAuwQMygAegUIARDNAQ..i&docid=HZLLyFhoQjvNCM&w=960&h=540&q=cars&ved=2ahUKEwiXyIbO-YzvAhUP4jgGHeClAuwQMygAegUIARDNAQ\n",
      "https://www.google.com/imgres?imgurl=https%3A%2F%2Fspecials-images.forbesimg.com%2Fimageserve%2F5d3703e2f1176b00089761a6%2F960x0.jpg%3FcropX1%3D836%26cropX2%3D5396%26cropY1%3D799%26cropY2%3D3364&imgrefurl=https%3A%2F%2Fwww.forbes.com%2Fsites%2Fjimgorzelany%2F2019%2F07%2F23%2Fhere-are-the-coolest-new-cars-for-2020%2F&tbnid=2HR6gA81oIwMTM&vet=12ahUKEwiXyIbO-YzvAhUP4jgGHeClAuwQMygAegUIARDNAQ..i&docid=HZLLyFhoQjvNCM&w=960&h=540&q=cars&ved=2ahUKEwiXyIbO-YzvAhUP4jgGHeClAuwQMygAegUIARDNAQ\n",
      "https://www.google.com/imgres?imgurl=https%3A%2F%2Fspecials-images.forbesimg.com%2Fimageserve%2F5d3703e2f1176b00089761a6%2F960x0.jpg%3FcropX1%3D836%26cropX2%3D5396%26cropY1%3D799%26cropY2%3D3364&imgrefurl=https%3A%2F%2Fwww.forbes.com%2Fsites%2Fjimgorzelany%2F2019%2F07%2F23%2Fhere-are-the-coolest-new-cars-for-2020%2F&tbnid=2HR6gA81oIwMTM&vet=12ahUKEwiXyIbO-YzvAhUP4jgGHeClAuwQMygAegUIARDNAQ..i&docid=HZLLyFhoQjvNCM&w=960&h=540&q=cars&ved=2ahUKEwiXyIbO-YzvAhUP4jgGHeClAuwQMygAegUIARDNAQ\n",
      "https://www.google.com/imgres?imgurl=https%3A%2F%2Fspecials-images.forbesimg.com%2Fimageserve%2F5d3703e2f1176b00089761a6%2F960x0.jpg%3FcropX1%3D836%26cropX2%3D5396%26cropY1%3D799%26cropY2%3D3364&imgrefurl=https%3A%2F%2Fwww.forbes.com%2Fsites%2Fjimgorzelany%2F2019%2F07%2F23%2Fhere-are-the-coolest-new-cars-for-2020%2F&tbnid=2HR6gA81oIwMTM&vet=12ahUKEwiXyIbO-YzvAhUP4jgGHeClAuwQMygAegUIARDNAQ..i&docid=HZLLyFhoQjvNCM&w=960&h=540&q=cars&ved=2ahUKEwiXyIbO-YzvAhUP4jgGHeClAuwQMygAegUIARDNAQ\n",
      "https://www.google.com/imgres?imgurl=https%3A%2F%2Fspecials-images.forbesimg.com%2Fimageserve%2F5d3703e2f1176b00089761a6%2F960x0.jpg%3FcropX1%3D836%26cropX2%3D5396%26cropY1%3D799%26cropY2%3D3364&imgrefurl=https%3A%2F%2Fwww.forbes.com%2Fsites%2Fjimgorzelany%2F2019%2F07%2F23%2Fhere-are-the-coolest-new-cars-for-2020%2F&tbnid=2HR6gA81oIwMTM&vet=12ahUKEwiXyIbO-YzvAhUP4jgGHeClAuwQMygAegUIARDNAQ..i&docid=HZLLyFhoQjvNCM&w=960&h=540&q=cars&ved=2ahUKEwiXyIbO-YzvAhUP4jgGHeClAuwQMygAegUIARDNAQ\n",
      "https://www.google.com/imgres?imgurl=https%3A%2F%2Fspecials-images.forbesimg.com%2Fimageserve%2F5d3703e2f1176b00089761a6%2F960x0.jpg%3FcropX1%3D836%26cropX2%3D5396%26cropY1%3D799%26cropY2%3D3364&imgrefurl=https%3A%2F%2Fwww.forbes.com%2Fsites%2Fjimgorzelany%2F2019%2F07%2F23%2Fhere-are-the-coolest-new-cars-for-2020%2F&tbnid=2HR6gA81oIwMTM&vet=12ahUKEwiXyIbO-YzvAhUP4jgGHeClAuwQMygAegUIARDNAQ..i&docid=HZLLyFhoQjvNCM&w=960&h=540&q=cars&ved=2ahUKEwiXyIbO-YzvAhUP4jgGHeClAuwQMygAegUIARDNAQ\n",
      "https://www.google.com/imgres?imgurl=https%3A%2F%2Fspecials-images.forbesimg.com%2Fimageserve%2F5d3703e2f1176b00089761a6%2F960x0.jpg%3FcropX1%3D836%26cropX2%3D5396%26cropY1%3D799%26cropY2%3D3364&imgrefurl=https%3A%2F%2Fwww.forbes.com%2Fsites%2Fjimgorzelany%2F2019%2F07%2F23%2Fhere-are-the-coolest-new-cars-for-2020%2F&tbnid=2HR6gA81oIwMTM&vet=12ahUKEwiXyIbO-YzvAhUP4jgGHeClAuwQMygAegUIARDNAQ..i&docid=HZLLyFhoQjvNCM&w=960&h=540&q=cars&ved=2ahUKEwiXyIbO-YzvAhUP4jgGHeClAuwQMygAegUIARDNAQ\n",
      "https://www.google.com/imgres?imgurl=https%3A%2F%2Fspecials-images.forbesimg.com%2Fimageserve%2F5d3703e2f1176b00089761a6%2F960x0.jpg%3FcropX1%3D836%26cropX2%3D5396%26cropY1%3D799%26cropY2%3D3364&imgrefurl=https%3A%2F%2Fwww.forbes.com%2Fsites%2Fjimgorzelany%2F2019%2F07%2F23%2Fhere-are-the-coolest-new-cars-for-2020%2F&tbnid=2HR6gA81oIwMTM&vet=12ahUKEwiXyIbO-YzvAhUP4jgGHeClAuwQMygAegUIARDNAQ..i&docid=HZLLyFhoQjvNCM&w=960&h=540&q=cars&ved=2ahUKEwiXyIbO-YzvAhUP4jgGHeClAuwQMygAegUIARDNAQ\n",
      "https://www.google.com/imgres?imgurl=https%3A%2F%2Fspecials-images.forbesimg.com%2Fimageserve%2F5d3703e2f1176b00089761a6%2F960x0.jpg%3FcropX1%3D836%26cropX2%3D5396%26cropY1%3D799%26cropY2%3D3364&imgrefurl=https%3A%2F%2Fwww.forbes.com%2Fsites%2Fjimgorzelany%2F2019%2F07%2F23%2Fhere-are-the-coolest-new-cars-for-2020%2F&tbnid=2HR6gA81oIwMTM&vet=12ahUKEwiXyIbO-YzvAhUP4jgGHeClAuwQMygAegUIARDNAQ..i&docid=HZLLyFhoQjvNCM&w=960&h=540&q=cars&ved=2ahUKEwiXyIbO-YzvAhUP4jgGHeClAuwQMygAegUIARDNAQ\n",
      "https://www.google.com/imgres?imgurl=https%3A%2F%2Fspecials-images.forbesimg.com%2Fimageserve%2F5d3703e2f1176b00089761a6%2F960x0.jpg%3FcropX1%3D836%26cropX2%3D5396%26cropY1%3D799%26cropY2%3D3364&imgrefurl=https%3A%2F%2Fwww.forbes.com%2Fsites%2Fjimgorzelany%2F2019%2F07%2F23%2Fhere-are-the-coolest-new-cars-for-2020%2F&tbnid=2HR6gA81oIwMTM&vet=12ahUKEwiXyIbO-YzvAhUP4jgGHeClAuwQMygAegUIARDNAQ..i&docid=HZLLyFhoQjvNCM&w=960&h=540&q=cars&ved=2ahUKEwiXyIbO-YzvAhUP4jgGHeClAuwQMygAegUIARDNAQ\n",
      "https://www.google.com/imgres?imgurl=https%3A%2F%2Fspecials-images.forbesimg.com%2Fimageserve%2F5d3703e2f1176b00089761a6%2F960x0.jpg%3FcropX1%3D836%26cropX2%3D5396%26cropY1%3D799%26cropY2%3D3364&imgrefurl=https%3A%2F%2Fwww.forbes.com%2Fsites%2Fjimgorzelany%2F2019%2F07%2F23%2Fhere-are-the-coolest-new-cars-for-2020%2F&tbnid=2HR6gA81oIwMTM&vet=12ahUKEwiXyIbO-YzvAhUP4jgGHeClAuwQMygAegUIARDNAQ..i&docid=HZLLyFhoQjvNCM&w=960&h=540&q=cars&ved=2ahUKEwiXyIbO-YzvAhUP4jgGHeClAuwQMygAegUIARDNAQ\n",
      "https://www.google.com/imgres?imgurl=https%3A%2F%2Fspecials-images.forbesimg.com%2Fimageserve%2F5d3703e2f1176b00089761a6%2F960x0.jpg%3FcropX1%3D836%26cropX2%3D5396%26cropY1%3D799%26cropY2%3D3364&imgrefurl=https%3A%2F%2Fwww.forbes.com%2Fsites%2Fjimgorzelany%2F2019%2F07%2F23%2Fhere-are-the-coolest-new-cars-for-2020%2F&tbnid=2HR6gA81oIwMTM&vet=12ahUKEwiXyIbO-YzvAhUP4jgGHeClAuwQMygAegUIARDNAQ..i&docid=HZLLyFhoQjvNCM&w=960&h=540&q=cars&ved=2ahUKEwiXyIbO-YzvAhUP4jgGHeClAuwQMygAegUIARDNAQ\n",
      "https://www.google.com/imgres?imgurl=https%3A%2F%2Fspecials-images.forbesimg.com%2Fimageserve%2F5d3703e2f1176b00089761a6%2F960x0.jpg%3FcropX1%3D836%26cropX2%3D5396%26cropY1%3D799%26cropY2%3D3364&imgrefurl=https%3A%2F%2Fwww.forbes.com%2Fsites%2Fjimgorzelany%2F2019%2F07%2F23%2Fhere-are-the-coolest-new-cars-for-2020%2F&tbnid=2HR6gA81oIwMTM&vet=12ahUKEwiXyIbO-YzvAhUP4jgGHeClAuwQMygAegUIARDNAQ..i&docid=HZLLyFhoQjvNCM&w=960&h=540&q=cars&ved=2ahUKEwiXyIbO-YzvAhUP4jgGHeClAuwQMygAegUIARDNAQ\n",
      "https://www.google.com/imgres?imgurl=https%3A%2F%2Fspecials-images.forbesimg.com%2Fimageserve%2F5d3703e2f1176b00089761a6%2F960x0.jpg%3FcropX1%3D836%26cropX2%3D5396%26cropY1%3D799%26cropY2%3D3364&imgrefurl=https%3A%2F%2Fwww.forbes.com%2Fsites%2Fjimgorzelany%2F2019%2F07%2F23%2Fhere-are-the-coolest-new-cars-for-2020%2F&tbnid=2HR6gA81oIwMTM&vet=12ahUKEwiXyIbO-YzvAhUP4jgGHeClAuwQMygAegUIARDNAQ..i&docid=HZLLyFhoQjvNCM&w=960&h=540&q=cars&ved=2ahUKEwiXyIbO-YzvAhUP4jgGHeClAuwQMygAegUIARDNAQ\n",
      "https://www.google.com/imgres?imgurl=https%3A%2F%2Fspecials-images.forbesimg.com%2Fimageserve%2F5d3703e2f1176b00089761a6%2F960x0.jpg%3FcropX1%3D836%26cropX2%3D5396%26cropY1%3D799%26cropY2%3D3364&imgrefurl=https%3A%2F%2Fwww.forbes.com%2Fsites%2Fjimgorzelany%2F2019%2F07%2F23%2Fhere-are-the-coolest-new-cars-for-2020%2F&tbnid=2HR6gA81oIwMTM&vet=12ahUKEwiXyIbO-YzvAhUP4jgGHeClAuwQMygAegUIARDNAQ..i&docid=HZLLyFhoQjvNCM&w=960&h=540&q=cars&ved=2ahUKEwiXyIbO-YzvAhUP4jgGHeClAuwQMygAegUIARDNAQ\n",
      "https://www.google.com/imgres?imgurl=https%3A%2F%2Fspecials-images.forbesimg.com%2Fimageserve%2F5d3703e2f1176b00089761a6%2F960x0.jpg%3FcropX1%3D836%26cropX2%3D5396%26cropY1%3D799%26cropY2%3D3364&imgrefurl=https%3A%2F%2Fwww.forbes.com%2Fsites%2Fjimgorzelany%2F2019%2F07%2F23%2Fhere-are-the-coolest-new-cars-for-2020%2F&tbnid=2HR6gA81oIwMTM&vet=12ahUKEwiXyIbO-YzvAhUP4jgGHeClAuwQMygAegUIARDNAQ..i&docid=HZLLyFhoQjvNCM&w=960&h=540&q=cars&ved=2ahUKEwiXyIbO-YzvAhUP4jgGHeClAuwQMygAegUIARDNAQ\n",
      "https://www.google.com/imgres?imgurl=https%3A%2F%2Fspecials-images.forbesimg.com%2Fimageserve%2F5d3703e2f1176b00089761a6%2F960x0.jpg%3FcropX1%3D836%26cropX2%3D5396%26cropY1%3D799%26cropY2%3D3364&imgrefurl=https%3A%2F%2Fwww.forbes.com%2Fsites%2Fjimgorzelany%2F2019%2F07%2F23%2Fhere-are-the-coolest-new-cars-for-2020%2F&tbnid=2HR6gA81oIwMTM&vet=12ahUKEwiXyIbO-YzvAhUP4jgGHeClAuwQMygAegUIARDNAQ..i&docid=HZLLyFhoQjvNCM&w=960&h=540&q=cars&ved=2ahUKEwiXyIbO-YzvAhUP4jgGHeClAuwQMygAegUIARDNAQ\n",
      "https://www.google.com/imgres?imgurl=https%3A%2F%2Fspecials-images.forbesimg.com%2Fimageserve%2F5d3703e2f1176b00089761a6%2F960x0.jpg%3FcropX1%3D836%26cropX2%3D5396%26cropY1%3D799%26cropY2%3D3364&imgrefurl=https%3A%2F%2Fwww.forbes.com%2Fsites%2Fjimgorzelany%2F2019%2F07%2F23%2Fhere-are-the-coolest-new-cars-for-2020%2F&tbnid=2HR6gA81oIwMTM&vet=12ahUKEwiXyIbO-YzvAhUP4jgGHeClAuwQMygAegUIARDNAQ..i&docid=HZLLyFhoQjvNCM&w=960&h=540&q=cars&ved=2ahUKEwiXyIbO-YzvAhUP4jgGHeClAuwQMygAegUIARDNAQ\n",
      "https://www.google.com/imgres?imgurl=https%3A%2F%2Fspecials-images.forbesimg.com%2Fimageserve%2F5d3703e2f1176b00089761a6%2F960x0.jpg%3FcropX1%3D836%26cropX2%3D5396%26cropY1%3D799%26cropY2%3D3364&imgrefurl=https%3A%2F%2Fwww.forbes.com%2Fsites%2Fjimgorzelany%2F2019%2F07%2F23%2Fhere-are-the-coolest-new-cars-for-2020%2F&tbnid=2HR6gA81oIwMTM&vet=12ahUKEwiXyIbO-YzvAhUP4jgGHeClAuwQMygAegUIARDNAQ..i&docid=HZLLyFhoQjvNCM&w=960&h=540&q=cars&ved=2ahUKEwiXyIbO-YzvAhUP4jgGHeClAuwQMygAegUIARDNAQ\n",
      "https://www.google.com/imgres?imgurl=https%3A%2F%2Fspecials-images.forbesimg.com%2Fimageserve%2F5d3703e2f1176b00089761a6%2F960x0.jpg%3FcropX1%3D836%26cropX2%3D5396%26cropY1%3D799%26cropY2%3D3364&imgrefurl=https%3A%2F%2Fwww.forbes.com%2Fsites%2Fjimgorzelany%2F2019%2F07%2F23%2Fhere-are-the-coolest-new-cars-for-2020%2F&tbnid=2HR6gA81oIwMTM&vet=12ahUKEwiXyIbO-YzvAhUP4jgGHeClAuwQMygAegUIARDNAQ..i&docid=HZLLyFhoQjvNCM&w=960&h=540&q=cars&ved=2ahUKEwiXyIbO-YzvAhUP4jgGHeClAuwQMygAegUIARDNAQ\n",
      "https://www.google.com/imgres?imgurl=https%3A%2F%2Fspecials-images.forbesimg.com%2Fimageserve%2F5d3703e2f1176b00089761a6%2F960x0.jpg%3FcropX1%3D836%26cropX2%3D5396%26cropY1%3D799%26cropY2%3D3364&imgrefurl=https%3A%2F%2Fwww.forbes.com%2Fsites%2Fjimgorzelany%2F2019%2F07%2F23%2Fhere-are-the-coolest-new-cars-for-2020%2F&tbnid=2HR6gA81oIwMTM&vet=12ahUKEwiXyIbO-YzvAhUP4jgGHeClAuwQMygAegUIARDNAQ..i&docid=HZLLyFhoQjvNCM&w=960&h=540&q=cars&ved=2ahUKEwiXyIbO-YzvAhUP4jgGHeClAuwQMygAegUIARDNAQ\n",
      "https://www.google.com/imgres?imgurl=https%3A%2F%2Fspecials-images.forbesimg.com%2Fimageserve%2F5d3703e2f1176b00089761a6%2F960x0.jpg%3FcropX1%3D836%26cropX2%3D5396%26cropY1%3D799%26cropY2%3D3364&imgrefurl=https%3A%2F%2Fwww.forbes.com%2Fsites%2Fjimgorzelany%2F2019%2F07%2F23%2Fhere-are-the-coolest-new-cars-for-2020%2F&tbnid=2HR6gA81oIwMTM&vet=12ahUKEwiXyIbO-YzvAhUP4jgGHeClAuwQMygAegUIARDNAQ..i&docid=HZLLyFhoQjvNCM&w=960&h=540&q=cars&ved=2ahUKEwiXyIbO-YzvAhUP4jgGHeClAuwQMygAegUIARDNAQ\n",
      "https://www.google.com/imgres?imgurl=https%3A%2F%2Fspecials-images.forbesimg.com%2Fimageserve%2F5d3703e2f1176b00089761a6%2F960x0.jpg%3FcropX1%3D836%26cropX2%3D5396%26cropY1%3D799%26cropY2%3D3364&imgrefurl=https%3A%2F%2Fwww.forbes.com%2Fsites%2Fjimgorzelany%2F2019%2F07%2F23%2Fhere-are-the-coolest-new-cars-for-2020%2F&tbnid=2HR6gA81oIwMTM&vet=12ahUKEwiXyIbO-YzvAhUP4jgGHeClAuwQMygAegUIARDNAQ..i&docid=HZLLyFhoQjvNCM&w=960&h=540&q=cars&ved=2ahUKEwiXyIbO-YzvAhUP4jgGHeClAuwQMygAegUIARDNAQ\n",
      "https://www.google.com/imgres?imgurl=https%3A%2F%2Fspecials-images.forbesimg.com%2Fimageserve%2F5d3703e2f1176b00089761a6%2F960x0.jpg%3FcropX1%3D836%26cropX2%3D5396%26cropY1%3D799%26cropY2%3D3364&imgrefurl=https%3A%2F%2Fwww.forbes.com%2Fsites%2Fjimgorzelany%2F2019%2F07%2F23%2Fhere-are-the-coolest-new-cars-for-2020%2F&tbnid=2HR6gA81oIwMTM&vet=12ahUKEwiXyIbO-YzvAhUP4jgGHeClAuwQMygAegUIARDNAQ..i&docid=HZLLyFhoQjvNCM&w=960&h=540&q=cars&ved=2ahUKEwiXyIbO-YzvAhUP4jgGHeClAuwQMygAegUIARDNAQ\n",
      "https://www.google.com/imgres?imgurl=https%3A%2F%2Fspecials-images.forbesimg.com%2Fimageserve%2F5d3703e2f1176b00089761a6%2F960x0.jpg%3FcropX1%3D836%26cropX2%3D5396%26cropY1%3D799%26cropY2%3D3364&imgrefurl=https%3A%2F%2Fwww.forbes.com%2Fsites%2Fjimgorzelany%2F2019%2F07%2F23%2Fhere-are-the-coolest-new-cars-for-2020%2F&tbnid=2HR6gA81oIwMTM&vet=12ahUKEwiXyIbO-YzvAhUP4jgGHeClAuwQMygAegUIARDNAQ..i&docid=HZLLyFhoQjvNCM&w=960&h=540&q=cars&ved=2ahUKEwiXyIbO-YzvAhUP4jgGHeClAuwQMygAegUIARDNAQ\n",
      "https://www.google.com/imgres?imgurl=https%3A%2F%2Fspecials-images.forbesimg.com%2Fimageserve%2F5d3703e2f1176b00089761a6%2F960x0.jpg%3FcropX1%3D836%26cropX2%3D5396%26cropY1%3D799%26cropY2%3D3364&imgrefurl=https%3A%2F%2Fwww.forbes.com%2Fsites%2Fjimgorzelany%2F2019%2F07%2F23%2Fhere-are-the-coolest-new-cars-for-2020%2F&tbnid=2HR6gA81oIwMTM&vet=12ahUKEwiXyIbO-YzvAhUP4jgGHeClAuwQMygAegUIARDNAQ..i&docid=HZLLyFhoQjvNCM&w=960&h=540&q=cars&ved=2ahUKEwiXyIbO-YzvAhUP4jgGHeClAuwQMygAegUIARDNAQ\n",
      "https://www.google.com/imgres?imgurl=https%3A%2F%2Fspecials-images.forbesimg.com%2Fimageserve%2F5d3703e2f1176b00089761a6%2F960x0.jpg%3FcropX1%3D836%26cropX2%3D5396%26cropY1%3D799%26cropY2%3D3364&imgrefurl=https%3A%2F%2Fwww.forbes.com%2Fsites%2Fjimgorzelany%2F2019%2F07%2F23%2Fhere-are-the-coolest-new-cars-for-2020%2F&tbnid=2HR6gA81oIwMTM&vet=12ahUKEwiXyIbO-YzvAhUP4jgGHeClAuwQMygAegUIARDNAQ..i&docid=HZLLyFhoQjvNCM&w=960&h=540&q=cars&ved=2ahUKEwiXyIbO-YzvAhUP4jgGHeClAuwQMygAegUIARDNAQ\n",
      "https://www.google.com/imgres?imgurl=https%3A%2F%2Fspecials-images.forbesimg.com%2Fimageserve%2F5d3703e2f1176b00089761a6%2F960x0.jpg%3FcropX1%3D836%26cropX2%3D5396%26cropY1%3D799%26cropY2%3D3364&imgrefurl=https%3A%2F%2Fwww.forbes.com%2Fsites%2Fjimgorzelany%2F2019%2F07%2F23%2Fhere-are-the-coolest-new-cars-for-2020%2F&tbnid=2HR6gA81oIwMTM&vet=12ahUKEwiXyIbO-YzvAhUP4jgGHeClAuwQMygAegUIARDNAQ..i&docid=HZLLyFhoQjvNCM&w=960&h=540&q=cars&ved=2ahUKEwiXyIbO-YzvAhUP4jgGHeClAuwQMygAegUIARDNAQ\n",
      "https://www.google.com/imgres?imgurl=https%3A%2F%2Fspecials-images.forbesimg.com%2Fimageserve%2F5d3703e2f1176b00089761a6%2F960x0.jpg%3FcropX1%3D836%26cropX2%3D5396%26cropY1%3D799%26cropY2%3D3364&imgrefurl=https%3A%2F%2Fwww.forbes.com%2Fsites%2Fjimgorzelany%2F2019%2F07%2F23%2Fhere-are-the-coolest-new-cars-for-2020%2F&tbnid=2HR6gA81oIwMTM&vet=12ahUKEwiXyIbO-YzvAhUP4jgGHeClAuwQMygAegUIARDNAQ..i&docid=HZLLyFhoQjvNCM&w=960&h=540&q=cars&ved=2ahUKEwiXyIbO-YzvAhUP4jgGHeClAuwQMygAegUIARDNAQ\n",
      "https://www.google.com/imgres?imgurl=https%3A%2F%2Fspecials-images.forbesimg.com%2Fimageserve%2F5d3703e2f1176b00089761a6%2F960x0.jpg%3FcropX1%3D836%26cropX2%3D5396%26cropY1%3D799%26cropY2%3D3364&imgrefurl=https%3A%2F%2Fwww.forbes.com%2Fsites%2Fjimgorzelany%2F2019%2F07%2F23%2Fhere-are-the-coolest-new-cars-for-2020%2F&tbnid=2HR6gA81oIwMTM&vet=12ahUKEwiXyIbO-YzvAhUP4jgGHeClAuwQMygAegUIARDNAQ..i&docid=HZLLyFhoQjvNCM&w=960&h=540&q=cars&ved=2ahUKEwiXyIbO-YzvAhUP4jgGHeClAuwQMygAegUIARDNAQ\n",
      "https://www.google.com/imgres?imgurl=https%3A%2F%2Fspecials-images.forbesimg.com%2Fimageserve%2F5d3703e2f1176b00089761a6%2F960x0.jpg%3FcropX1%3D836%26cropX2%3D5396%26cropY1%3D799%26cropY2%3D3364&imgrefurl=https%3A%2F%2Fwww.forbes.com%2Fsites%2Fjimgorzelany%2F2019%2F07%2F23%2Fhere-are-the-coolest-new-cars-for-2020%2F&tbnid=2HR6gA81oIwMTM&vet=12ahUKEwiXyIbO-YzvAhUP4jgGHeClAuwQMygAegUIARDNAQ..i&docid=HZLLyFhoQjvNCM&w=960&h=540&q=cars&ved=2ahUKEwiXyIbO-YzvAhUP4jgGHeClAuwQMygAegUIARDNAQ\n",
      "https://www.google.com/imgres?imgurl=https%3A%2F%2Fspecials-images.forbesimg.com%2Fimageserve%2F5d3703e2f1176b00089761a6%2F960x0.jpg%3FcropX1%3D836%26cropX2%3D5396%26cropY1%3D799%26cropY2%3D3364&imgrefurl=https%3A%2F%2Fwww.forbes.com%2Fsites%2Fjimgorzelany%2F2019%2F07%2F23%2Fhere-are-the-coolest-new-cars-for-2020%2F&tbnid=2HR6gA81oIwMTM&vet=12ahUKEwiXyIbO-YzvAhUP4jgGHeClAuwQMygAegUIARDNAQ..i&docid=HZLLyFhoQjvNCM&w=960&h=540&q=cars&ved=2ahUKEwiXyIbO-YzvAhUP4jgGHeClAuwQMygAegUIARDNAQ\n",
      "https://www.google.com/imgres?imgurl=https%3A%2F%2Fspecials-images.forbesimg.com%2Fimageserve%2F5d3703e2f1176b00089761a6%2F960x0.jpg%3FcropX1%3D836%26cropX2%3D5396%26cropY1%3D799%26cropY2%3D3364&imgrefurl=https%3A%2F%2Fwww.forbes.com%2Fsites%2Fjimgorzelany%2F2019%2F07%2F23%2Fhere-are-the-coolest-new-cars-for-2020%2F&tbnid=2HR6gA81oIwMTM&vet=12ahUKEwiXyIbO-YzvAhUP4jgGHeClAuwQMygAegUIARDNAQ..i&docid=HZLLyFhoQjvNCM&w=960&h=540&q=cars&ved=2ahUKEwiXyIbO-YzvAhUP4jgGHeClAuwQMygAegUIARDNAQ\n",
      "https://www.google.com/imgres?imgurl=https%3A%2F%2Fspecials-images.forbesimg.com%2Fimageserve%2F5d3703e2f1176b00089761a6%2F960x0.jpg%3FcropX1%3D836%26cropX2%3D5396%26cropY1%3D799%26cropY2%3D3364&imgrefurl=https%3A%2F%2Fwww.forbes.com%2Fsites%2Fjimgorzelany%2F2019%2F07%2F23%2Fhere-are-the-coolest-new-cars-for-2020%2F&tbnid=2HR6gA81oIwMTM&vet=12ahUKEwiXyIbO-YzvAhUP4jgGHeClAuwQMygAegUIARDNAQ..i&docid=HZLLyFhoQjvNCM&w=960&h=540&q=cars&ved=2ahUKEwiXyIbO-YzvAhUP4jgGHeClAuwQMygAegUIARDNAQ\n",
      "https://www.google.com/imgres?imgurl=https%3A%2F%2Fspecials-images.forbesimg.com%2Fimageserve%2F5d3703e2f1176b00089761a6%2F960x0.jpg%3FcropX1%3D836%26cropX2%3D5396%26cropY1%3D799%26cropY2%3D3364&imgrefurl=https%3A%2F%2Fwww.forbes.com%2Fsites%2Fjimgorzelany%2F2019%2F07%2F23%2Fhere-are-the-coolest-new-cars-for-2020%2F&tbnid=2HR6gA81oIwMTM&vet=12ahUKEwiXyIbO-YzvAhUP4jgGHeClAuwQMygAegUIARDNAQ..i&docid=HZLLyFhoQjvNCM&w=960&h=540&q=cars&ved=2ahUKEwiXyIbO-YzvAhUP4jgGHeClAuwQMygAegUIARDNAQ\n",
      "https://www.google.com/imgres?imgurl=https%3A%2F%2Fspecials-images.forbesimg.com%2Fimageserve%2F5d3703e2f1176b00089761a6%2F960x0.jpg%3FcropX1%3D836%26cropX2%3D5396%26cropY1%3D799%26cropY2%3D3364&imgrefurl=https%3A%2F%2Fwww.forbes.com%2Fsites%2Fjimgorzelany%2F2019%2F07%2F23%2Fhere-are-the-coolest-new-cars-for-2020%2F&tbnid=2HR6gA81oIwMTM&vet=12ahUKEwiXyIbO-YzvAhUP4jgGHeClAuwQMygAegUIARDNAQ..i&docid=HZLLyFhoQjvNCM&w=960&h=540&q=cars&ved=2ahUKEwiXyIbO-YzvAhUP4jgGHeClAuwQMygAegUIARDNAQ\n",
      "https://www.google.com/imgres?imgurl=https%3A%2F%2Fspecials-images.forbesimg.com%2Fimageserve%2F5d3703e2f1176b00089761a6%2F960x0.jpg%3FcropX1%3D836%26cropX2%3D5396%26cropY1%3D799%26cropY2%3D3364&imgrefurl=https%3A%2F%2Fwww.forbes.com%2Fsites%2Fjimgorzelany%2F2019%2F07%2F23%2Fhere-are-the-coolest-new-cars-for-2020%2F&tbnid=2HR6gA81oIwMTM&vet=12ahUKEwiXyIbO-YzvAhUP4jgGHeClAuwQMygAegUIARDNAQ..i&docid=HZLLyFhoQjvNCM&w=960&h=540&q=cars&ved=2ahUKEwiXyIbO-YzvAhUP4jgGHeClAuwQMygAegUIARDNAQ\n",
      "https://www.google.com/imgres?imgurl=https%3A%2F%2Fspecials-images.forbesimg.com%2Fimageserve%2F5d3703e2f1176b00089761a6%2F960x0.jpg%3FcropX1%3D836%26cropX2%3D5396%26cropY1%3D799%26cropY2%3D3364&imgrefurl=https%3A%2F%2Fwww.forbes.com%2Fsites%2Fjimgorzelany%2F2019%2F07%2F23%2Fhere-are-the-coolest-new-cars-for-2020%2F&tbnid=2HR6gA81oIwMTM&vet=12ahUKEwiXyIbO-YzvAhUP4jgGHeClAuwQMygAegUIARDNAQ..i&docid=HZLLyFhoQjvNCM&w=960&h=540&q=cars&ved=2ahUKEwiXyIbO-YzvAhUP4jgGHeClAuwQMygAegUIARDNAQ\n",
      "https://www.google.com/imgres?imgurl=https%3A%2F%2Fspecials-images.forbesimg.com%2Fimageserve%2F5d3703e2f1176b00089761a6%2F960x0.jpg%3FcropX1%3D836%26cropX2%3D5396%26cropY1%3D799%26cropY2%3D3364&imgrefurl=https%3A%2F%2Fwww.forbes.com%2Fsites%2Fjimgorzelany%2F2019%2F07%2F23%2Fhere-are-the-coolest-new-cars-for-2020%2F&tbnid=2HR6gA81oIwMTM&vet=12ahUKEwiXyIbO-YzvAhUP4jgGHeClAuwQMygAegUIARDNAQ..i&docid=HZLLyFhoQjvNCM&w=960&h=540&q=cars&ved=2ahUKEwiXyIbO-YzvAhUP4jgGHeClAuwQMygAegUIARDNAQ\n",
      "https://www.google.com/imgres?imgurl=https%3A%2F%2Fspecials-images.forbesimg.com%2Fimageserve%2F5d3703e2f1176b00089761a6%2F960x0.jpg%3FcropX1%3D836%26cropX2%3D5396%26cropY1%3D799%26cropY2%3D3364&imgrefurl=https%3A%2F%2Fwww.forbes.com%2Fsites%2Fjimgorzelany%2F2019%2F07%2F23%2Fhere-are-the-coolest-new-cars-for-2020%2F&tbnid=2HR6gA81oIwMTM&vet=12ahUKEwiXyIbO-YzvAhUP4jgGHeClAuwQMygAegUIARDNAQ..i&docid=HZLLyFhoQjvNCM&w=960&h=540&q=cars&ved=2ahUKEwiXyIbO-YzvAhUP4jgGHeClAuwQMygAegUIARDNAQ\n",
      "https://www.google.com/imgres?imgurl=https%3A%2F%2Fspecials-images.forbesimg.com%2Fimageserve%2F5d3703e2f1176b00089761a6%2F960x0.jpg%3FcropX1%3D836%26cropX2%3D5396%26cropY1%3D799%26cropY2%3D3364&imgrefurl=https%3A%2F%2Fwww.forbes.com%2Fsites%2Fjimgorzelany%2F2019%2F07%2F23%2Fhere-are-the-coolest-new-cars-for-2020%2F&tbnid=2HR6gA81oIwMTM&vet=12ahUKEwiXyIbO-YzvAhUP4jgGHeClAuwQMygAegUIARDNAQ..i&docid=HZLLyFhoQjvNCM&w=960&h=540&q=cars&ved=2ahUKEwiXyIbO-YzvAhUP4jgGHeClAuwQMygAegUIARDNAQ\n"
     ]
    }
   ],
   "source": [
    "for i in range(0,99):\n",
    "    print(driver.find_element_by_xpath(\"//*[@id='islrg']/div[1]/div[1]/a[1]\").get_attribute('href'))"
   ]
  },
  {
   "cell_type": "code",
   "execution_count": 30,
   "metadata": {},
   "outputs": [],
   "source": [
    "driver.close()"
   ]
  },
  {
   "cell_type": "code",
   "execution_count": 31,
   "metadata": {},
   "outputs": [],
   "source": [
    "driver=webdriver.Chrome(\"Desktop/chromedriver.exe\")"
   ]
  },
  {
   "cell_type": "code",
   "execution_count": 32,
   "metadata": {},
   "outputs": [],
   "source": [
    "driver.get(\"https://images.google.com/\")"
   ]
  },
  {
   "cell_type": "code",
   "execution_count": 33,
   "metadata": {},
   "outputs": [],
   "source": [
    "url=\"https://images.google.com/\""
   ]
  },
  {
   "cell_type": "code",
   "execution_count": 34,
   "metadata": {},
   "outputs": [],
   "source": [
    "driver.get(url)"
   ]
  },
  {
   "cell_type": "code",
   "execution_count": 35,
   "metadata": {},
   "outputs": [],
   "source": [
    "search_Machine_learning=driver.find_element_by_xpath(\"//*[@id='sbtc']/div/div[2]/input\")\n",
    "search_Machine_learning.send_keys(\"Machine_learning\")"
   ]
  },
  {
   "cell_type": "code",
   "execution_count": 36,
   "metadata": {},
   "outputs": [],
   "source": [
    "search_btn=driver.find_element_by_xpath(\"//span[@class='z1asCe MZy1Rb']\")\n",
    "search_btn.click()"
   ]
  },
  {
   "cell_type": "code",
   "execution_count": 37,
   "metadata": {},
   "outputs": [],
   "source": [
    "page=requests.get(\"https://www.google.com/search?tbm=isch&source=hp&biw=1036&bih=674&ei=pYI6YPf9POed4-EP29yp8Aw&q=Machine_learning&oq=Machine_learning&gs_lcp=CgNpbWcQDDIECAAQHjIECAAQHjIECAAQHjIECAAQHjIECAAQHjIECAAQHjIECAAQHjIECAAQHjIECAAQHjIECAAQHlCl3QRYmd4EYLG_BWgAcAB4A4AB1gKIAYcKkgEFMi0xLjOYAQCgAQGqAQtnd3Mtd2l6LWltZw&sclient=img&ved=0ahUKEwi35KXgzIrvAhXnzjgGHVtuCs4Q4dUDCAc\")"
   ]
  },
  {
   "cell_type": "code",
   "execution_count": 38,
   "metadata": {},
   "outputs": [],
   "source": [
    "soup=BeautifulSoup(page.content,'html.parser')"
   ]
  },
  {
   "cell_type": "code",
   "execution_count": 39,
   "metadata": {},
   "outputs": [
    {
     "name": "stdout",
     "output_type": "stream",
     "text": [
      "https://www.google.com/imgres?imgurl=https%3A%2F%2Fwww.spec-india.com%2Fwp-content%2Fuploads%2F2020%2F04%2Fmachine_learning.png&imgrefurl=https%3A%2F%2Fwww.spec-india.com%2Ftech-in-200-words%2Fwhat-is-machine-learning&tbnid=O7I__0d8vQb_NM&vet=12ahUKEwjD-v_y-YzvAhWOGysKHXTIBCkQMygAegUIARCeAQ..i&docid=UrdN5NrinEtY-M&w=800&h=440&q=Machine_learning&ved=2ahUKEwjD-v_y-YzvAhWOGysKHXTIBCkQMygAegUIARCeAQ\n",
      "https://www.google.com/imgres?imgurl=https%3A%2F%2Fwww.spec-india.com%2Fwp-content%2Fuploads%2F2020%2F04%2Fmachine_learning.png&imgrefurl=https%3A%2F%2Fwww.spec-india.com%2Ftech-in-200-words%2Fwhat-is-machine-learning&tbnid=O7I__0d8vQb_NM&vet=12ahUKEwjD-v_y-YzvAhWOGysKHXTIBCkQMygAegUIARCeAQ..i&docid=UrdN5NrinEtY-M&w=800&h=440&q=Machine_learning&ved=2ahUKEwjD-v_y-YzvAhWOGysKHXTIBCkQMygAegUIARCeAQ\n",
      "https://www.google.com/imgres?imgurl=https%3A%2F%2Fwww.spec-india.com%2Fwp-content%2Fuploads%2F2020%2F04%2Fmachine_learning.png&imgrefurl=https%3A%2F%2Fwww.spec-india.com%2Ftech-in-200-words%2Fwhat-is-machine-learning&tbnid=O7I__0d8vQb_NM&vet=12ahUKEwjD-v_y-YzvAhWOGysKHXTIBCkQMygAegUIARCeAQ..i&docid=UrdN5NrinEtY-M&w=800&h=440&q=Machine_learning&ved=2ahUKEwjD-v_y-YzvAhWOGysKHXTIBCkQMygAegUIARCeAQ\n",
      "https://www.google.com/imgres?imgurl=https%3A%2F%2Fwww.spec-india.com%2Fwp-content%2Fuploads%2F2020%2F04%2Fmachine_learning.png&imgrefurl=https%3A%2F%2Fwww.spec-india.com%2Ftech-in-200-words%2Fwhat-is-machine-learning&tbnid=O7I__0d8vQb_NM&vet=12ahUKEwjD-v_y-YzvAhWOGysKHXTIBCkQMygAegUIARCeAQ..i&docid=UrdN5NrinEtY-M&w=800&h=440&q=Machine_learning&ved=2ahUKEwjD-v_y-YzvAhWOGysKHXTIBCkQMygAegUIARCeAQ\n",
      "https://www.google.com/imgres?imgurl=https%3A%2F%2Fwww.spec-india.com%2Fwp-content%2Fuploads%2F2020%2F04%2Fmachine_learning.png&imgrefurl=https%3A%2F%2Fwww.spec-india.com%2Ftech-in-200-words%2Fwhat-is-machine-learning&tbnid=O7I__0d8vQb_NM&vet=12ahUKEwjD-v_y-YzvAhWOGysKHXTIBCkQMygAegUIARCeAQ..i&docid=UrdN5NrinEtY-M&w=800&h=440&q=Machine_learning&ved=2ahUKEwjD-v_y-YzvAhWOGysKHXTIBCkQMygAegUIARCeAQ\n",
      "https://www.google.com/imgres?imgurl=https%3A%2F%2Fwww.spec-india.com%2Fwp-content%2Fuploads%2F2020%2F04%2Fmachine_learning.png&imgrefurl=https%3A%2F%2Fwww.spec-india.com%2Ftech-in-200-words%2Fwhat-is-machine-learning&tbnid=O7I__0d8vQb_NM&vet=12ahUKEwjD-v_y-YzvAhWOGysKHXTIBCkQMygAegUIARCeAQ..i&docid=UrdN5NrinEtY-M&w=800&h=440&q=Machine_learning&ved=2ahUKEwjD-v_y-YzvAhWOGysKHXTIBCkQMygAegUIARCeAQ\n",
      "https://www.google.com/imgres?imgurl=https%3A%2F%2Fwww.spec-india.com%2Fwp-content%2Fuploads%2F2020%2F04%2Fmachine_learning.png&imgrefurl=https%3A%2F%2Fwww.spec-india.com%2Ftech-in-200-words%2Fwhat-is-machine-learning&tbnid=O7I__0d8vQb_NM&vet=12ahUKEwjD-v_y-YzvAhWOGysKHXTIBCkQMygAegUIARCeAQ..i&docid=UrdN5NrinEtY-M&w=800&h=440&q=Machine_learning&ved=2ahUKEwjD-v_y-YzvAhWOGysKHXTIBCkQMygAegUIARCeAQ\n",
      "https://www.google.com/imgres?imgurl=https%3A%2F%2Fwww.spec-india.com%2Fwp-content%2Fuploads%2F2020%2F04%2Fmachine_learning.png&imgrefurl=https%3A%2F%2Fwww.spec-india.com%2Ftech-in-200-words%2Fwhat-is-machine-learning&tbnid=O7I__0d8vQb_NM&vet=12ahUKEwjD-v_y-YzvAhWOGysKHXTIBCkQMygAegUIARCeAQ..i&docid=UrdN5NrinEtY-M&w=800&h=440&q=Machine_learning&ved=2ahUKEwjD-v_y-YzvAhWOGysKHXTIBCkQMygAegUIARCeAQ\n",
      "https://www.google.com/imgres?imgurl=https%3A%2F%2Fwww.spec-india.com%2Fwp-content%2Fuploads%2F2020%2F04%2Fmachine_learning.png&imgrefurl=https%3A%2F%2Fwww.spec-india.com%2Ftech-in-200-words%2Fwhat-is-machine-learning&tbnid=O7I__0d8vQb_NM&vet=12ahUKEwjD-v_y-YzvAhWOGysKHXTIBCkQMygAegUIARCeAQ..i&docid=UrdN5NrinEtY-M&w=800&h=440&q=Machine_learning&ved=2ahUKEwjD-v_y-YzvAhWOGysKHXTIBCkQMygAegUIARCeAQ\n",
      "https://www.google.com/imgres?imgurl=https%3A%2F%2Fwww.spec-india.com%2Fwp-content%2Fuploads%2F2020%2F04%2Fmachine_learning.png&imgrefurl=https%3A%2F%2Fwww.spec-india.com%2Ftech-in-200-words%2Fwhat-is-machine-learning&tbnid=O7I__0d8vQb_NM&vet=12ahUKEwjD-v_y-YzvAhWOGysKHXTIBCkQMygAegUIARCeAQ..i&docid=UrdN5NrinEtY-M&w=800&h=440&q=Machine_learning&ved=2ahUKEwjD-v_y-YzvAhWOGysKHXTIBCkQMygAegUIARCeAQ\n",
      "https://www.google.com/imgres?imgurl=https%3A%2F%2Fwww.spec-india.com%2Fwp-content%2Fuploads%2F2020%2F04%2Fmachine_learning.png&imgrefurl=https%3A%2F%2Fwww.spec-india.com%2Ftech-in-200-words%2Fwhat-is-machine-learning&tbnid=O7I__0d8vQb_NM&vet=12ahUKEwjD-v_y-YzvAhWOGysKHXTIBCkQMygAegUIARCeAQ..i&docid=UrdN5NrinEtY-M&w=800&h=440&q=Machine_learning&ved=2ahUKEwjD-v_y-YzvAhWOGysKHXTIBCkQMygAegUIARCeAQ\n",
      "https://www.google.com/imgres?imgurl=https%3A%2F%2Fwww.spec-india.com%2Fwp-content%2Fuploads%2F2020%2F04%2Fmachine_learning.png&imgrefurl=https%3A%2F%2Fwww.spec-india.com%2Ftech-in-200-words%2Fwhat-is-machine-learning&tbnid=O7I__0d8vQb_NM&vet=12ahUKEwjD-v_y-YzvAhWOGysKHXTIBCkQMygAegUIARCeAQ..i&docid=UrdN5NrinEtY-M&w=800&h=440&q=Machine_learning&ved=2ahUKEwjD-v_y-YzvAhWOGysKHXTIBCkQMygAegUIARCeAQ\n",
      "https://www.google.com/imgres?imgurl=https%3A%2F%2Fwww.spec-india.com%2Fwp-content%2Fuploads%2F2020%2F04%2Fmachine_learning.png&imgrefurl=https%3A%2F%2Fwww.spec-india.com%2Ftech-in-200-words%2Fwhat-is-machine-learning&tbnid=O7I__0d8vQb_NM&vet=12ahUKEwjD-v_y-YzvAhWOGysKHXTIBCkQMygAegUIARCeAQ..i&docid=UrdN5NrinEtY-M&w=800&h=440&q=Machine_learning&ved=2ahUKEwjD-v_y-YzvAhWOGysKHXTIBCkQMygAegUIARCeAQ\n",
      "https://www.google.com/imgres?imgurl=https%3A%2F%2Fwww.spec-india.com%2Fwp-content%2Fuploads%2F2020%2F04%2Fmachine_learning.png&imgrefurl=https%3A%2F%2Fwww.spec-india.com%2Ftech-in-200-words%2Fwhat-is-machine-learning&tbnid=O7I__0d8vQb_NM&vet=12ahUKEwjD-v_y-YzvAhWOGysKHXTIBCkQMygAegUIARCeAQ..i&docid=UrdN5NrinEtY-M&w=800&h=440&q=Machine_learning&ved=2ahUKEwjD-v_y-YzvAhWOGysKHXTIBCkQMygAegUIARCeAQ\n",
      "https://www.google.com/imgres?imgurl=https%3A%2F%2Fwww.spec-india.com%2Fwp-content%2Fuploads%2F2020%2F04%2Fmachine_learning.png&imgrefurl=https%3A%2F%2Fwww.spec-india.com%2Ftech-in-200-words%2Fwhat-is-machine-learning&tbnid=O7I__0d8vQb_NM&vet=12ahUKEwjD-v_y-YzvAhWOGysKHXTIBCkQMygAegUIARCeAQ..i&docid=UrdN5NrinEtY-M&w=800&h=440&q=Machine_learning&ved=2ahUKEwjD-v_y-YzvAhWOGysKHXTIBCkQMygAegUIARCeAQ\n",
      "https://www.google.com/imgres?imgurl=https%3A%2F%2Fwww.spec-india.com%2Fwp-content%2Fuploads%2F2020%2F04%2Fmachine_learning.png&imgrefurl=https%3A%2F%2Fwww.spec-india.com%2Ftech-in-200-words%2Fwhat-is-machine-learning&tbnid=O7I__0d8vQb_NM&vet=12ahUKEwjD-v_y-YzvAhWOGysKHXTIBCkQMygAegUIARCeAQ..i&docid=UrdN5NrinEtY-M&w=800&h=440&q=Machine_learning&ved=2ahUKEwjD-v_y-YzvAhWOGysKHXTIBCkQMygAegUIARCeAQ\n",
      "https://www.google.com/imgres?imgurl=https%3A%2F%2Fwww.spec-india.com%2Fwp-content%2Fuploads%2F2020%2F04%2Fmachine_learning.png&imgrefurl=https%3A%2F%2Fwww.spec-india.com%2Ftech-in-200-words%2Fwhat-is-machine-learning&tbnid=O7I__0d8vQb_NM&vet=12ahUKEwjD-v_y-YzvAhWOGysKHXTIBCkQMygAegUIARCeAQ..i&docid=UrdN5NrinEtY-M&w=800&h=440&q=Machine_learning&ved=2ahUKEwjD-v_y-YzvAhWOGysKHXTIBCkQMygAegUIARCeAQ\n",
      "https://www.google.com/imgres?imgurl=https%3A%2F%2Fwww.spec-india.com%2Fwp-content%2Fuploads%2F2020%2F04%2Fmachine_learning.png&imgrefurl=https%3A%2F%2Fwww.spec-india.com%2Ftech-in-200-words%2Fwhat-is-machine-learning&tbnid=O7I__0d8vQb_NM&vet=12ahUKEwjD-v_y-YzvAhWOGysKHXTIBCkQMygAegUIARCeAQ..i&docid=UrdN5NrinEtY-M&w=800&h=440&q=Machine_learning&ved=2ahUKEwjD-v_y-YzvAhWOGysKHXTIBCkQMygAegUIARCeAQ\n",
      "https://www.google.com/imgres?imgurl=https%3A%2F%2Fwww.spec-india.com%2Fwp-content%2Fuploads%2F2020%2F04%2Fmachine_learning.png&imgrefurl=https%3A%2F%2Fwww.spec-india.com%2Ftech-in-200-words%2Fwhat-is-machine-learning&tbnid=O7I__0d8vQb_NM&vet=12ahUKEwjD-v_y-YzvAhWOGysKHXTIBCkQMygAegUIARCeAQ..i&docid=UrdN5NrinEtY-M&w=800&h=440&q=Machine_learning&ved=2ahUKEwjD-v_y-YzvAhWOGysKHXTIBCkQMygAegUIARCeAQ\n",
      "https://www.google.com/imgres?imgurl=https%3A%2F%2Fwww.spec-india.com%2Fwp-content%2Fuploads%2F2020%2F04%2Fmachine_learning.png&imgrefurl=https%3A%2F%2Fwww.spec-india.com%2Ftech-in-200-words%2Fwhat-is-machine-learning&tbnid=O7I__0d8vQb_NM&vet=12ahUKEwjD-v_y-YzvAhWOGysKHXTIBCkQMygAegUIARCeAQ..i&docid=UrdN5NrinEtY-M&w=800&h=440&q=Machine_learning&ved=2ahUKEwjD-v_y-YzvAhWOGysKHXTIBCkQMygAegUIARCeAQ\n",
      "https://www.google.com/imgres?imgurl=https%3A%2F%2Fwww.spec-india.com%2Fwp-content%2Fuploads%2F2020%2F04%2Fmachine_learning.png&imgrefurl=https%3A%2F%2Fwww.spec-india.com%2Ftech-in-200-words%2Fwhat-is-machine-learning&tbnid=O7I__0d8vQb_NM&vet=12ahUKEwjD-v_y-YzvAhWOGysKHXTIBCkQMygAegUIARCeAQ..i&docid=UrdN5NrinEtY-M&w=800&h=440&q=Machine_learning&ved=2ahUKEwjD-v_y-YzvAhWOGysKHXTIBCkQMygAegUIARCeAQ\n",
      "https://www.google.com/imgres?imgurl=https%3A%2F%2Fwww.spec-india.com%2Fwp-content%2Fuploads%2F2020%2F04%2Fmachine_learning.png&imgrefurl=https%3A%2F%2Fwww.spec-india.com%2Ftech-in-200-words%2Fwhat-is-machine-learning&tbnid=O7I__0d8vQb_NM&vet=12ahUKEwjD-v_y-YzvAhWOGysKHXTIBCkQMygAegUIARCeAQ..i&docid=UrdN5NrinEtY-M&w=800&h=440&q=Machine_learning&ved=2ahUKEwjD-v_y-YzvAhWOGysKHXTIBCkQMygAegUIARCeAQ\n",
      "https://www.google.com/imgres?imgurl=https%3A%2F%2Fwww.spec-india.com%2Fwp-content%2Fuploads%2F2020%2F04%2Fmachine_learning.png&imgrefurl=https%3A%2F%2Fwww.spec-india.com%2Ftech-in-200-words%2Fwhat-is-machine-learning&tbnid=O7I__0d8vQb_NM&vet=12ahUKEwjD-v_y-YzvAhWOGysKHXTIBCkQMygAegUIARCeAQ..i&docid=UrdN5NrinEtY-M&w=800&h=440&q=Machine_learning&ved=2ahUKEwjD-v_y-YzvAhWOGysKHXTIBCkQMygAegUIARCeAQ\n",
      "https://www.google.com/imgres?imgurl=https%3A%2F%2Fwww.spec-india.com%2Fwp-content%2Fuploads%2F2020%2F04%2Fmachine_learning.png&imgrefurl=https%3A%2F%2Fwww.spec-india.com%2Ftech-in-200-words%2Fwhat-is-machine-learning&tbnid=O7I__0d8vQb_NM&vet=12ahUKEwjD-v_y-YzvAhWOGysKHXTIBCkQMygAegUIARCeAQ..i&docid=UrdN5NrinEtY-M&w=800&h=440&q=Machine_learning&ved=2ahUKEwjD-v_y-YzvAhWOGysKHXTIBCkQMygAegUIARCeAQ\n",
      "https://www.google.com/imgres?imgurl=https%3A%2F%2Fwww.spec-india.com%2Fwp-content%2Fuploads%2F2020%2F04%2Fmachine_learning.png&imgrefurl=https%3A%2F%2Fwww.spec-india.com%2Ftech-in-200-words%2Fwhat-is-machine-learning&tbnid=O7I__0d8vQb_NM&vet=12ahUKEwjD-v_y-YzvAhWOGysKHXTIBCkQMygAegUIARCeAQ..i&docid=UrdN5NrinEtY-M&w=800&h=440&q=Machine_learning&ved=2ahUKEwjD-v_y-YzvAhWOGysKHXTIBCkQMygAegUIARCeAQ\n",
      "https://www.google.com/imgres?imgurl=https%3A%2F%2Fwww.spec-india.com%2Fwp-content%2Fuploads%2F2020%2F04%2Fmachine_learning.png&imgrefurl=https%3A%2F%2Fwww.spec-india.com%2Ftech-in-200-words%2Fwhat-is-machine-learning&tbnid=O7I__0d8vQb_NM&vet=12ahUKEwjD-v_y-YzvAhWOGysKHXTIBCkQMygAegUIARCeAQ..i&docid=UrdN5NrinEtY-M&w=800&h=440&q=Machine_learning&ved=2ahUKEwjD-v_y-YzvAhWOGysKHXTIBCkQMygAegUIARCeAQ\n",
      "https://www.google.com/imgres?imgurl=https%3A%2F%2Fwww.spec-india.com%2Fwp-content%2Fuploads%2F2020%2F04%2Fmachine_learning.png&imgrefurl=https%3A%2F%2Fwww.spec-india.com%2Ftech-in-200-words%2Fwhat-is-machine-learning&tbnid=O7I__0d8vQb_NM&vet=12ahUKEwjD-v_y-YzvAhWOGysKHXTIBCkQMygAegUIARCeAQ..i&docid=UrdN5NrinEtY-M&w=800&h=440&q=Machine_learning&ved=2ahUKEwjD-v_y-YzvAhWOGysKHXTIBCkQMygAegUIARCeAQ\n",
      "https://www.google.com/imgres?imgurl=https%3A%2F%2Fwww.spec-india.com%2Fwp-content%2Fuploads%2F2020%2F04%2Fmachine_learning.png&imgrefurl=https%3A%2F%2Fwww.spec-india.com%2Ftech-in-200-words%2Fwhat-is-machine-learning&tbnid=O7I__0d8vQb_NM&vet=12ahUKEwjD-v_y-YzvAhWOGysKHXTIBCkQMygAegUIARCeAQ..i&docid=UrdN5NrinEtY-M&w=800&h=440&q=Machine_learning&ved=2ahUKEwjD-v_y-YzvAhWOGysKHXTIBCkQMygAegUIARCeAQ\n",
      "https://www.google.com/imgres?imgurl=https%3A%2F%2Fwww.spec-india.com%2Fwp-content%2Fuploads%2F2020%2F04%2Fmachine_learning.png&imgrefurl=https%3A%2F%2Fwww.spec-india.com%2Ftech-in-200-words%2Fwhat-is-machine-learning&tbnid=O7I__0d8vQb_NM&vet=12ahUKEwjD-v_y-YzvAhWOGysKHXTIBCkQMygAegUIARCeAQ..i&docid=UrdN5NrinEtY-M&w=800&h=440&q=Machine_learning&ved=2ahUKEwjD-v_y-YzvAhWOGysKHXTIBCkQMygAegUIARCeAQ\n",
      "https://www.google.com/imgres?imgurl=https%3A%2F%2Fwww.spec-india.com%2Fwp-content%2Fuploads%2F2020%2F04%2Fmachine_learning.png&imgrefurl=https%3A%2F%2Fwww.spec-india.com%2Ftech-in-200-words%2Fwhat-is-machine-learning&tbnid=O7I__0d8vQb_NM&vet=12ahUKEwjD-v_y-YzvAhWOGysKHXTIBCkQMygAegUIARCeAQ..i&docid=UrdN5NrinEtY-M&w=800&h=440&q=Machine_learning&ved=2ahUKEwjD-v_y-YzvAhWOGysKHXTIBCkQMygAegUIARCeAQ\n",
      "https://www.google.com/imgres?imgurl=https%3A%2F%2Fwww.spec-india.com%2Fwp-content%2Fuploads%2F2020%2F04%2Fmachine_learning.png&imgrefurl=https%3A%2F%2Fwww.spec-india.com%2Ftech-in-200-words%2Fwhat-is-machine-learning&tbnid=O7I__0d8vQb_NM&vet=12ahUKEwjD-v_y-YzvAhWOGysKHXTIBCkQMygAegUIARCeAQ..i&docid=UrdN5NrinEtY-M&w=800&h=440&q=Machine_learning&ved=2ahUKEwjD-v_y-YzvAhWOGysKHXTIBCkQMygAegUIARCeAQ\n",
      "https://www.google.com/imgres?imgurl=https%3A%2F%2Fwww.spec-india.com%2Fwp-content%2Fuploads%2F2020%2F04%2Fmachine_learning.png&imgrefurl=https%3A%2F%2Fwww.spec-india.com%2Ftech-in-200-words%2Fwhat-is-machine-learning&tbnid=O7I__0d8vQb_NM&vet=12ahUKEwjD-v_y-YzvAhWOGysKHXTIBCkQMygAegUIARCeAQ..i&docid=UrdN5NrinEtY-M&w=800&h=440&q=Machine_learning&ved=2ahUKEwjD-v_y-YzvAhWOGysKHXTIBCkQMygAegUIARCeAQ\n",
      "https://www.google.com/imgres?imgurl=https%3A%2F%2Fwww.spec-india.com%2Fwp-content%2Fuploads%2F2020%2F04%2Fmachine_learning.png&imgrefurl=https%3A%2F%2Fwww.spec-india.com%2Ftech-in-200-words%2Fwhat-is-machine-learning&tbnid=O7I__0d8vQb_NM&vet=12ahUKEwjD-v_y-YzvAhWOGysKHXTIBCkQMygAegUIARCeAQ..i&docid=UrdN5NrinEtY-M&w=800&h=440&q=Machine_learning&ved=2ahUKEwjD-v_y-YzvAhWOGysKHXTIBCkQMygAegUIARCeAQ\n",
      "https://www.google.com/imgres?imgurl=https%3A%2F%2Fwww.spec-india.com%2Fwp-content%2Fuploads%2F2020%2F04%2Fmachine_learning.png&imgrefurl=https%3A%2F%2Fwww.spec-india.com%2Ftech-in-200-words%2Fwhat-is-machine-learning&tbnid=O7I__0d8vQb_NM&vet=12ahUKEwjD-v_y-YzvAhWOGysKHXTIBCkQMygAegUIARCeAQ..i&docid=UrdN5NrinEtY-M&w=800&h=440&q=Machine_learning&ved=2ahUKEwjD-v_y-YzvAhWOGysKHXTIBCkQMygAegUIARCeAQ\n",
      "https://www.google.com/imgres?imgurl=https%3A%2F%2Fwww.spec-india.com%2Fwp-content%2Fuploads%2F2020%2F04%2Fmachine_learning.png&imgrefurl=https%3A%2F%2Fwww.spec-india.com%2Ftech-in-200-words%2Fwhat-is-machine-learning&tbnid=O7I__0d8vQb_NM&vet=12ahUKEwjD-v_y-YzvAhWOGysKHXTIBCkQMygAegUIARCeAQ..i&docid=UrdN5NrinEtY-M&w=800&h=440&q=Machine_learning&ved=2ahUKEwjD-v_y-YzvAhWOGysKHXTIBCkQMygAegUIARCeAQ\n",
      "https://www.google.com/imgres?imgurl=https%3A%2F%2Fwww.spec-india.com%2Fwp-content%2Fuploads%2F2020%2F04%2Fmachine_learning.png&imgrefurl=https%3A%2F%2Fwww.spec-india.com%2Ftech-in-200-words%2Fwhat-is-machine-learning&tbnid=O7I__0d8vQb_NM&vet=12ahUKEwjD-v_y-YzvAhWOGysKHXTIBCkQMygAegUIARCeAQ..i&docid=UrdN5NrinEtY-M&w=800&h=440&q=Machine_learning&ved=2ahUKEwjD-v_y-YzvAhWOGysKHXTIBCkQMygAegUIARCeAQ\n",
      "https://www.google.com/imgres?imgurl=https%3A%2F%2Fwww.spec-india.com%2Fwp-content%2Fuploads%2F2020%2F04%2Fmachine_learning.png&imgrefurl=https%3A%2F%2Fwww.spec-india.com%2Ftech-in-200-words%2Fwhat-is-machine-learning&tbnid=O7I__0d8vQb_NM&vet=12ahUKEwjD-v_y-YzvAhWOGysKHXTIBCkQMygAegUIARCeAQ..i&docid=UrdN5NrinEtY-M&w=800&h=440&q=Machine_learning&ved=2ahUKEwjD-v_y-YzvAhWOGysKHXTIBCkQMygAegUIARCeAQ\n",
      "https://www.google.com/imgres?imgurl=https%3A%2F%2Fwww.spec-india.com%2Fwp-content%2Fuploads%2F2020%2F04%2Fmachine_learning.png&imgrefurl=https%3A%2F%2Fwww.spec-india.com%2Ftech-in-200-words%2Fwhat-is-machine-learning&tbnid=O7I__0d8vQb_NM&vet=12ahUKEwjD-v_y-YzvAhWOGysKHXTIBCkQMygAegUIARCeAQ..i&docid=UrdN5NrinEtY-M&w=800&h=440&q=Machine_learning&ved=2ahUKEwjD-v_y-YzvAhWOGysKHXTIBCkQMygAegUIARCeAQ\n",
      "https://www.google.com/imgres?imgurl=https%3A%2F%2Fwww.spec-india.com%2Fwp-content%2Fuploads%2F2020%2F04%2Fmachine_learning.png&imgrefurl=https%3A%2F%2Fwww.spec-india.com%2Ftech-in-200-words%2Fwhat-is-machine-learning&tbnid=O7I__0d8vQb_NM&vet=12ahUKEwjD-v_y-YzvAhWOGysKHXTIBCkQMygAegUIARCeAQ..i&docid=UrdN5NrinEtY-M&w=800&h=440&q=Machine_learning&ved=2ahUKEwjD-v_y-YzvAhWOGysKHXTIBCkQMygAegUIARCeAQ\n",
      "https://www.google.com/imgres?imgurl=https%3A%2F%2Fwww.spec-india.com%2Fwp-content%2Fuploads%2F2020%2F04%2Fmachine_learning.png&imgrefurl=https%3A%2F%2Fwww.spec-india.com%2Ftech-in-200-words%2Fwhat-is-machine-learning&tbnid=O7I__0d8vQb_NM&vet=12ahUKEwjD-v_y-YzvAhWOGysKHXTIBCkQMygAegUIARCeAQ..i&docid=UrdN5NrinEtY-M&w=800&h=440&q=Machine_learning&ved=2ahUKEwjD-v_y-YzvAhWOGysKHXTIBCkQMygAegUIARCeAQ\n",
      "https://www.google.com/imgres?imgurl=https%3A%2F%2Fwww.spec-india.com%2Fwp-content%2Fuploads%2F2020%2F04%2Fmachine_learning.png&imgrefurl=https%3A%2F%2Fwww.spec-india.com%2Ftech-in-200-words%2Fwhat-is-machine-learning&tbnid=O7I__0d8vQb_NM&vet=12ahUKEwjD-v_y-YzvAhWOGysKHXTIBCkQMygAegUIARCeAQ..i&docid=UrdN5NrinEtY-M&w=800&h=440&q=Machine_learning&ved=2ahUKEwjD-v_y-YzvAhWOGysKHXTIBCkQMygAegUIARCeAQ\n",
      "https://www.google.com/imgres?imgurl=https%3A%2F%2Fwww.spec-india.com%2Fwp-content%2Fuploads%2F2020%2F04%2Fmachine_learning.png&imgrefurl=https%3A%2F%2Fwww.spec-india.com%2Ftech-in-200-words%2Fwhat-is-machine-learning&tbnid=O7I__0d8vQb_NM&vet=12ahUKEwjD-v_y-YzvAhWOGysKHXTIBCkQMygAegUIARCeAQ..i&docid=UrdN5NrinEtY-M&w=800&h=440&q=Machine_learning&ved=2ahUKEwjD-v_y-YzvAhWOGysKHXTIBCkQMygAegUIARCeAQ\n",
      "https://www.google.com/imgres?imgurl=https%3A%2F%2Fwww.spec-india.com%2Fwp-content%2Fuploads%2F2020%2F04%2Fmachine_learning.png&imgrefurl=https%3A%2F%2Fwww.spec-india.com%2Ftech-in-200-words%2Fwhat-is-machine-learning&tbnid=O7I__0d8vQb_NM&vet=12ahUKEwjD-v_y-YzvAhWOGysKHXTIBCkQMygAegUIARCeAQ..i&docid=UrdN5NrinEtY-M&w=800&h=440&q=Machine_learning&ved=2ahUKEwjD-v_y-YzvAhWOGysKHXTIBCkQMygAegUIARCeAQ\n",
      "https://www.google.com/imgres?imgurl=https%3A%2F%2Fwww.spec-india.com%2Fwp-content%2Fuploads%2F2020%2F04%2Fmachine_learning.png&imgrefurl=https%3A%2F%2Fwww.spec-india.com%2Ftech-in-200-words%2Fwhat-is-machine-learning&tbnid=O7I__0d8vQb_NM&vet=12ahUKEwjD-v_y-YzvAhWOGysKHXTIBCkQMygAegUIARCeAQ..i&docid=UrdN5NrinEtY-M&w=800&h=440&q=Machine_learning&ved=2ahUKEwjD-v_y-YzvAhWOGysKHXTIBCkQMygAegUIARCeAQ\n",
      "https://www.google.com/imgres?imgurl=https%3A%2F%2Fwww.spec-india.com%2Fwp-content%2Fuploads%2F2020%2F04%2Fmachine_learning.png&imgrefurl=https%3A%2F%2Fwww.spec-india.com%2Ftech-in-200-words%2Fwhat-is-machine-learning&tbnid=O7I__0d8vQb_NM&vet=12ahUKEwjD-v_y-YzvAhWOGysKHXTIBCkQMygAegUIARCeAQ..i&docid=UrdN5NrinEtY-M&w=800&h=440&q=Machine_learning&ved=2ahUKEwjD-v_y-YzvAhWOGysKHXTIBCkQMygAegUIARCeAQ\n",
      "https://www.google.com/imgres?imgurl=https%3A%2F%2Fwww.spec-india.com%2Fwp-content%2Fuploads%2F2020%2F04%2Fmachine_learning.png&imgrefurl=https%3A%2F%2Fwww.spec-india.com%2Ftech-in-200-words%2Fwhat-is-machine-learning&tbnid=O7I__0d8vQb_NM&vet=12ahUKEwjD-v_y-YzvAhWOGysKHXTIBCkQMygAegUIARCeAQ..i&docid=UrdN5NrinEtY-M&w=800&h=440&q=Machine_learning&ved=2ahUKEwjD-v_y-YzvAhWOGysKHXTIBCkQMygAegUIARCeAQ\n",
      "https://www.google.com/imgres?imgurl=https%3A%2F%2Fwww.spec-india.com%2Fwp-content%2Fuploads%2F2020%2F04%2Fmachine_learning.png&imgrefurl=https%3A%2F%2Fwww.spec-india.com%2Ftech-in-200-words%2Fwhat-is-machine-learning&tbnid=O7I__0d8vQb_NM&vet=12ahUKEwjD-v_y-YzvAhWOGysKHXTIBCkQMygAegUIARCeAQ..i&docid=UrdN5NrinEtY-M&w=800&h=440&q=Machine_learning&ved=2ahUKEwjD-v_y-YzvAhWOGysKHXTIBCkQMygAegUIARCeAQ\n",
      "https://www.google.com/imgres?imgurl=https%3A%2F%2Fwww.spec-india.com%2Fwp-content%2Fuploads%2F2020%2F04%2Fmachine_learning.png&imgrefurl=https%3A%2F%2Fwww.spec-india.com%2Ftech-in-200-words%2Fwhat-is-machine-learning&tbnid=O7I__0d8vQb_NM&vet=12ahUKEwjD-v_y-YzvAhWOGysKHXTIBCkQMygAegUIARCeAQ..i&docid=UrdN5NrinEtY-M&w=800&h=440&q=Machine_learning&ved=2ahUKEwjD-v_y-YzvAhWOGysKHXTIBCkQMygAegUIARCeAQ\n",
      "https://www.google.com/imgres?imgurl=https%3A%2F%2Fwww.spec-india.com%2Fwp-content%2Fuploads%2F2020%2F04%2Fmachine_learning.png&imgrefurl=https%3A%2F%2Fwww.spec-india.com%2Ftech-in-200-words%2Fwhat-is-machine-learning&tbnid=O7I__0d8vQb_NM&vet=12ahUKEwjD-v_y-YzvAhWOGysKHXTIBCkQMygAegUIARCeAQ..i&docid=UrdN5NrinEtY-M&w=800&h=440&q=Machine_learning&ved=2ahUKEwjD-v_y-YzvAhWOGysKHXTIBCkQMygAegUIARCeAQ\n",
      "https://www.google.com/imgres?imgurl=https%3A%2F%2Fwww.spec-india.com%2Fwp-content%2Fuploads%2F2020%2F04%2Fmachine_learning.png&imgrefurl=https%3A%2F%2Fwww.spec-india.com%2Ftech-in-200-words%2Fwhat-is-machine-learning&tbnid=O7I__0d8vQb_NM&vet=12ahUKEwjD-v_y-YzvAhWOGysKHXTIBCkQMygAegUIARCeAQ..i&docid=UrdN5NrinEtY-M&w=800&h=440&q=Machine_learning&ved=2ahUKEwjD-v_y-YzvAhWOGysKHXTIBCkQMygAegUIARCeAQ\n",
      "https://www.google.com/imgres?imgurl=https%3A%2F%2Fwww.spec-india.com%2Fwp-content%2Fuploads%2F2020%2F04%2Fmachine_learning.png&imgrefurl=https%3A%2F%2Fwww.spec-india.com%2Ftech-in-200-words%2Fwhat-is-machine-learning&tbnid=O7I__0d8vQb_NM&vet=12ahUKEwjD-v_y-YzvAhWOGysKHXTIBCkQMygAegUIARCeAQ..i&docid=UrdN5NrinEtY-M&w=800&h=440&q=Machine_learning&ved=2ahUKEwjD-v_y-YzvAhWOGysKHXTIBCkQMygAegUIARCeAQ\n",
      "https://www.google.com/imgres?imgurl=https%3A%2F%2Fwww.spec-india.com%2Fwp-content%2Fuploads%2F2020%2F04%2Fmachine_learning.png&imgrefurl=https%3A%2F%2Fwww.spec-india.com%2Ftech-in-200-words%2Fwhat-is-machine-learning&tbnid=O7I__0d8vQb_NM&vet=12ahUKEwjD-v_y-YzvAhWOGysKHXTIBCkQMygAegUIARCeAQ..i&docid=UrdN5NrinEtY-M&w=800&h=440&q=Machine_learning&ved=2ahUKEwjD-v_y-YzvAhWOGysKHXTIBCkQMygAegUIARCeAQ\n",
      "https://www.google.com/imgres?imgurl=https%3A%2F%2Fwww.spec-india.com%2Fwp-content%2Fuploads%2F2020%2F04%2Fmachine_learning.png&imgrefurl=https%3A%2F%2Fwww.spec-india.com%2Ftech-in-200-words%2Fwhat-is-machine-learning&tbnid=O7I__0d8vQb_NM&vet=12ahUKEwjD-v_y-YzvAhWOGysKHXTIBCkQMygAegUIARCeAQ..i&docid=UrdN5NrinEtY-M&w=800&h=440&q=Machine_learning&ved=2ahUKEwjD-v_y-YzvAhWOGysKHXTIBCkQMygAegUIARCeAQ\n",
      "https://www.google.com/imgres?imgurl=https%3A%2F%2Fwww.spec-india.com%2Fwp-content%2Fuploads%2F2020%2F04%2Fmachine_learning.png&imgrefurl=https%3A%2F%2Fwww.spec-india.com%2Ftech-in-200-words%2Fwhat-is-machine-learning&tbnid=O7I__0d8vQb_NM&vet=12ahUKEwjD-v_y-YzvAhWOGysKHXTIBCkQMygAegUIARCeAQ..i&docid=UrdN5NrinEtY-M&w=800&h=440&q=Machine_learning&ved=2ahUKEwjD-v_y-YzvAhWOGysKHXTIBCkQMygAegUIARCeAQ\n",
      "https://www.google.com/imgres?imgurl=https%3A%2F%2Fwww.spec-india.com%2Fwp-content%2Fuploads%2F2020%2F04%2Fmachine_learning.png&imgrefurl=https%3A%2F%2Fwww.spec-india.com%2Ftech-in-200-words%2Fwhat-is-machine-learning&tbnid=O7I__0d8vQb_NM&vet=12ahUKEwjD-v_y-YzvAhWOGysKHXTIBCkQMygAegUIARCeAQ..i&docid=UrdN5NrinEtY-M&w=800&h=440&q=Machine_learning&ved=2ahUKEwjD-v_y-YzvAhWOGysKHXTIBCkQMygAegUIARCeAQ\n",
      "https://www.google.com/imgres?imgurl=https%3A%2F%2Fwww.spec-india.com%2Fwp-content%2Fuploads%2F2020%2F04%2Fmachine_learning.png&imgrefurl=https%3A%2F%2Fwww.spec-india.com%2Ftech-in-200-words%2Fwhat-is-machine-learning&tbnid=O7I__0d8vQb_NM&vet=12ahUKEwjD-v_y-YzvAhWOGysKHXTIBCkQMygAegUIARCeAQ..i&docid=UrdN5NrinEtY-M&w=800&h=440&q=Machine_learning&ved=2ahUKEwjD-v_y-YzvAhWOGysKHXTIBCkQMygAegUIARCeAQ\n",
      "https://www.google.com/imgres?imgurl=https%3A%2F%2Fwww.spec-india.com%2Fwp-content%2Fuploads%2F2020%2F04%2Fmachine_learning.png&imgrefurl=https%3A%2F%2Fwww.spec-india.com%2Ftech-in-200-words%2Fwhat-is-machine-learning&tbnid=O7I__0d8vQb_NM&vet=12ahUKEwjD-v_y-YzvAhWOGysKHXTIBCkQMygAegUIARCeAQ..i&docid=UrdN5NrinEtY-M&w=800&h=440&q=Machine_learning&ved=2ahUKEwjD-v_y-YzvAhWOGysKHXTIBCkQMygAegUIARCeAQ\n",
      "https://www.google.com/imgres?imgurl=https%3A%2F%2Fwww.spec-india.com%2Fwp-content%2Fuploads%2F2020%2F04%2Fmachine_learning.png&imgrefurl=https%3A%2F%2Fwww.spec-india.com%2Ftech-in-200-words%2Fwhat-is-machine-learning&tbnid=O7I__0d8vQb_NM&vet=12ahUKEwjD-v_y-YzvAhWOGysKHXTIBCkQMygAegUIARCeAQ..i&docid=UrdN5NrinEtY-M&w=800&h=440&q=Machine_learning&ved=2ahUKEwjD-v_y-YzvAhWOGysKHXTIBCkQMygAegUIARCeAQ\n",
      "https://www.google.com/imgres?imgurl=https%3A%2F%2Fwww.spec-india.com%2Fwp-content%2Fuploads%2F2020%2F04%2Fmachine_learning.png&imgrefurl=https%3A%2F%2Fwww.spec-india.com%2Ftech-in-200-words%2Fwhat-is-machine-learning&tbnid=O7I__0d8vQb_NM&vet=12ahUKEwjD-v_y-YzvAhWOGysKHXTIBCkQMygAegUIARCeAQ..i&docid=UrdN5NrinEtY-M&w=800&h=440&q=Machine_learning&ved=2ahUKEwjD-v_y-YzvAhWOGysKHXTIBCkQMygAegUIARCeAQ\n",
      "https://www.google.com/imgres?imgurl=https%3A%2F%2Fwww.spec-india.com%2Fwp-content%2Fuploads%2F2020%2F04%2Fmachine_learning.png&imgrefurl=https%3A%2F%2Fwww.spec-india.com%2Ftech-in-200-words%2Fwhat-is-machine-learning&tbnid=O7I__0d8vQb_NM&vet=12ahUKEwjD-v_y-YzvAhWOGysKHXTIBCkQMygAegUIARCeAQ..i&docid=UrdN5NrinEtY-M&w=800&h=440&q=Machine_learning&ved=2ahUKEwjD-v_y-YzvAhWOGysKHXTIBCkQMygAegUIARCeAQ\n",
      "https://www.google.com/imgres?imgurl=https%3A%2F%2Fwww.spec-india.com%2Fwp-content%2Fuploads%2F2020%2F04%2Fmachine_learning.png&imgrefurl=https%3A%2F%2Fwww.spec-india.com%2Ftech-in-200-words%2Fwhat-is-machine-learning&tbnid=O7I__0d8vQb_NM&vet=12ahUKEwjD-v_y-YzvAhWOGysKHXTIBCkQMygAegUIARCeAQ..i&docid=UrdN5NrinEtY-M&w=800&h=440&q=Machine_learning&ved=2ahUKEwjD-v_y-YzvAhWOGysKHXTIBCkQMygAegUIARCeAQ\n",
      "https://www.google.com/imgres?imgurl=https%3A%2F%2Fwww.spec-india.com%2Fwp-content%2Fuploads%2F2020%2F04%2Fmachine_learning.png&imgrefurl=https%3A%2F%2Fwww.spec-india.com%2Ftech-in-200-words%2Fwhat-is-machine-learning&tbnid=O7I__0d8vQb_NM&vet=12ahUKEwjD-v_y-YzvAhWOGysKHXTIBCkQMygAegUIARCeAQ..i&docid=UrdN5NrinEtY-M&w=800&h=440&q=Machine_learning&ved=2ahUKEwjD-v_y-YzvAhWOGysKHXTIBCkQMygAegUIARCeAQ\n",
      "https://www.google.com/imgres?imgurl=https%3A%2F%2Fwww.spec-india.com%2Fwp-content%2Fuploads%2F2020%2F04%2Fmachine_learning.png&imgrefurl=https%3A%2F%2Fwww.spec-india.com%2Ftech-in-200-words%2Fwhat-is-machine-learning&tbnid=O7I__0d8vQb_NM&vet=12ahUKEwjD-v_y-YzvAhWOGysKHXTIBCkQMygAegUIARCeAQ..i&docid=UrdN5NrinEtY-M&w=800&h=440&q=Machine_learning&ved=2ahUKEwjD-v_y-YzvAhWOGysKHXTIBCkQMygAegUIARCeAQ\n",
      "https://www.google.com/imgres?imgurl=https%3A%2F%2Fwww.spec-india.com%2Fwp-content%2Fuploads%2F2020%2F04%2Fmachine_learning.png&imgrefurl=https%3A%2F%2Fwww.spec-india.com%2Ftech-in-200-words%2Fwhat-is-machine-learning&tbnid=O7I__0d8vQb_NM&vet=12ahUKEwjD-v_y-YzvAhWOGysKHXTIBCkQMygAegUIARCeAQ..i&docid=UrdN5NrinEtY-M&w=800&h=440&q=Machine_learning&ved=2ahUKEwjD-v_y-YzvAhWOGysKHXTIBCkQMygAegUIARCeAQ\n",
      "https://www.google.com/imgres?imgurl=https%3A%2F%2Fwww.spec-india.com%2Fwp-content%2Fuploads%2F2020%2F04%2Fmachine_learning.png&imgrefurl=https%3A%2F%2Fwww.spec-india.com%2Ftech-in-200-words%2Fwhat-is-machine-learning&tbnid=O7I__0d8vQb_NM&vet=12ahUKEwjD-v_y-YzvAhWOGysKHXTIBCkQMygAegUIARCeAQ..i&docid=UrdN5NrinEtY-M&w=800&h=440&q=Machine_learning&ved=2ahUKEwjD-v_y-YzvAhWOGysKHXTIBCkQMygAegUIARCeAQ\n",
      "https://www.google.com/imgres?imgurl=https%3A%2F%2Fwww.spec-india.com%2Fwp-content%2Fuploads%2F2020%2F04%2Fmachine_learning.png&imgrefurl=https%3A%2F%2Fwww.spec-india.com%2Ftech-in-200-words%2Fwhat-is-machine-learning&tbnid=O7I__0d8vQb_NM&vet=12ahUKEwjD-v_y-YzvAhWOGysKHXTIBCkQMygAegUIARCeAQ..i&docid=UrdN5NrinEtY-M&w=800&h=440&q=Machine_learning&ved=2ahUKEwjD-v_y-YzvAhWOGysKHXTIBCkQMygAegUIARCeAQ\n",
      "https://www.google.com/imgres?imgurl=https%3A%2F%2Fwww.spec-india.com%2Fwp-content%2Fuploads%2F2020%2F04%2Fmachine_learning.png&imgrefurl=https%3A%2F%2Fwww.spec-india.com%2Ftech-in-200-words%2Fwhat-is-machine-learning&tbnid=O7I__0d8vQb_NM&vet=12ahUKEwjD-v_y-YzvAhWOGysKHXTIBCkQMygAegUIARCeAQ..i&docid=UrdN5NrinEtY-M&w=800&h=440&q=Machine_learning&ved=2ahUKEwjD-v_y-YzvAhWOGysKHXTIBCkQMygAegUIARCeAQ\n",
      "https://www.google.com/imgres?imgurl=https%3A%2F%2Fwww.spec-india.com%2Fwp-content%2Fuploads%2F2020%2F04%2Fmachine_learning.png&imgrefurl=https%3A%2F%2Fwww.spec-india.com%2Ftech-in-200-words%2Fwhat-is-machine-learning&tbnid=O7I__0d8vQb_NM&vet=12ahUKEwjD-v_y-YzvAhWOGysKHXTIBCkQMygAegUIARCeAQ..i&docid=UrdN5NrinEtY-M&w=800&h=440&q=Machine_learning&ved=2ahUKEwjD-v_y-YzvAhWOGysKHXTIBCkQMygAegUIARCeAQ\n",
      "https://www.google.com/imgres?imgurl=https%3A%2F%2Fwww.spec-india.com%2Fwp-content%2Fuploads%2F2020%2F04%2Fmachine_learning.png&imgrefurl=https%3A%2F%2Fwww.spec-india.com%2Ftech-in-200-words%2Fwhat-is-machine-learning&tbnid=O7I__0d8vQb_NM&vet=12ahUKEwjD-v_y-YzvAhWOGysKHXTIBCkQMygAegUIARCeAQ..i&docid=UrdN5NrinEtY-M&w=800&h=440&q=Machine_learning&ved=2ahUKEwjD-v_y-YzvAhWOGysKHXTIBCkQMygAegUIARCeAQ\n",
      "https://www.google.com/imgres?imgurl=https%3A%2F%2Fwww.spec-india.com%2Fwp-content%2Fuploads%2F2020%2F04%2Fmachine_learning.png&imgrefurl=https%3A%2F%2Fwww.spec-india.com%2Ftech-in-200-words%2Fwhat-is-machine-learning&tbnid=O7I__0d8vQb_NM&vet=12ahUKEwjD-v_y-YzvAhWOGysKHXTIBCkQMygAegUIARCeAQ..i&docid=UrdN5NrinEtY-M&w=800&h=440&q=Machine_learning&ved=2ahUKEwjD-v_y-YzvAhWOGysKHXTIBCkQMygAegUIARCeAQ\n",
      "https://www.google.com/imgres?imgurl=https%3A%2F%2Fwww.spec-india.com%2Fwp-content%2Fuploads%2F2020%2F04%2Fmachine_learning.png&imgrefurl=https%3A%2F%2Fwww.spec-india.com%2Ftech-in-200-words%2Fwhat-is-machine-learning&tbnid=O7I__0d8vQb_NM&vet=12ahUKEwjD-v_y-YzvAhWOGysKHXTIBCkQMygAegUIARCeAQ..i&docid=UrdN5NrinEtY-M&w=800&h=440&q=Machine_learning&ved=2ahUKEwjD-v_y-YzvAhWOGysKHXTIBCkQMygAegUIARCeAQ\n",
      "https://www.google.com/imgres?imgurl=https%3A%2F%2Fwww.spec-india.com%2Fwp-content%2Fuploads%2F2020%2F04%2Fmachine_learning.png&imgrefurl=https%3A%2F%2Fwww.spec-india.com%2Ftech-in-200-words%2Fwhat-is-machine-learning&tbnid=O7I__0d8vQb_NM&vet=12ahUKEwjD-v_y-YzvAhWOGysKHXTIBCkQMygAegUIARCeAQ..i&docid=UrdN5NrinEtY-M&w=800&h=440&q=Machine_learning&ved=2ahUKEwjD-v_y-YzvAhWOGysKHXTIBCkQMygAegUIARCeAQ\n",
      "https://www.google.com/imgres?imgurl=https%3A%2F%2Fwww.spec-india.com%2Fwp-content%2Fuploads%2F2020%2F04%2Fmachine_learning.png&imgrefurl=https%3A%2F%2Fwww.spec-india.com%2Ftech-in-200-words%2Fwhat-is-machine-learning&tbnid=O7I__0d8vQb_NM&vet=12ahUKEwjD-v_y-YzvAhWOGysKHXTIBCkQMygAegUIARCeAQ..i&docid=UrdN5NrinEtY-M&w=800&h=440&q=Machine_learning&ved=2ahUKEwjD-v_y-YzvAhWOGysKHXTIBCkQMygAegUIARCeAQ\n",
      "https://www.google.com/imgres?imgurl=https%3A%2F%2Fwww.spec-india.com%2Fwp-content%2Fuploads%2F2020%2F04%2Fmachine_learning.png&imgrefurl=https%3A%2F%2Fwww.spec-india.com%2Ftech-in-200-words%2Fwhat-is-machine-learning&tbnid=O7I__0d8vQb_NM&vet=12ahUKEwjD-v_y-YzvAhWOGysKHXTIBCkQMygAegUIARCeAQ..i&docid=UrdN5NrinEtY-M&w=800&h=440&q=Machine_learning&ved=2ahUKEwjD-v_y-YzvAhWOGysKHXTIBCkQMygAegUIARCeAQ\n",
      "https://www.google.com/imgres?imgurl=https%3A%2F%2Fwww.spec-india.com%2Fwp-content%2Fuploads%2F2020%2F04%2Fmachine_learning.png&imgrefurl=https%3A%2F%2Fwww.spec-india.com%2Ftech-in-200-words%2Fwhat-is-machine-learning&tbnid=O7I__0d8vQb_NM&vet=12ahUKEwjD-v_y-YzvAhWOGysKHXTIBCkQMygAegUIARCeAQ..i&docid=UrdN5NrinEtY-M&w=800&h=440&q=Machine_learning&ved=2ahUKEwjD-v_y-YzvAhWOGysKHXTIBCkQMygAegUIARCeAQ\n",
      "https://www.google.com/imgres?imgurl=https%3A%2F%2Fwww.spec-india.com%2Fwp-content%2Fuploads%2F2020%2F04%2Fmachine_learning.png&imgrefurl=https%3A%2F%2Fwww.spec-india.com%2Ftech-in-200-words%2Fwhat-is-machine-learning&tbnid=O7I__0d8vQb_NM&vet=12ahUKEwjD-v_y-YzvAhWOGysKHXTIBCkQMygAegUIARCeAQ..i&docid=UrdN5NrinEtY-M&w=800&h=440&q=Machine_learning&ved=2ahUKEwjD-v_y-YzvAhWOGysKHXTIBCkQMygAegUIARCeAQ\n",
      "https://www.google.com/imgres?imgurl=https%3A%2F%2Fwww.spec-india.com%2Fwp-content%2Fuploads%2F2020%2F04%2Fmachine_learning.png&imgrefurl=https%3A%2F%2Fwww.spec-india.com%2Ftech-in-200-words%2Fwhat-is-machine-learning&tbnid=O7I__0d8vQb_NM&vet=12ahUKEwjD-v_y-YzvAhWOGysKHXTIBCkQMygAegUIARCeAQ..i&docid=UrdN5NrinEtY-M&w=800&h=440&q=Machine_learning&ved=2ahUKEwjD-v_y-YzvAhWOGysKHXTIBCkQMygAegUIARCeAQ\n",
      "https://www.google.com/imgres?imgurl=https%3A%2F%2Fwww.spec-india.com%2Fwp-content%2Fuploads%2F2020%2F04%2Fmachine_learning.png&imgrefurl=https%3A%2F%2Fwww.spec-india.com%2Ftech-in-200-words%2Fwhat-is-machine-learning&tbnid=O7I__0d8vQb_NM&vet=12ahUKEwjD-v_y-YzvAhWOGysKHXTIBCkQMygAegUIARCeAQ..i&docid=UrdN5NrinEtY-M&w=800&h=440&q=Machine_learning&ved=2ahUKEwjD-v_y-YzvAhWOGysKHXTIBCkQMygAegUIARCeAQ\n",
      "https://www.google.com/imgres?imgurl=https%3A%2F%2Fwww.spec-india.com%2Fwp-content%2Fuploads%2F2020%2F04%2Fmachine_learning.png&imgrefurl=https%3A%2F%2Fwww.spec-india.com%2Ftech-in-200-words%2Fwhat-is-machine-learning&tbnid=O7I__0d8vQb_NM&vet=12ahUKEwjD-v_y-YzvAhWOGysKHXTIBCkQMygAegUIARCeAQ..i&docid=UrdN5NrinEtY-M&w=800&h=440&q=Machine_learning&ved=2ahUKEwjD-v_y-YzvAhWOGysKHXTIBCkQMygAegUIARCeAQ\n",
      "https://www.google.com/imgres?imgurl=https%3A%2F%2Fwww.spec-india.com%2Fwp-content%2Fuploads%2F2020%2F04%2Fmachine_learning.png&imgrefurl=https%3A%2F%2Fwww.spec-india.com%2Ftech-in-200-words%2Fwhat-is-machine-learning&tbnid=O7I__0d8vQb_NM&vet=12ahUKEwjD-v_y-YzvAhWOGysKHXTIBCkQMygAegUIARCeAQ..i&docid=UrdN5NrinEtY-M&w=800&h=440&q=Machine_learning&ved=2ahUKEwjD-v_y-YzvAhWOGysKHXTIBCkQMygAegUIARCeAQ\n",
      "https://www.google.com/imgres?imgurl=https%3A%2F%2Fwww.spec-india.com%2Fwp-content%2Fuploads%2F2020%2F04%2Fmachine_learning.png&imgrefurl=https%3A%2F%2Fwww.spec-india.com%2Ftech-in-200-words%2Fwhat-is-machine-learning&tbnid=O7I__0d8vQb_NM&vet=12ahUKEwjD-v_y-YzvAhWOGysKHXTIBCkQMygAegUIARCeAQ..i&docid=UrdN5NrinEtY-M&w=800&h=440&q=Machine_learning&ved=2ahUKEwjD-v_y-YzvAhWOGysKHXTIBCkQMygAegUIARCeAQ\n",
      "https://www.google.com/imgres?imgurl=https%3A%2F%2Fwww.spec-india.com%2Fwp-content%2Fuploads%2F2020%2F04%2Fmachine_learning.png&imgrefurl=https%3A%2F%2Fwww.spec-india.com%2Ftech-in-200-words%2Fwhat-is-machine-learning&tbnid=O7I__0d8vQb_NM&vet=12ahUKEwjD-v_y-YzvAhWOGysKHXTIBCkQMygAegUIARCeAQ..i&docid=UrdN5NrinEtY-M&w=800&h=440&q=Machine_learning&ved=2ahUKEwjD-v_y-YzvAhWOGysKHXTIBCkQMygAegUIARCeAQ\n",
      "https://www.google.com/imgres?imgurl=https%3A%2F%2Fwww.spec-india.com%2Fwp-content%2Fuploads%2F2020%2F04%2Fmachine_learning.png&imgrefurl=https%3A%2F%2Fwww.spec-india.com%2Ftech-in-200-words%2Fwhat-is-machine-learning&tbnid=O7I__0d8vQb_NM&vet=12ahUKEwjD-v_y-YzvAhWOGysKHXTIBCkQMygAegUIARCeAQ..i&docid=UrdN5NrinEtY-M&w=800&h=440&q=Machine_learning&ved=2ahUKEwjD-v_y-YzvAhWOGysKHXTIBCkQMygAegUIARCeAQ\n",
      "https://www.google.com/imgres?imgurl=https%3A%2F%2Fwww.spec-india.com%2Fwp-content%2Fuploads%2F2020%2F04%2Fmachine_learning.png&imgrefurl=https%3A%2F%2Fwww.spec-india.com%2Ftech-in-200-words%2Fwhat-is-machine-learning&tbnid=O7I__0d8vQb_NM&vet=12ahUKEwjD-v_y-YzvAhWOGysKHXTIBCkQMygAegUIARCeAQ..i&docid=UrdN5NrinEtY-M&w=800&h=440&q=Machine_learning&ved=2ahUKEwjD-v_y-YzvAhWOGysKHXTIBCkQMygAegUIARCeAQ\n",
      "https://www.google.com/imgres?imgurl=https%3A%2F%2Fwww.spec-india.com%2Fwp-content%2Fuploads%2F2020%2F04%2Fmachine_learning.png&imgrefurl=https%3A%2F%2Fwww.spec-india.com%2Ftech-in-200-words%2Fwhat-is-machine-learning&tbnid=O7I__0d8vQb_NM&vet=12ahUKEwjD-v_y-YzvAhWOGysKHXTIBCkQMygAegUIARCeAQ..i&docid=UrdN5NrinEtY-M&w=800&h=440&q=Machine_learning&ved=2ahUKEwjD-v_y-YzvAhWOGysKHXTIBCkQMygAegUIARCeAQ\n",
      "https://www.google.com/imgres?imgurl=https%3A%2F%2Fwww.spec-india.com%2Fwp-content%2Fuploads%2F2020%2F04%2Fmachine_learning.png&imgrefurl=https%3A%2F%2Fwww.spec-india.com%2Ftech-in-200-words%2Fwhat-is-machine-learning&tbnid=O7I__0d8vQb_NM&vet=12ahUKEwjD-v_y-YzvAhWOGysKHXTIBCkQMygAegUIARCeAQ..i&docid=UrdN5NrinEtY-M&w=800&h=440&q=Machine_learning&ved=2ahUKEwjD-v_y-YzvAhWOGysKHXTIBCkQMygAegUIARCeAQ\n",
      "https://www.google.com/imgres?imgurl=https%3A%2F%2Fwww.spec-india.com%2Fwp-content%2Fuploads%2F2020%2F04%2Fmachine_learning.png&imgrefurl=https%3A%2F%2Fwww.spec-india.com%2Ftech-in-200-words%2Fwhat-is-machine-learning&tbnid=O7I__0d8vQb_NM&vet=12ahUKEwjD-v_y-YzvAhWOGysKHXTIBCkQMygAegUIARCeAQ..i&docid=UrdN5NrinEtY-M&w=800&h=440&q=Machine_learning&ved=2ahUKEwjD-v_y-YzvAhWOGysKHXTIBCkQMygAegUIARCeAQ\n",
      "https://www.google.com/imgres?imgurl=https%3A%2F%2Fwww.spec-india.com%2Fwp-content%2Fuploads%2F2020%2F04%2Fmachine_learning.png&imgrefurl=https%3A%2F%2Fwww.spec-india.com%2Ftech-in-200-words%2Fwhat-is-machine-learning&tbnid=O7I__0d8vQb_NM&vet=12ahUKEwjD-v_y-YzvAhWOGysKHXTIBCkQMygAegUIARCeAQ..i&docid=UrdN5NrinEtY-M&w=800&h=440&q=Machine_learning&ved=2ahUKEwjD-v_y-YzvAhWOGysKHXTIBCkQMygAegUIARCeAQ\n",
      "https://www.google.com/imgres?imgurl=https%3A%2F%2Fwww.spec-india.com%2Fwp-content%2Fuploads%2F2020%2F04%2Fmachine_learning.png&imgrefurl=https%3A%2F%2Fwww.spec-india.com%2Ftech-in-200-words%2Fwhat-is-machine-learning&tbnid=O7I__0d8vQb_NM&vet=12ahUKEwjD-v_y-YzvAhWOGysKHXTIBCkQMygAegUIARCeAQ..i&docid=UrdN5NrinEtY-M&w=800&h=440&q=Machine_learning&ved=2ahUKEwjD-v_y-YzvAhWOGysKHXTIBCkQMygAegUIARCeAQ\n",
      "https://www.google.com/imgres?imgurl=https%3A%2F%2Fwww.spec-india.com%2Fwp-content%2Fuploads%2F2020%2F04%2Fmachine_learning.png&imgrefurl=https%3A%2F%2Fwww.spec-india.com%2Ftech-in-200-words%2Fwhat-is-machine-learning&tbnid=O7I__0d8vQb_NM&vet=12ahUKEwjD-v_y-YzvAhWOGysKHXTIBCkQMygAegUIARCeAQ..i&docid=UrdN5NrinEtY-M&w=800&h=440&q=Machine_learning&ved=2ahUKEwjD-v_y-YzvAhWOGysKHXTIBCkQMygAegUIARCeAQ\n",
      "https://www.google.com/imgres?imgurl=https%3A%2F%2Fwww.spec-india.com%2Fwp-content%2Fuploads%2F2020%2F04%2Fmachine_learning.png&imgrefurl=https%3A%2F%2Fwww.spec-india.com%2Ftech-in-200-words%2Fwhat-is-machine-learning&tbnid=O7I__0d8vQb_NM&vet=12ahUKEwjD-v_y-YzvAhWOGysKHXTIBCkQMygAegUIARCeAQ..i&docid=UrdN5NrinEtY-M&w=800&h=440&q=Machine_learning&ved=2ahUKEwjD-v_y-YzvAhWOGysKHXTIBCkQMygAegUIARCeAQ\n",
      "https://www.google.com/imgres?imgurl=https%3A%2F%2Fwww.spec-india.com%2Fwp-content%2Fuploads%2F2020%2F04%2Fmachine_learning.png&imgrefurl=https%3A%2F%2Fwww.spec-india.com%2Ftech-in-200-words%2Fwhat-is-machine-learning&tbnid=O7I__0d8vQb_NM&vet=12ahUKEwjD-v_y-YzvAhWOGysKHXTIBCkQMygAegUIARCeAQ..i&docid=UrdN5NrinEtY-M&w=800&h=440&q=Machine_learning&ved=2ahUKEwjD-v_y-YzvAhWOGysKHXTIBCkQMygAegUIARCeAQ\n",
      "https://www.google.com/imgres?imgurl=https%3A%2F%2Fwww.spec-india.com%2Fwp-content%2Fuploads%2F2020%2F04%2Fmachine_learning.png&imgrefurl=https%3A%2F%2Fwww.spec-india.com%2Ftech-in-200-words%2Fwhat-is-machine-learning&tbnid=O7I__0d8vQb_NM&vet=12ahUKEwjD-v_y-YzvAhWOGysKHXTIBCkQMygAegUIARCeAQ..i&docid=UrdN5NrinEtY-M&w=800&h=440&q=Machine_learning&ved=2ahUKEwjD-v_y-YzvAhWOGysKHXTIBCkQMygAegUIARCeAQ\n",
      "https://www.google.com/imgres?imgurl=https%3A%2F%2Fwww.spec-india.com%2Fwp-content%2Fuploads%2F2020%2F04%2Fmachine_learning.png&imgrefurl=https%3A%2F%2Fwww.spec-india.com%2Ftech-in-200-words%2Fwhat-is-machine-learning&tbnid=O7I__0d8vQb_NM&vet=12ahUKEwjD-v_y-YzvAhWOGysKHXTIBCkQMygAegUIARCeAQ..i&docid=UrdN5NrinEtY-M&w=800&h=440&q=Machine_learning&ved=2ahUKEwjD-v_y-YzvAhWOGysKHXTIBCkQMygAegUIARCeAQ\n",
      "https://www.google.com/imgres?imgurl=https%3A%2F%2Fwww.spec-india.com%2Fwp-content%2Fuploads%2F2020%2F04%2Fmachine_learning.png&imgrefurl=https%3A%2F%2Fwww.spec-india.com%2Ftech-in-200-words%2Fwhat-is-machine-learning&tbnid=O7I__0d8vQb_NM&vet=12ahUKEwjD-v_y-YzvAhWOGysKHXTIBCkQMygAegUIARCeAQ..i&docid=UrdN5NrinEtY-M&w=800&h=440&q=Machine_learning&ved=2ahUKEwjD-v_y-YzvAhWOGysKHXTIBCkQMygAegUIARCeAQ\n",
      "https://www.google.com/imgres?imgurl=https%3A%2F%2Fwww.spec-india.com%2Fwp-content%2Fuploads%2F2020%2F04%2Fmachine_learning.png&imgrefurl=https%3A%2F%2Fwww.spec-india.com%2Ftech-in-200-words%2Fwhat-is-machine-learning&tbnid=O7I__0d8vQb_NM&vet=12ahUKEwjD-v_y-YzvAhWOGysKHXTIBCkQMygAegUIARCeAQ..i&docid=UrdN5NrinEtY-M&w=800&h=440&q=Machine_learning&ved=2ahUKEwjD-v_y-YzvAhWOGysKHXTIBCkQMygAegUIARCeAQ\n",
      "https://www.google.com/imgres?imgurl=https%3A%2F%2Fwww.spec-india.com%2Fwp-content%2Fuploads%2F2020%2F04%2Fmachine_learning.png&imgrefurl=https%3A%2F%2Fwww.spec-india.com%2Ftech-in-200-words%2Fwhat-is-machine-learning&tbnid=O7I__0d8vQb_NM&vet=12ahUKEwjD-v_y-YzvAhWOGysKHXTIBCkQMygAegUIARCeAQ..i&docid=UrdN5NrinEtY-M&w=800&h=440&q=Machine_learning&ved=2ahUKEwjD-v_y-YzvAhWOGysKHXTIBCkQMygAegUIARCeAQ\n",
      "https://www.google.com/imgres?imgurl=https%3A%2F%2Fwww.spec-india.com%2Fwp-content%2Fuploads%2F2020%2F04%2Fmachine_learning.png&imgrefurl=https%3A%2F%2Fwww.spec-india.com%2Ftech-in-200-words%2Fwhat-is-machine-learning&tbnid=O7I__0d8vQb_NM&vet=12ahUKEwjD-v_y-YzvAhWOGysKHXTIBCkQMygAegUIARCeAQ..i&docid=UrdN5NrinEtY-M&w=800&h=440&q=Machine_learning&ved=2ahUKEwjD-v_y-YzvAhWOGysKHXTIBCkQMygAegUIARCeAQ\n",
      "https://www.google.com/imgres?imgurl=https%3A%2F%2Fwww.spec-india.com%2Fwp-content%2Fuploads%2F2020%2F04%2Fmachine_learning.png&imgrefurl=https%3A%2F%2Fwww.spec-india.com%2Ftech-in-200-words%2Fwhat-is-machine-learning&tbnid=O7I__0d8vQb_NM&vet=12ahUKEwjD-v_y-YzvAhWOGysKHXTIBCkQMygAegUIARCeAQ..i&docid=UrdN5NrinEtY-M&w=800&h=440&q=Machine_learning&ved=2ahUKEwjD-v_y-YzvAhWOGysKHXTIBCkQMygAegUIARCeAQ\n"
     ]
    }
   ],
   "source": [
    "for i in range(0,99):\n",
    "    print(driver.find_element_by_xpath(\"//*[@id='islrg']/div[1]/div[1]/a[1]\").get_attribute('href'))"
   ]
  },
  {
   "cell_type": "code",
   "execution_count": 40,
   "metadata": {},
   "outputs": [],
   "source": [
    "driver.close()"
   ]
  },
  {
   "cell_type": "code",
   "execution_count": 20,
   "metadata": {},
   "outputs": [],
   "source": [
    "#question 4"
   ]
  },
  {
   "cell_type": "code",
   "execution_count": 53,
   "metadata": {},
   "outputs": [],
   "source": [
    "import pandas as pd\n",
    "from bs4 import BeautifulSoup\n",
    "import requests\n",
    "import selenium\n",
    "from selenium import webdriver\n",
    "import time"
   ]
  },
  {
   "cell_type": "code",
   "execution_count": 54,
   "metadata": {},
   "outputs": [],
   "source": [
    "driver=webdriver.Chrome(\"Desktop/chromedriver.exe\")"
   ]
  },
  {
   "cell_type": "code",
   "execution_count": 55,
   "metadata": {},
   "outputs": [],
   "source": [
    "driver.get(\"https://www.flipkart.com/\")"
   ]
  },
  {
   "cell_type": "code",
   "execution_count": 56,
   "metadata": {},
   "outputs": [],
   "source": [
    "search_phone=driver.find_element_by_xpath(\"//*[@id='container']/div/div[1]/div[1]/div[2]/div[2]/form/div/div/input\")\n",
    "search_phone.send_keys(\"smartphone\")"
   ]
  },
  {
   "cell_type": "code",
   "execution_count": 58,
   "metadata": {},
   "outputs": [],
   "source": [
    "search_btn=driver.find_element_by_xpath(\"//button[@class='L0Z3Pu']\") \n",
    "search_btn.click()"
   ]
  },
  {
   "cell_type": "code",
   "execution_count": 59,
   "metadata": {},
   "outputs": [],
   "source": [
    "Brand_name=[]\n",
    "Smartphone_name_colour_RAM=[]\n",
    "RAM=[]\n",
    "ROM=[]\n",
    "Display_Size=[]\n",
    "Display_resolution=[]\n",
    "Primary_Camera=[]\n",
    "Secondary_Camera=[]\n",
    "Processor_Cores=[]\n",
    "Battery_Capacity=[] \n",
    "Price=[]\n",
    "Product_URL=[]"
   ]
  },
  {
   "cell_type": "code",
   "execution_count": 60,
   "metadata": {},
   "outputs": [
    {
     "data": {
      "text/plain": [
       "['Realm',\n",
       " 'Realm',\n",
       " 'POCO ',\n",
       " 'POCO ',\n",
       " 'POCO ',\n",
       " 'POCO ',\n",
       " 'Redmi',\n",
       " 'POCO ',\n",
       " 'POCO ']"
      ]
     },
     "execution_count": 60,
     "metadata": {},
     "output_type": "execute_result"
    }
   ],
   "source": [
    "brand_tag=driver.find_elements_by_xpath(\"//div[@class='_4rR01T']\")\n",
    "for i in brand_tag:\n",
    "    Brand_name.append(i.text[0:5])\n",
    "Brand_name[0:9]"
   ]
  },
  {
   "cell_type": "code",
   "execution_count": 61,
   "metadata": {},
   "outputs": [
    {
     "data": {
      "text/plain": [
       "['Realme C11 (Rich Grey, 32 GB)',\n",
       " 'Realme C11 (Rich Green, 32 GB)',\n",
       " 'POCO C3 (Arctic Blue, 32 GB)',\n",
       " 'POCO C3 (Matte Black, 32 GB)',\n",
       " 'POCO C3 (Lime Green, 64 GB)',\n",
       " 'POCO M3 (Cool Blue, 64 GB)',\n",
       " 'Redmi 9i (Midnight Black, 64 GB)',\n",
       " 'POCO M3 (Power Black, 64 GB)',\n",
       " 'POCO M2 Pro (Out of the Blue, 64 GB)']"
      ]
     },
     "execution_count": 61,
     "metadata": {},
     "output_type": "execute_result"
    }
   ],
   "source": [
    "smartphone_tag=driver.find_elements_by_xpath(\"//div[@class='_4rR01T']\")\n",
    "for i in smartphone_tag:\n",
    "    Smartphone_name_colour_RAM.append(i.text)\n",
    "Smartphone_name_colour_RAM[0:9]"
   ]
  },
  {
   "cell_type": "code",
   "execution_count": 62,
   "metadata": {},
   "outputs": [
    {
     "data": {
      "text/plain": [
       "['2 GB RAM',\n",
       " '2 GB RAM',\n",
       " '3 GB RAM',\n",
       " '3 GB RAM',\n",
       " '4 GB RAM',\n",
       " '6 GB RAM',\n",
       " '4 GB RAM',\n",
       " '6 GB RAM',\n",
       " '6 GB RAM']"
      ]
     },
     "execution_count": 62,
     "metadata": {},
     "output_type": "execute_result"
    }
   ],
   "source": [
    "titles_tag=driver.find_elements_by_xpath(\"//ul[@class='_1xgFaf']/li[1]\")\n",
    "for i in titles_tag:\n",
    "    RAM.append(i.text[0:8])\n",
    "RAM[0:9]"
   ]
  },
  {
   "cell_type": "code",
   "execution_count": 63,
   "metadata": {},
   "outputs": [
    {
     "data": {
      "text/plain": [
       "[' (6.5 inch',\n",
       " ' (6.5 inch',\n",
       " ' (6.53 inc',\n",
       " ' (6.53 inc',\n",
       " ' (6.53 inc',\n",
       " ' (6.53 inc',\n",
       " ' (6.53 inc',\n",
       " ' (6.53 inc',\n",
       " ' (6.67 inc']"
      ]
     },
     "execution_count": 63,
     "metadata": {},
     "output_type": "execute_result"
    }
   ],
   "source": [
    "ROM_tag=driver.find_elements_by_xpath(\"//ul[@class='_1xgFaf']/li[2]\")\n",
    "for i in ROM_tag:\n",
    "    ROM.append(i.text[8:18])\n",
    "ROM[0:9]"
   ]
  },
  {
   "cell_type": "code",
   "execution_count": 64,
   "metadata": {},
   "outputs": [
    {
     "data": {
      "text/plain": [
       "['16.51 cm',\n",
       " '16.51 cm',\n",
       " '16.59 cm',\n",
       " '16.59 cm',\n",
       " '16.59 cm',\n",
       " '16.59 cm',\n",
       " '16.59 cm',\n",
       " '16.59 cm',\n",
       " '16.94 cm']"
      ]
     },
     "execution_count": 64,
     "metadata": {},
     "output_type": "execute_result"
    }
   ],
   "source": [
    "display_tag=driver.find_elements_by_xpath(\"//ul[@class='_1xgFaf']/li[2]\")\n",
    "for i in display_tag:\n",
    "    Display_Size.append(i.text[0:8])\n",
    "Display_Size[0:9]"
   ]
  },
  {
   "cell_type": "code",
   "execution_count": 65,
   "metadata": {},
   "outputs": [
    {
     "data": {
      "text/plain": [
       "[' HD+ Displa',\n",
       " ' HD+ Displa',\n",
       " ' HD+ Displa',\n",
       " ' HD+ Displa',\n",
       " ' HD+ Displa',\n",
       " ' HD+ Displa',\n",
       " ' HD+ Displa',\n",
       " ' HD+ Displa',\n",
       " ' HD+ Displa']"
      ]
     },
     "execution_count": 65,
     "metadata": {},
     "output_type": "execute_result"
    }
   ],
   "source": [
    "displayre_tag=driver.find_elements_by_xpath(\"//ul[@class='_1xgFaf']/li[2]\")\n",
    "for i in displayre_tag:\n",
    "    Display_resolution.append(i.text[-12:-1])\n",
    "Display_resolution[0:9]"
   ]
  },
  {
   "cell_type": "code",
   "execution_count": 66,
   "metadata": {},
   "outputs": [
    {
     "data": {
      "text/plain": [
       "['13MP + 2MP | 5MP F',\n",
       " '13MP + 2MP | 5MP F',\n",
       " '13MP + 2MP + 2MP |',\n",
       " '13MP + 2MP + 2MP |',\n",
       " '13MP + 2MP + 2MP |',\n",
       " '48MP + 2MP + 2MP |',\n",
       " '13MP Rear Camera |',\n",
       " '48MP + 2MP + 2MP |',\n",
       " '48MP + 8MP + 5MP +']"
      ]
     },
     "execution_count": 66,
     "metadata": {},
     "output_type": "execute_result"
    }
   ],
   "source": [
    "primary_tag=driver.find_elements_by_xpath(\"//ul[@class='_1xgFaf']/li[3]\")\n",
    "for i in primary_tag:\n",
    "    Primary_Camera.append(i.text[0:18])\n",
    "Primary_Camera[0:9]"
   ]
  },
  {
   "cell_type": "code",
   "execution_count": 67,
   "metadata": {},
   "outputs": [
    {
     "data": {
      "text/plain": [
       "['MP Front Camera',\n",
       " 'MP Front Camera',\n",
       " 'MP | 5MP Front Camer',\n",
       " 'MP | 5MP Front Camer',\n",
       " 'MP | 5MP Front Camer',\n",
       " 'MP | 8MP Front Camer',\n",
       " 'ra | 5MP Front Camer',\n",
       " 'MP | 8MP Front Camer',\n",
       " 'MP + 2MP | 16MP Fron']"
      ]
     },
     "execution_count": 67,
     "metadata": {},
     "output_type": "execute_result"
    }
   ],
   "source": [
    "secondary_tag=driver.find_elements_by_xpath(\"//ul[@class='_1xgFaf']/li[3]\")\n",
    "for i in secondary_tag:\n",
    "    Secondary_Camera.append(i.text[14:34])\n",
    "Secondary_Camera[0:9]"
   ]
  },
  {
   "cell_type": "code",
   "execution_count": 68,
   "metadata": {},
   "outputs": [
    {
     "data": {
      "text/plain": [
       "['Mediatek Helio G35 Processor',\n",
       " 'Mediatek Helio G35 Processor',\n",
       " 'Mediatek Helio G35 Processor',\n",
       " 'Mediatek Helio G35 Processor',\n",
       " 'Mediatek Helio G35 Processor',\n",
       " 'Qualcomm Snapdragon 662 Processor',\n",
       " 'MediaTek Helio G25 Processor',\n",
       " 'Qualcomm Snapdragon 662 Processor',\n",
       " 'Qualcomm Snapdragon 720G Processor']"
      ]
     },
     "execution_count": 68,
     "metadata": {},
     "output_type": "execute_result"
    }
   ],
   "source": [
    "processor_tag=driver.find_elements_by_xpath(\"//ul[@class='_1xgFaf']/li[5]\")\n",
    "for i in processor_tag:\n",
    "    Processor_Cores.append(i.text)\n",
    "Processor_Cores[0:9]"
   ]
  },
  {
   "cell_type": "code",
   "execution_count": 69,
   "metadata": {},
   "outputs": [
    {
     "data": {
      "text/plain": [
       "['5000 mAh Battery',\n",
       " '5000 mAh Battery',\n",
       " '5000 mAh Li-ion Polymer Battery',\n",
       " '5000 mAh Li-ion Polymer Battery',\n",
       " '5000 mAh Li-ion Polymer Battery',\n",
       " '6000 mAh Lithium-ion Polymer Battery',\n",
       " '5000 mAh Lithium Polymer Battery',\n",
       " '6000 mAh Lithium-ion Polymer Battery',\n",
       " '5000 mAh Lithium-ion Polymer Battery']"
      ]
     },
     "execution_count": 69,
     "metadata": {},
     "output_type": "execute_result"
    }
   ],
   "source": [
    "battery_tag=driver.find_elements_by_xpath(\"//ul[@class='_1xgFaf']/li[4]\")\n",
    "for i in battery_tag:\n",
    "    Battery_Capacity.append(i.text)\n",
    "Battery_Capacity[0:9]"
   ]
  },
  {
   "cell_type": "code",
   "execution_count": 70,
   "metadata": {},
   "outputs": [
    {
     "data": {
      "text/plain": [
       "['₹6,999',\n",
       " '₹6,999',\n",
       " '₹6,999',\n",
       " '₹6,999',\n",
       " '₹7,999',\n",
       " '₹10,999',\n",
       " '₹7,999',\n",
       " '₹10,999',\n",
       " '₹12,999']"
      ]
     },
     "execution_count": 70,
     "metadata": {},
     "output_type": "execute_result"
    }
   ],
   "source": [
    "price_tag=driver.find_elements_by_xpath(\"//div[@class='_30jeq3 _1_WHN1']\")\n",
    "for i in price_tag:\n",
    "    Price.append(i.text)\n",
    "Price[0:9]"
   ]
  },
  {
   "cell_type": "code",
   "execution_count": 71,
   "metadata": {},
   "outputs": [
    {
     "name": "stdout",
     "output_type": "stream",
     "text": [
      "['https://www.flipkart.com/realme-c11-rich-grey-32-gb/p/itm831d19fd9cdc4?pid=MOBFTAYBBVKFEGTZ&lid=LSTMOBFTAYBBVKFEGTZWDSL91&marketplace=FLIPKART&srno=s_1_1&otracker=search&otracker1=search&fm=SEARCH&iid=280fca56-b663-4964-99d3-a02e956b3528.MOBFTAYBBVKFEGTZ.SEARCH&ppt=hp&ppn=homepage&ssid=rtsag9ni400000001614529343783&qH=1036ba3c4ed2c021', 'https://www.flipkart.com/realme-c11-rich-grey-32-gb/p/itm831d19fd9cdc4?pid=MOBFTAYBBVKFEGTZ&lid=LSTMOBFTAYBBVKFEGTZWDSL91&marketplace=FLIPKART&srno=s_1_1&otracker=search&otracker1=search&fm=SEARCH&iid=280fca56-b663-4964-99d3-a02e956b3528.MOBFTAYBBVKFEGTZ.SEARCH&ppt=hp&ppn=homepage&ssid=rtsag9ni400000001614529343783&qH=1036ba3c4ed2c021', 'https://www.flipkart.com/realme-c11-rich-grey-32-gb/p/itm831d19fd9cdc4?pid=MOBFTAYBBVKFEGTZ&lid=LSTMOBFTAYBBVKFEGTZWDSL91&marketplace=FLIPKART&srno=s_1_1&otracker=search&otracker1=search&fm=SEARCH&iid=280fca56-b663-4964-99d3-a02e956b3528.MOBFTAYBBVKFEGTZ.SEARCH&ppt=hp&ppn=homepage&ssid=rtsag9ni400000001614529343783&qH=1036ba3c4ed2c021', 'https://www.flipkart.com/realme-c11-rich-grey-32-gb/p/itm831d19fd9cdc4?pid=MOBFTAYBBVKFEGTZ&lid=LSTMOBFTAYBBVKFEGTZWDSL91&marketplace=FLIPKART&srno=s_1_1&otracker=search&otracker1=search&fm=SEARCH&iid=280fca56-b663-4964-99d3-a02e956b3528.MOBFTAYBBVKFEGTZ.SEARCH&ppt=hp&ppn=homepage&ssid=rtsag9ni400000001614529343783&qH=1036ba3c4ed2c021', 'https://www.flipkart.com/realme-c11-rich-grey-32-gb/p/itm831d19fd9cdc4?pid=MOBFTAYBBVKFEGTZ&lid=LSTMOBFTAYBBVKFEGTZWDSL91&marketplace=FLIPKART&srno=s_1_1&otracker=search&otracker1=search&fm=SEARCH&iid=280fca56-b663-4964-99d3-a02e956b3528.MOBFTAYBBVKFEGTZ.SEARCH&ppt=hp&ppn=homepage&ssid=rtsag9ni400000001614529343783&qH=1036ba3c4ed2c021', 'https://www.flipkart.com/realme-c11-rich-grey-32-gb/p/itm831d19fd9cdc4?pid=MOBFTAYBBVKFEGTZ&lid=LSTMOBFTAYBBVKFEGTZWDSL91&marketplace=FLIPKART&srno=s_1_1&otracker=search&otracker1=search&fm=SEARCH&iid=280fca56-b663-4964-99d3-a02e956b3528.MOBFTAYBBVKFEGTZ.SEARCH&ppt=hp&ppn=homepage&ssid=rtsag9ni400000001614529343783&qH=1036ba3c4ed2c021', 'https://www.flipkart.com/realme-c11-rich-grey-32-gb/p/itm831d19fd9cdc4?pid=MOBFTAYBBVKFEGTZ&lid=LSTMOBFTAYBBVKFEGTZWDSL91&marketplace=FLIPKART&srno=s_1_1&otracker=search&otracker1=search&fm=SEARCH&iid=280fca56-b663-4964-99d3-a02e956b3528.MOBFTAYBBVKFEGTZ.SEARCH&ppt=hp&ppn=homepage&ssid=rtsag9ni400000001614529343783&qH=1036ba3c4ed2c021', 'https://www.flipkart.com/realme-c11-rich-grey-32-gb/p/itm831d19fd9cdc4?pid=MOBFTAYBBVKFEGTZ&lid=LSTMOBFTAYBBVKFEGTZWDSL91&marketplace=FLIPKART&srno=s_1_1&otracker=search&otracker1=search&fm=SEARCH&iid=280fca56-b663-4964-99d3-a02e956b3528.MOBFTAYBBVKFEGTZ.SEARCH&ppt=hp&ppn=homepage&ssid=rtsag9ni400000001614529343783&qH=1036ba3c4ed2c021', 'https://www.flipkart.com/realme-c11-rich-grey-32-gb/p/itm831d19fd9cdc4?pid=MOBFTAYBBVKFEGTZ&lid=LSTMOBFTAYBBVKFEGTZWDSL91&marketplace=FLIPKART&srno=s_1_1&otracker=search&otracker1=search&fm=SEARCH&iid=280fca56-b663-4964-99d3-a02e956b3528.MOBFTAYBBVKFEGTZ.SEARCH&ppt=hp&ppn=homepage&ssid=rtsag9ni400000001614529343783&qH=1036ba3c4ed2c021', 'https://www.flipkart.com/realme-c11-rich-grey-32-gb/p/itm831d19fd9cdc4?pid=MOBFTAYBBVKFEGTZ&lid=LSTMOBFTAYBBVKFEGTZWDSL91&marketplace=FLIPKART&srno=s_1_1&otracker=search&otracker1=search&fm=SEARCH&iid=280fca56-b663-4964-99d3-a02e956b3528.MOBFTAYBBVKFEGTZ.SEARCH&ppt=hp&ppn=homepage&ssid=rtsag9ni400000001614529343783&qH=1036ba3c4ed2c021', 'https://www.flipkart.com/realme-c11-rich-grey-32-gb/p/itm831d19fd9cdc4?pid=MOBFTAYBBVKFEGTZ&lid=LSTMOBFTAYBBVKFEGTZWDSL91&marketplace=FLIPKART&srno=s_1_1&otracker=search&otracker1=search&fm=SEARCH&iid=280fca56-b663-4964-99d3-a02e956b3528.MOBFTAYBBVKFEGTZ.SEARCH&ppt=hp&ppn=homepage&ssid=rtsag9ni400000001614529343783&qH=1036ba3c4ed2c021', 'https://www.flipkart.com/realme-c11-rich-grey-32-gb/p/itm831d19fd9cdc4?pid=MOBFTAYBBVKFEGTZ&lid=LSTMOBFTAYBBVKFEGTZWDSL91&marketplace=FLIPKART&srno=s_1_1&otracker=search&otracker1=search&fm=SEARCH&iid=280fca56-b663-4964-99d3-a02e956b3528.MOBFTAYBBVKFEGTZ.SEARCH&ppt=hp&ppn=homepage&ssid=rtsag9ni400000001614529343783&qH=1036ba3c4ed2c021', 'https://www.flipkart.com/realme-c11-rich-grey-32-gb/p/itm831d19fd9cdc4?pid=MOBFTAYBBVKFEGTZ&lid=LSTMOBFTAYBBVKFEGTZWDSL91&marketplace=FLIPKART&srno=s_1_1&otracker=search&otracker1=search&fm=SEARCH&iid=280fca56-b663-4964-99d3-a02e956b3528.MOBFTAYBBVKFEGTZ.SEARCH&ppt=hp&ppn=homepage&ssid=rtsag9ni400000001614529343783&qH=1036ba3c4ed2c021', 'https://www.flipkart.com/realme-c11-rich-grey-32-gb/p/itm831d19fd9cdc4?pid=MOBFTAYBBVKFEGTZ&lid=LSTMOBFTAYBBVKFEGTZWDSL91&marketplace=FLIPKART&srno=s_1_1&otracker=search&otracker1=search&fm=SEARCH&iid=280fca56-b663-4964-99d3-a02e956b3528.MOBFTAYBBVKFEGTZ.SEARCH&ppt=hp&ppn=homepage&ssid=rtsag9ni400000001614529343783&qH=1036ba3c4ed2c021', 'https://www.flipkart.com/realme-c11-rich-grey-32-gb/p/itm831d19fd9cdc4?pid=MOBFTAYBBVKFEGTZ&lid=LSTMOBFTAYBBVKFEGTZWDSL91&marketplace=FLIPKART&srno=s_1_1&otracker=search&otracker1=search&fm=SEARCH&iid=280fca56-b663-4964-99d3-a02e956b3528.MOBFTAYBBVKFEGTZ.SEARCH&ppt=hp&ppn=homepage&ssid=rtsag9ni400000001614529343783&qH=1036ba3c4ed2c021', 'https://www.flipkart.com/realme-c11-rich-grey-32-gb/p/itm831d19fd9cdc4?pid=MOBFTAYBBVKFEGTZ&lid=LSTMOBFTAYBBVKFEGTZWDSL91&marketplace=FLIPKART&srno=s_1_1&otracker=search&otracker1=search&fm=SEARCH&iid=280fca56-b663-4964-99d3-a02e956b3528.MOBFTAYBBVKFEGTZ.SEARCH&ppt=hp&ppn=homepage&ssid=rtsag9ni400000001614529343783&qH=1036ba3c4ed2c021', 'https://www.flipkart.com/realme-c11-rich-grey-32-gb/p/itm831d19fd9cdc4?pid=MOBFTAYBBVKFEGTZ&lid=LSTMOBFTAYBBVKFEGTZWDSL91&marketplace=FLIPKART&srno=s_1_1&otracker=search&otracker1=search&fm=SEARCH&iid=280fca56-b663-4964-99d3-a02e956b3528.MOBFTAYBBVKFEGTZ.SEARCH&ppt=hp&ppn=homepage&ssid=rtsag9ni400000001614529343783&qH=1036ba3c4ed2c021', 'https://www.flipkart.com/realme-c11-rich-grey-32-gb/p/itm831d19fd9cdc4?pid=MOBFTAYBBVKFEGTZ&lid=LSTMOBFTAYBBVKFEGTZWDSL91&marketplace=FLIPKART&srno=s_1_1&otracker=search&otracker1=search&fm=SEARCH&iid=280fca56-b663-4964-99d3-a02e956b3528.MOBFTAYBBVKFEGTZ.SEARCH&ppt=hp&ppn=homepage&ssid=rtsag9ni400000001614529343783&qH=1036ba3c4ed2c021', 'https://www.flipkart.com/realme-c11-rich-grey-32-gb/p/itm831d19fd9cdc4?pid=MOBFTAYBBVKFEGTZ&lid=LSTMOBFTAYBBVKFEGTZWDSL91&marketplace=FLIPKART&srno=s_1_1&otracker=search&otracker1=search&fm=SEARCH&iid=280fca56-b663-4964-99d3-a02e956b3528.MOBFTAYBBVKFEGTZ.SEARCH&ppt=hp&ppn=homepage&ssid=rtsag9ni400000001614529343783&qH=1036ba3c4ed2c021', 'https://www.flipkart.com/realme-c11-rich-grey-32-gb/p/itm831d19fd9cdc4?pid=MOBFTAYBBVKFEGTZ&lid=LSTMOBFTAYBBVKFEGTZWDSL91&marketplace=FLIPKART&srno=s_1_1&otracker=search&otracker1=search&fm=SEARCH&iid=280fca56-b663-4964-99d3-a02e956b3528.MOBFTAYBBVKFEGTZ.SEARCH&ppt=hp&ppn=homepage&ssid=rtsag9ni400000001614529343783&qH=1036ba3c4ed2c021', 'https://www.flipkart.com/realme-c11-rich-grey-32-gb/p/itm831d19fd9cdc4?pid=MOBFTAYBBVKFEGTZ&lid=LSTMOBFTAYBBVKFEGTZWDSL91&marketplace=FLIPKART&srno=s_1_1&otracker=search&otracker1=search&fm=SEARCH&iid=280fca56-b663-4964-99d3-a02e956b3528.MOBFTAYBBVKFEGTZ.SEARCH&ppt=hp&ppn=homepage&ssid=rtsag9ni400000001614529343783&qH=1036ba3c4ed2c021', 'https://www.flipkart.com/realme-c11-rich-grey-32-gb/p/itm831d19fd9cdc4?pid=MOBFTAYBBVKFEGTZ&lid=LSTMOBFTAYBBVKFEGTZWDSL91&marketplace=FLIPKART&srno=s_1_1&otracker=search&otracker1=search&fm=SEARCH&iid=280fca56-b663-4964-99d3-a02e956b3528.MOBFTAYBBVKFEGTZ.SEARCH&ppt=hp&ppn=homepage&ssid=rtsag9ni400000001614529343783&qH=1036ba3c4ed2c021', 'https://www.flipkart.com/realme-c11-rich-grey-32-gb/p/itm831d19fd9cdc4?pid=MOBFTAYBBVKFEGTZ&lid=LSTMOBFTAYBBVKFEGTZWDSL91&marketplace=FLIPKART&srno=s_1_1&otracker=search&otracker1=search&fm=SEARCH&iid=280fca56-b663-4964-99d3-a02e956b3528.MOBFTAYBBVKFEGTZ.SEARCH&ppt=hp&ppn=homepage&ssid=rtsag9ni400000001614529343783&qH=1036ba3c4ed2c021']\n"
     ]
    }
   ],
   "source": [
    "a=range(0,23)\n",
    "\n",
    "for i in a:\n",
    "    Product_URL.append(driver.find_element_by_xpath(\"//a[@class='_1fQZEK']\").get_attribute('href'))\n",
    "print(Product_URL)"
   ]
  },
  {
   "cell_type": "code",
   "execution_count": 72,
   "metadata": {},
   "outputs": [],
   "source": [
    "import pandas as pd\n",
    "flipkart_phones=pd.DataFrame()\n",
    "flipkart_phones['Brand_name']=Brand_name[0:9]\n",
    "flipkart_phones['Smartphone_name_colour_RAM']=Smartphone_name_colour_RAM[0:9]\n",
    "flipkart_phones['RAM']=RAM[0:9]\n",
    "flipkart_phones['ROM']=ROM[0:9]\n",
    "flipkart_phones['Display_Size']=Display_Size[0:9]\n",
    "flipkart_phones['Display_resolution']=Display_resolution[0:9]\n",
    "flipkart_phones['Primary_Camera']=Primary_Camera[0:9]\n",
    "flipkart_phones['Secondary_Camera']=Secondary_Camera[0:9]\n",
    "flipkart_phones['Processor_Cores']=Processor_Cores[0:9]\n",
    "flipkart_phones['Battery_Capacity']=Battery_Capacity[0:9]\n",
    "flipkart_phones['Price']=Price[0:9]\n",
    "flipkart_phones['Product_URL']=Product_URL[0:9]"
   ]
  },
  {
   "cell_type": "code",
   "execution_count": 74,
   "metadata": {},
   "outputs": [
    {
     "data": {
      "text/html": [
       "<div>\n",
       "<style scoped>\n",
       "    .dataframe tbody tr th:only-of-type {\n",
       "        vertical-align: middle;\n",
       "    }\n",
       "\n",
       "    .dataframe tbody tr th {\n",
       "        vertical-align: top;\n",
       "    }\n",
       "\n",
       "    .dataframe thead th {\n",
       "        text-align: right;\n",
       "    }\n",
       "</style>\n",
       "<table border=\"1\" class=\"dataframe\">\n",
       "  <thead>\n",
       "    <tr style=\"text-align: right;\">\n",
       "      <th></th>\n",
       "      <th>Brand_name</th>\n",
       "      <th>Smartphone_name_colour_RAM</th>\n",
       "      <th>RAM</th>\n",
       "      <th>ROM</th>\n",
       "      <th>Display_Size</th>\n",
       "      <th>Display_resolution</th>\n",
       "      <th>Primary_Camera</th>\n",
       "      <th>Secondary_Camera</th>\n",
       "      <th>Processor_Cores</th>\n",
       "      <th>Battery_Capacity</th>\n",
       "      <th>Price</th>\n",
       "      <th>Product_URL</th>\n",
       "    </tr>\n",
       "  </thead>\n",
       "  <tbody>\n",
       "    <tr>\n",
       "      <th>0</th>\n",
       "      <td>Realm</td>\n",
       "      <td>Realme C11 (Rich Grey, 32 GB)</td>\n",
       "      <td>2 GB RAM</td>\n",
       "      <td>(6.5 inch</td>\n",
       "      <td>16.51 cm</td>\n",
       "      <td>HD+ Displa</td>\n",
       "      <td>13MP + 2MP | 5MP F</td>\n",
       "      <td>MP Front Camera</td>\n",
       "      <td>Mediatek Helio G35 Processor</td>\n",
       "      <td>5000 mAh Battery</td>\n",
       "      <td>₹6,999</td>\n",
       "      <td>https://www.flipkart.com/realme-c11-rich-grey-...</td>\n",
       "    </tr>\n",
       "    <tr>\n",
       "      <th>1</th>\n",
       "      <td>Realm</td>\n",
       "      <td>Realme C11 (Rich Green, 32 GB)</td>\n",
       "      <td>2 GB RAM</td>\n",
       "      <td>(6.5 inch</td>\n",
       "      <td>16.51 cm</td>\n",
       "      <td>HD+ Displa</td>\n",
       "      <td>13MP + 2MP | 5MP F</td>\n",
       "      <td>MP Front Camera</td>\n",
       "      <td>Mediatek Helio G35 Processor</td>\n",
       "      <td>5000 mAh Battery</td>\n",
       "      <td>₹6,999</td>\n",
       "      <td>https://www.flipkart.com/realme-c11-rich-grey-...</td>\n",
       "    </tr>\n",
       "    <tr>\n",
       "      <th>2</th>\n",
       "      <td>POCO</td>\n",
       "      <td>POCO C3 (Arctic Blue, 32 GB)</td>\n",
       "      <td>3 GB RAM</td>\n",
       "      <td>(6.53 inc</td>\n",
       "      <td>16.59 cm</td>\n",
       "      <td>HD+ Displa</td>\n",
       "      <td>13MP + 2MP + 2MP |</td>\n",
       "      <td>MP | 5MP Front Camer</td>\n",
       "      <td>Mediatek Helio G35 Processor</td>\n",
       "      <td>5000 mAh Li-ion Polymer Battery</td>\n",
       "      <td>₹6,999</td>\n",
       "      <td>https://www.flipkart.com/realme-c11-rich-grey-...</td>\n",
       "    </tr>\n",
       "    <tr>\n",
       "      <th>3</th>\n",
       "      <td>POCO</td>\n",
       "      <td>POCO C3 (Matte Black, 32 GB)</td>\n",
       "      <td>3 GB RAM</td>\n",
       "      <td>(6.53 inc</td>\n",
       "      <td>16.59 cm</td>\n",
       "      <td>HD+ Displa</td>\n",
       "      <td>13MP + 2MP + 2MP |</td>\n",
       "      <td>MP | 5MP Front Camer</td>\n",
       "      <td>Mediatek Helio G35 Processor</td>\n",
       "      <td>5000 mAh Li-ion Polymer Battery</td>\n",
       "      <td>₹6,999</td>\n",
       "      <td>https://www.flipkart.com/realme-c11-rich-grey-...</td>\n",
       "    </tr>\n",
       "    <tr>\n",
       "      <th>4</th>\n",
       "      <td>POCO</td>\n",
       "      <td>POCO C3 (Lime Green, 64 GB)</td>\n",
       "      <td>4 GB RAM</td>\n",
       "      <td>(6.53 inc</td>\n",
       "      <td>16.59 cm</td>\n",
       "      <td>HD+ Displa</td>\n",
       "      <td>13MP + 2MP + 2MP |</td>\n",
       "      <td>MP | 5MP Front Camer</td>\n",
       "      <td>Mediatek Helio G35 Processor</td>\n",
       "      <td>5000 mAh Li-ion Polymer Battery</td>\n",
       "      <td>₹7,999</td>\n",
       "      <td>https://www.flipkart.com/realme-c11-rich-grey-...</td>\n",
       "    </tr>\n",
       "    <tr>\n",
       "      <th>5</th>\n",
       "      <td>POCO</td>\n",
       "      <td>POCO M3 (Cool Blue, 64 GB)</td>\n",
       "      <td>6 GB RAM</td>\n",
       "      <td>(6.53 inc</td>\n",
       "      <td>16.59 cm</td>\n",
       "      <td>HD+ Displa</td>\n",
       "      <td>48MP + 2MP + 2MP |</td>\n",
       "      <td>MP | 8MP Front Camer</td>\n",
       "      <td>Qualcomm Snapdragon 662 Processor</td>\n",
       "      <td>6000 mAh Lithium-ion Polymer Battery</td>\n",
       "      <td>₹10,999</td>\n",
       "      <td>https://www.flipkart.com/realme-c11-rich-grey-...</td>\n",
       "    </tr>\n",
       "    <tr>\n",
       "      <th>6</th>\n",
       "      <td>Redmi</td>\n",
       "      <td>Redmi 9i (Midnight Black, 64 GB)</td>\n",
       "      <td>4 GB RAM</td>\n",
       "      <td>(6.53 inc</td>\n",
       "      <td>16.59 cm</td>\n",
       "      <td>HD+ Displa</td>\n",
       "      <td>13MP Rear Camera |</td>\n",
       "      <td>ra | 5MP Front Camer</td>\n",
       "      <td>MediaTek Helio G25 Processor</td>\n",
       "      <td>5000 mAh Lithium Polymer Battery</td>\n",
       "      <td>₹7,999</td>\n",
       "      <td>https://www.flipkart.com/realme-c11-rich-grey-...</td>\n",
       "    </tr>\n",
       "    <tr>\n",
       "      <th>7</th>\n",
       "      <td>POCO</td>\n",
       "      <td>POCO M3 (Power Black, 64 GB)</td>\n",
       "      <td>6 GB RAM</td>\n",
       "      <td>(6.53 inc</td>\n",
       "      <td>16.59 cm</td>\n",
       "      <td>HD+ Displa</td>\n",
       "      <td>48MP + 2MP + 2MP |</td>\n",
       "      <td>MP | 8MP Front Camer</td>\n",
       "      <td>Qualcomm Snapdragon 662 Processor</td>\n",
       "      <td>6000 mAh Lithium-ion Polymer Battery</td>\n",
       "      <td>₹10,999</td>\n",
       "      <td>https://www.flipkart.com/realme-c11-rich-grey-...</td>\n",
       "    </tr>\n",
       "    <tr>\n",
       "      <th>8</th>\n",
       "      <td>POCO</td>\n",
       "      <td>POCO M2 Pro (Out of the Blue, 64 GB)</td>\n",
       "      <td>6 GB RAM</td>\n",
       "      <td>(6.67 inc</td>\n",
       "      <td>16.94 cm</td>\n",
       "      <td>HD+ Displa</td>\n",
       "      <td>48MP + 8MP + 5MP +</td>\n",
       "      <td>MP + 2MP | 16MP Fron</td>\n",
       "      <td>Qualcomm Snapdragon 720G Processor</td>\n",
       "      <td>5000 mAh Lithium-ion Polymer Battery</td>\n",
       "      <td>₹12,999</td>\n",
       "      <td>https://www.flipkart.com/realme-c11-rich-grey-...</td>\n",
       "    </tr>\n",
       "  </tbody>\n",
       "</table>\n",
       "</div>"
      ],
      "text/plain": [
       "  Brand_name            Smartphone_name_colour_RAM       RAM         ROM  \\\n",
       "0      Realm         Realme C11 (Rich Grey, 32 GB)  2 GB RAM   (6.5 inch   \n",
       "1      Realm        Realme C11 (Rich Green, 32 GB)  2 GB RAM   (6.5 inch   \n",
       "2      POCO           POCO C3 (Arctic Blue, 32 GB)  3 GB RAM   (6.53 inc   \n",
       "3      POCO           POCO C3 (Matte Black, 32 GB)  3 GB RAM   (6.53 inc   \n",
       "4      POCO            POCO C3 (Lime Green, 64 GB)  4 GB RAM   (6.53 inc   \n",
       "5      POCO             POCO M3 (Cool Blue, 64 GB)  6 GB RAM   (6.53 inc   \n",
       "6      Redmi      Redmi 9i (Midnight Black, 64 GB)  4 GB RAM   (6.53 inc   \n",
       "7      POCO           POCO M3 (Power Black, 64 GB)  6 GB RAM   (6.53 inc   \n",
       "8      POCO   POCO M2 Pro (Out of the Blue, 64 GB)  6 GB RAM   (6.67 inc   \n",
       "\n",
       "  Display_Size Display_resolution      Primary_Camera      Secondary_Camera  \\\n",
       "0     16.51 cm         HD+ Displa  13MP + 2MP | 5MP F       MP Front Camera   \n",
       "1     16.51 cm         HD+ Displa  13MP + 2MP | 5MP F       MP Front Camera   \n",
       "2     16.59 cm         HD+ Displa  13MP + 2MP + 2MP |  MP | 5MP Front Camer   \n",
       "3     16.59 cm         HD+ Displa  13MP + 2MP + 2MP |  MP | 5MP Front Camer   \n",
       "4     16.59 cm         HD+ Displa  13MP + 2MP + 2MP |  MP | 5MP Front Camer   \n",
       "5     16.59 cm         HD+ Displa  48MP + 2MP + 2MP |  MP | 8MP Front Camer   \n",
       "6     16.59 cm         HD+ Displa  13MP Rear Camera |  ra | 5MP Front Camer   \n",
       "7     16.59 cm         HD+ Displa  48MP + 2MP + 2MP |  MP | 8MP Front Camer   \n",
       "8     16.94 cm         HD+ Displa  48MP + 8MP + 5MP +  MP + 2MP | 16MP Fron   \n",
       "\n",
       "                      Processor_Cores                      Battery_Capacity  \\\n",
       "0        Mediatek Helio G35 Processor                      5000 mAh Battery   \n",
       "1        Mediatek Helio G35 Processor                      5000 mAh Battery   \n",
       "2        Mediatek Helio G35 Processor       5000 mAh Li-ion Polymer Battery   \n",
       "3        Mediatek Helio G35 Processor       5000 mAh Li-ion Polymer Battery   \n",
       "4        Mediatek Helio G35 Processor       5000 mAh Li-ion Polymer Battery   \n",
       "5   Qualcomm Snapdragon 662 Processor  6000 mAh Lithium-ion Polymer Battery   \n",
       "6        MediaTek Helio G25 Processor      5000 mAh Lithium Polymer Battery   \n",
       "7   Qualcomm Snapdragon 662 Processor  6000 mAh Lithium-ion Polymer Battery   \n",
       "8  Qualcomm Snapdragon 720G Processor  5000 mAh Lithium-ion Polymer Battery   \n",
       "\n",
       "     Price                                        Product_URL  \n",
       "0   ₹6,999  https://www.flipkart.com/realme-c11-rich-grey-...  \n",
       "1   ₹6,999  https://www.flipkart.com/realme-c11-rich-grey-...  \n",
       "2   ₹6,999  https://www.flipkart.com/realme-c11-rich-grey-...  \n",
       "3   ₹6,999  https://www.flipkart.com/realme-c11-rich-grey-...  \n",
       "4   ₹7,999  https://www.flipkart.com/realme-c11-rich-grey-...  \n",
       "5  ₹10,999  https://www.flipkart.com/realme-c11-rich-grey-...  \n",
       "6   ₹7,999  https://www.flipkart.com/realme-c11-rich-grey-...  \n",
       "7  ₹10,999  https://www.flipkart.com/realme-c11-rich-grey-...  \n",
       "8  ₹12,999  https://www.flipkart.com/realme-c11-rich-grey-...  "
      ]
     },
     "execution_count": 74,
     "metadata": {},
     "output_type": "execute_result"
    }
   ],
   "source": [
    "flipkart_phones"
   ]
  },
  {
   "cell_type": "code",
   "execution_count": 43,
   "metadata": {},
   "outputs": [],
   "source": [
    "#question 5"
   ]
  },
  {
   "cell_type": "code",
   "execution_count": 118,
   "metadata": {},
   "outputs": [],
   "source": [
    "import pandas as pd\n",
    "from bs4 import BeautifulSoup\n",
    "import requests\n",
    "import selenium\n",
    "from selenium import webdriver\n",
    "import time"
   ]
  },
  {
   "cell_type": "code",
   "execution_count": 119,
   "metadata": {},
   "outputs": [],
   "source": [
    "driver=webdriver.Chrome(\"Desktop/chromedriver.exe\")"
   ]
  },
  {
   "cell_type": "code",
   "execution_count": 120,
   "metadata": {},
   "outputs": [],
   "source": [
    "driver.get(\"https://www.google.co.in/maps/@19.6667543,78.5166615,14z\")"
   ]
  },
  {
   "cell_type": "code",
   "execution_count": 121,
   "metadata": {},
   "outputs": [],
   "source": [
    "search_city=driver.find_element_by_xpath(\"//*[@id='searchboxinput']\")\n",
    "search_city.send_keys(\"Hyderbad\")"
   ]
  },
  {
   "cell_type": "code",
   "execution_count": 122,
   "metadata": {},
   "outputs": [],
   "source": [
    "search_btn=driver.find_element_by_xpath(\"//*[@id='searchbox-searchbutton']\")\n",
    "search_btn.click()"
   ]
  },
  {
   "cell_type": "code",
   "execution_count": 123,
   "metadata": {},
   "outputs": [],
   "source": [
    "lat_lon=[]"
   ]
  },
  {
   "cell_type": "code",
   "execution_count": 124,
   "metadata": {},
   "outputs": [
    {
     "data": {
      "text/plain": [
       "[<selenium.webdriver.remote.webelement.WebElement (session=\"3cd2a79b7a9ec3a9ec6c547762ba6105\", element=\"35e3d3b3-d742-4a2e-8ef6-4cde553f17cf\")>]"
      ]
     },
     "execution_count": 124,
     "metadata": {},
     "output_type": "execute_result"
    }
   ],
   "source": [
    "titles_tag=driver.find_elements_by_xpath(\"//*[@id='reveal-card']\")\n",
    "titles_tag[0:9]"
   ]
  },
  {
   "cell_type": "code",
   "execution_count": 125,
   "metadata": {},
   "outputs": [
    {
     "data": {
      "text/plain": [
       "['Hyderabad\\nTelangana\\n17.403176, 78.451991']"
      ]
     },
     "execution_count": 125,
     "metadata": {},
     "output_type": "execute_result"
    }
   ],
   "source": [
    "for i in titles_tag:\n",
    "    lat_lon.append(i.text)\n",
    "lat_lon[0:9]"
   ]
  },
  {
   "cell_type": "code",
   "execution_count": 52,
   "metadata": {},
   "outputs": [],
   "source": [
    "#question 6"
   ]
  },
  {
   "cell_type": "code",
   "execution_count": 53,
   "metadata": {},
   "outputs": [],
   "source": [
    "import pandas as pd\n",
    "from bs4 import BeautifulSoup\n",
    "import requests\n",
    "import selenium\n",
    "from selenium import webdriver\n",
    "import time"
   ]
  },
  {
   "cell_type": "code",
   "execution_count": 54,
   "metadata": {},
   "outputs": [],
   "source": [
    "driver=webdriver.Chrome(\"Desktop/chromedriver.exe\")"
   ]
  },
  {
   "cell_type": "code",
   "execution_count": 55,
   "metadata": {},
   "outputs": [],
   "source": [
    "driver.get(\"https://www.trak.in/\")"
   ]
  },
  {
   "cell_type": "code",
   "execution_count": 56,
   "metadata": {},
   "outputs": [],
   "source": [
    "url=\"https://trak.in/india-startup-funding-investment-2015/\""
   ]
  },
  {
   "cell_type": "code",
   "execution_count": 57,
   "metadata": {},
   "outputs": [],
   "source": [
    "driver.get(url)"
   ]
  },
  {
   "cell_type": "code",
   "execution_count": 59,
   "metadata": {},
   "outputs": [
    {
     "data": {
      "text/plain": [
       "[<selenium.webdriver.remote.webelement.WebElement (session=\"4964ff223a3d30b550e7452d48bfd655\", element=\"e851e0ab-d8c3-4a4f-abb8-78fa6944daab\")>]"
      ]
     },
     "execution_count": 59,
     "metadata": {},
     "output_type": "execute_result"
    }
   ],
   "source": [
    "date_tag=driver.find_elements_by_xpath(\"//*[@id='tablepress-48_wrapper']\")\n",
    "date_tag[0:1]\n",
    "date_tag=driver.find_elements_by_xpath(\"//*[@id='tablepress-49_wrapper']\")\n",
    "date_tag[0:1]\n",
    "date_tag=driver.find_elements_by_xpath(\"//*[@id='tablepress-50_wrapper']\")\n",
    "date_tag[0:1]"
   ]
  },
  {
   "cell_type": "code",
   "execution_count": 63,
   "metadata": {},
   "outputs": [],
   "source": [
    "#question 7"
   ]
  },
  {
   "cell_type": "code",
   "execution_count": 130,
   "metadata": {},
   "outputs": [],
   "source": [
    "import pandas as pd\n",
    "from bs4 import BeautifulSoup\n",
    "import requests\n",
    "import selenium\n",
    "from selenium import webdriver\n",
    "import time"
   ]
  },
  {
   "cell_type": "code",
   "execution_count": 131,
   "metadata": {},
   "outputs": [],
   "source": [
    "driver=webdriver.Chrome(\"Desktop/chromedriver.exe\")"
   ]
  },
  {
   "cell_type": "code",
   "execution_count": 132,
   "metadata": {},
   "outputs": [],
   "source": [
    "driver.get(\"https://www.digit.in/\")"
   ]
  },
  {
   "cell_type": "code",
   "execution_count": 133,
   "metadata": {},
   "outputs": [],
   "source": [
    "driver.get(\"https://www.digit.in/top-products/best-gaming-desktop-in-india-3605.html\")"
   ]
  },
  {
   "cell_type": "code",
   "execution_count": 134,
   "metadata": {},
   "outputs": [],
   "source": [
    "driver.get(url)"
   ]
  },
  {
   "cell_type": "code",
   "execution_count": 135,
   "metadata": {},
   "outputs": [],
   "source": [
    "lapy1=[]\n",
    "lapy2=[]\n",
    "lapy3=[]\n",
    "lapy4=[]\n",
    "lapy5=[]\n",
    "lapy6=[]"
   ]
  },
  {
   "cell_type": "code",
   "execution_count": 138,
   "metadata": {},
   "outputs": [
    {
     "data": {
      "text/plain": [
       "[<selenium.webdriver.remote.webelement.WebElement (session=\"169503022b65b3782a204c87ac287d81\", element=\"fdaaf7ef-73db-46ee-891f-e9211d50bdf2\")>]"
      ]
     },
     "execution_count": 138,
     "metadata": {},
     "output_type": "execute_result"
    }
   ],
   "source": [
    "lapy1_tag=driver.find_elements_by_xpath(\"//*[@id='toptenIdevent1']/a/h3\")\n",
    "lapy1_tag[0:1]    "
   ]
  },
  {
   "cell_type": "code",
   "execution_count": 139,
   "metadata": {},
   "outputs": [
    {
     "data": {
      "text/plain": [
       "['MSI INFINITEX PLUS (9SF-270US)']"
      ]
     },
     "execution_count": 139,
     "metadata": {},
     "output_type": "execute_result"
    }
   ],
   "source": [
    "for i in lapy1_tag:\n",
    "    lapy1.append(i.text)\n",
    "lapy1[0:1]"
   ]
  },
  {
   "cell_type": "code",
   "execution_count": 140,
   "metadata": {},
   "outputs": [
    {
     "data": {
      "text/plain": [
       "[<selenium.webdriver.remote.webelement.WebElement (session=\"169503022b65b3782a204c87ac287d81\", element=\"a0804605-9161-4a55-8384-e030a4798f16\")>]"
      ]
     },
     "execution_count": 140,
     "metadata": {},
     "output_type": "execute_result"
    }
   ],
   "source": [
    "lapy2_tag=driver.find_elements_by_xpath(\"//*[@id='toptenIdevent2']/a/h3\")\n",
    "lapy2_tag[0:1]  "
   ]
  },
  {
   "cell_type": "code",
   "execution_count": 141,
   "metadata": {},
   "outputs": [
    {
     "data": {
      "text/plain": [
       "['ROG STRIX GA35 (G35DX-IN003T)']"
      ]
     },
     "execution_count": 141,
     "metadata": {},
     "output_type": "execute_result"
    }
   ],
   "source": [
    "for i in lapy2_tag:\n",
    "    lapy2.append(i.text)\n",
    "lapy2[0:1]"
   ]
  },
  {
   "cell_type": "code",
   "execution_count": 142,
   "metadata": {},
   "outputs": [
    {
     "data": {
      "text/plain": [
       "[<selenium.webdriver.remote.webelement.WebElement (session=\"169503022b65b3782a204c87ac287d81\", element=\"38785902-89b7-490d-9325-8cf99c15cee2\")>]"
      ]
     },
     "execution_count": 142,
     "metadata": {},
     "output_type": "execute_result"
    }
   ],
   "source": [
    "lapy3_tag=driver.find_elements_by_xpath(\"//*[@id='toptenIdevent3']/a/h3\")\n",
    "lapy3_tag[0:1]   "
   ]
  },
  {
   "cell_type": "code",
   "execution_count": 143,
   "metadata": {},
   "outputs": [
    {
     "data": {
      "text/plain": [
       "['PREDATOR ORION 9000 PO9-900']"
      ]
     },
     "execution_count": 143,
     "metadata": {},
     "output_type": "execute_result"
    }
   ],
   "source": [
    "for i in lapy3_tag:\n",
    "    lapy3.append(i.text)\n",
    "lapy3[0:1]"
   ]
  },
  {
   "cell_type": "code",
   "execution_count": 144,
   "metadata": {},
   "outputs": [
    {
     "data": {
      "text/plain": [
       "[<selenium.webdriver.remote.webelement.WebElement (session=\"169503022b65b3782a204c87ac287d81\", element=\"3faae45f-26e6-454e-9554-f355ca286df9\")>]"
      ]
     },
     "execution_count": 144,
     "metadata": {},
     "output_type": "execute_result"
    }
   ],
   "source": [
    "lapy4_tag=driver.find_elements_by_xpath(\"//*[@id='toptenIdevent4']/a/h3\")\n",
    "lapy4_tag[0:1]  "
   ]
  },
  {
   "cell_type": "code",
   "execution_count": 145,
   "metadata": {},
   "outputs": [
    {
     "data": {
      "text/plain": [
       "['LEGION T530 (90L300NYIN)']"
      ]
     },
     "execution_count": 145,
     "metadata": {},
     "output_type": "execute_result"
    }
   ],
   "source": [
    "for i in lapy4_tag:\n",
    "    lapy4.append(i.text)\n",
    "lapy4[0:1]"
   ]
  },
  {
   "cell_type": "code",
   "execution_count": 146,
   "metadata": {},
   "outputs": [
    {
     "data": {
      "text/plain": [
       "[<selenium.webdriver.remote.webelement.WebElement (session=\"169503022b65b3782a204c87ac287d81\", element=\"76154e53-b95b-4906-888d-d0f99e2d07d5\")>]"
      ]
     },
     "execution_count": 146,
     "metadata": {},
     "output_type": "execute_result"
    }
   ],
   "source": [
    "lapy5_tag=driver.find_elements_by_xpath(\"//*[@id='toptenIdevent5']/a/h3\")\n",
    "lapy5_tag[0:1]  "
   ]
  },
  {
   "cell_type": "code",
   "execution_count": 147,
   "metadata": {},
   "outputs": [
    {
     "data": {
      "text/plain": [
       "['INSPIRON G5 GAMING DESKTOP']"
      ]
     },
     "execution_count": 147,
     "metadata": {},
     "output_type": "execute_result"
    }
   ],
   "source": [
    "for i in lapy5_tag:\n",
    "    lapy5.append(i.text)\n",
    "lapy5[0:1]"
   ]
  },
  {
   "cell_type": "code",
   "execution_count": 148,
   "metadata": {},
   "outputs": [
    {
     "data": {
      "text/plain": [
       "[<selenium.webdriver.remote.webelement.WebElement (session=\"169503022b65b3782a204c87ac287d81\", element=\"34a023e5-55b7-488a-bb8a-97c22c66cb52\")>]"
      ]
     },
     "execution_count": 148,
     "metadata": {},
     "output_type": "execute_result"
    }
   ],
   "source": [
    "lapy6_tag=driver.find_elements_by_xpath(\"//*[@id='toptenIdevent6']/a/h3\")\n",
    "lapy6_tag[0:1]  "
   ]
  },
  {
   "cell_type": "code",
   "execution_count": 149,
   "metadata": {},
   "outputs": [
    {
     "data": {
      "text/plain": [
       "['OMEN X COMPACT DESKTOP (P1000-013IN)']"
      ]
     },
     "execution_count": 149,
     "metadata": {},
     "output_type": "execute_result"
    }
   ],
   "source": [
    "for i in lapy6_tag:\n",
    "    lapy6.append(i.text)\n",
    "lapy6[0:1]"
   ]
  },
  {
   "cell_type": "code",
   "execution_count": null,
   "metadata": {},
   "outputs": [],
   "source": []
  }
 ],
 "metadata": {
  "kernelspec": {
   "display_name": "Python 3",
   "language": "python",
   "name": "python3"
  },
  "language_info": {
   "codemirror_mode": {
    "name": "ipython",
    "version": 3
   },
   "file_extension": ".py",
   "mimetype": "text/x-python",
   "name": "python",
   "nbconvert_exporter": "python",
   "pygments_lexer": "ipython3",
   "version": "3.8.3"
  }
 },
 "nbformat": 4,
 "nbformat_minor": 4
}
